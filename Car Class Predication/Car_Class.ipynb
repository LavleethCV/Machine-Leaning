{
 "cells": [
  {
   "cell_type": "code",
   "execution_count": 1,
   "metadata": {},
   "outputs": [],
   "source": [
    "import pandas as pd"
   ]
  },
  {
   "cell_type": "code",
   "execution_count": 2,
   "metadata": {},
   "outputs": [],
   "source": [
    "data = pd.read_csv(\"D:/Datasets/cars_class.csv\")\n"
   ]
  },
  {
   "attachments": {},
   "cell_type": "markdown",
   "metadata": {},
   "source": [
    "Comp: Compactness\n",
    "Circ: Circularity\n",
    "D.Circ: Distance Circularity\n",
    "Rad.Ra: Radius ratio\n",
    "Pr.Axis.Ra: pr.axis aspect ratio\n",
    "Max.L.Ra: max.length aspect ratio\n",
    "Scat.Ra: scatter ratio\n",
    "Elong: elongatedness\n",
    "Pr.Axis.Rect: pr.axis rectangularity\n",
    "Max.L.Rect: max.length rectangularity\n",
    "Sc.Var.Maxis: scaled variance along major axis\n",
    "Sc.Var.maxis: scaled variance along minor axis\n",
    "Ra.Gyr: scaled radius of gyration\n",
    "Skew.Maxis: skewness about major axis\n",
    "Skew.maxis: skewness about minor axis\n",
    "Kurt.maxis: kurtosis about minor axis\n",
    "Kurt.Maxis: kurtosis about major axis\n",
    "Holl.Ra: hollows ratio"
   ]
  },
  {
   "cell_type": "code",
   "execution_count": 3,
   "metadata": {},
   "outputs": [
    {
     "data": {
      "text/html": [
       "<div>\n",
       "<style scoped>\n",
       "    .dataframe tbody tr th:only-of-type {\n",
       "        vertical-align: middle;\n",
       "    }\n",
       "\n",
       "    .dataframe tbody tr th {\n",
       "        vertical-align: top;\n",
       "    }\n",
       "\n",
       "    .dataframe thead th {\n",
       "        text-align: right;\n",
       "    }\n",
       "</style>\n",
       "<table border=\"1\" class=\"dataframe\">\n",
       "  <thead>\n",
       "    <tr style=\"text-align: right;\">\n",
       "      <th></th>\n",
       "      <th>ID</th>\n",
       "      <th>Comp</th>\n",
       "      <th>Circ</th>\n",
       "      <th>D.Circ</th>\n",
       "      <th>Rad.Ra</th>\n",
       "      <th>Pr.Axis.Ra</th>\n",
       "      <th>Max.L.Ra</th>\n",
       "      <th>Scat.Ra</th>\n",
       "      <th>Elong</th>\n",
       "      <th>Pr.Axis.Rect</th>\n",
       "      <th>Max.L.Rect</th>\n",
       "      <th>Sc.Var.Maxis</th>\n",
       "      <th>Sc.Var.maxis</th>\n",
       "      <th>Ra.Gyr</th>\n",
       "      <th>Skew.Maxis</th>\n",
       "      <th>Skew.maxis</th>\n",
       "      <th>Kurt.maxis</th>\n",
       "      <th>Kurt.Maxis</th>\n",
       "      <th>Holl.Ra</th>\n",
       "      <th>Class</th>\n",
       "    </tr>\n",
       "  </thead>\n",
       "  <tbody>\n",
       "    <tr>\n",
       "      <th>0</th>\n",
       "      <td>1</td>\n",
       "      <td>88</td>\n",
       "      <td>39</td>\n",
       "      <td>70</td>\n",
       "      <td>166</td>\n",
       "      <td>66</td>\n",
       "      <td>7</td>\n",
       "      <td>148</td>\n",
       "      <td>44</td>\n",
       "      <td>19</td>\n",
       "      <td>134</td>\n",
       "      <td>167</td>\n",
       "      <td>332</td>\n",
       "      <td>143</td>\n",
       "      <td>69</td>\n",
       "      <td>5</td>\n",
       "      <td>13</td>\n",
       "      <td>193</td>\n",
       "      <td>201</td>\n",
       "      <td>0</td>\n",
       "    </tr>\n",
       "    <tr>\n",
       "      <th>1</th>\n",
       "      <td>2</td>\n",
       "      <td>85</td>\n",
       "      <td>35</td>\n",
       "      <td>64</td>\n",
       "      <td>129</td>\n",
       "      <td>57</td>\n",
       "      <td>6</td>\n",
       "      <td>116</td>\n",
       "      <td>57</td>\n",
       "      <td>17</td>\n",
       "      <td>125</td>\n",
       "      <td>138</td>\n",
       "      <td>200</td>\n",
       "      <td>123</td>\n",
       "      <td>65</td>\n",
       "      <td>1</td>\n",
       "      <td>23</td>\n",
       "      <td>196</td>\n",
       "      <td>203</td>\n",
       "      <td>3</td>\n",
       "    </tr>\n",
       "    <tr>\n",
       "      <th>2</th>\n",
       "      <td>3</td>\n",
       "      <td>91</td>\n",
       "      <td>41</td>\n",
       "      <td>84</td>\n",
       "      <td>141</td>\n",
       "      <td>57</td>\n",
       "      <td>9</td>\n",
       "      <td>149</td>\n",
       "      <td>45</td>\n",
       "      <td>19</td>\n",
       "      <td>143</td>\n",
       "      <td>170</td>\n",
       "      <td>330</td>\n",
       "      <td>158</td>\n",
       "      <td>72</td>\n",
       "      <td>9</td>\n",
       "      <td>14</td>\n",
       "      <td>189</td>\n",
       "      <td>199</td>\n",
       "      <td>3</td>\n",
       "    </tr>\n",
       "    <tr>\n",
       "      <th>3</th>\n",
       "      <td>4</td>\n",
       "      <td>102</td>\n",
       "      <td>54</td>\n",
       "      <td>98</td>\n",
       "      <td>177</td>\n",
       "      <td>56</td>\n",
       "      <td>10</td>\n",
       "      <td>219</td>\n",
       "      <td>31</td>\n",
       "      <td>25</td>\n",
       "      <td>171</td>\n",
       "      <td>219</td>\n",
       "      <td>706</td>\n",
       "      <td>223</td>\n",
       "      <td>72</td>\n",
       "      <td>5</td>\n",
       "      <td>17</td>\n",
       "      <td>186</td>\n",
       "      <td>196</td>\n",
       "      <td>1</td>\n",
       "    </tr>\n",
       "    <tr>\n",
       "      <th>4</th>\n",
       "      <td>5</td>\n",
       "      <td>87</td>\n",
       "      <td>39</td>\n",
       "      <td>74</td>\n",
       "      <td>152</td>\n",
       "      <td>58</td>\n",
       "      <td>6</td>\n",
       "      <td>151</td>\n",
       "      <td>44</td>\n",
       "      <td>19</td>\n",
       "      <td>136</td>\n",
       "      <td>174</td>\n",
       "      <td>337</td>\n",
       "      <td>140</td>\n",
       "      <td>70</td>\n",
       "      <td>1</td>\n",
       "      <td>33</td>\n",
       "      <td>187</td>\n",
       "      <td>196</td>\n",
       "      <td>2</td>\n",
       "    </tr>\n",
       "    <tr>\n",
       "      <th>5</th>\n",
       "      <td>6</td>\n",
       "      <td>95</td>\n",
       "      <td>46</td>\n",
       "      <td>76</td>\n",
       "      <td>162</td>\n",
       "      <td>66</td>\n",
       "      <td>11</td>\n",
       "      <td>162</td>\n",
       "      <td>42</td>\n",
       "      <td>20</td>\n",
       "      <td>155</td>\n",
       "      <td>175</td>\n",
       "      <td>381</td>\n",
       "      <td>172</td>\n",
       "      <td>74</td>\n",
       "      <td>8</td>\n",
       "      <td>4</td>\n",
       "      <td>184</td>\n",
       "      <td>193</td>\n",
       "      <td>3</td>\n",
       "    </tr>\n",
       "    <tr>\n",
       "      <th>6</th>\n",
       "      <td>7</td>\n",
       "      <td>97</td>\n",
       "      <td>35</td>\n",
       "      <td>66</td>\n",
       "      <td>151</td>\n",
       "      <td>64</td>\n",
       "      <td>8</td>\n",
       "      <td>128</td>\n",
       "      <td>52</td>\n",
       "      <td>18</td>\n",
       "      <td>129</td>\n",
       "      <td>148</td>\n",
       "      <td>246</td>\n",
       "      <td>112</td>\n",
       "      <td>66</td>\n",
       "      <td>6</td>\n",
       "      <td>2</td>\n",
       "      <td>195</td>\n",
       "      <td>200</td>\n",
       "      <td>3</td>\n",
       "    </tr>\n",
       "    <tr>\n",
       "      <th>7</th>\n",
       "      <td>8</td>\n",
       "      <td>96</td>\n",
       "      <td>37</td>\n",
       "      <td>74</td>\n",
       "      <td>199</td>\n",
       "      <td>74</td>\n",
       "      <td>5</td>\n",
       "      <td>165</td>\n",
       "      <td>39</td>\n",
       "      <td>20</td>\n",
       "      <td>128</td>\n",
       "      <td>188</td>\n",
       "      <td>419</td>\n",
       "      <td>136</td>\n",
       "      <td>72</td>\n",
       "      <td>1</td>\n",
       "      <td>3</td>\n",
       "      <td>196</td>\n",
       "      <td>200</td>\n",
       "      <td>0</td>\n",
       "    </tr>\n",
       "    <tr>\n",
       "      <th>8</th>\n",
       "      <td>9</td>\n",
       "      <td>107</td>\n",
       "      <td>55</td>\n",
       "      <td>98</td>\n",
       "      <td>199</td>\n",
       "      <td>59</td>\n",
       "      <td>7</td>\n",
       "      <td>240</td>\n",
       "      <td>27</td>\n",
       "      <td>26</td>\n",
       "      <td>168</td>\n",
       "      <td>258</td>\n",
       "      <td>866</td>\n",
       "      <td>245</td>\n",
       "      <td>80</td>\n",
       "      <td>3</td>\n",
       "      <td>1</td>\n",
       "      <td>186</td>\n",
       "      <td>184</td>\n",
       "      <td>0</td>\n",
       "    </tr>\n",
       "    <tr>\n",
       "      <th>9</th>\n",
       "      <td>10</td>\n",
       "      <td>86</td>\n",
       "      <td>38</td>\n",
       "      <td>89</td>\n",
       "      <td>176</td>\n",
       "      <td>59</td>\n",
       "      <td>9</td>\n",
       "      <td>169</td>\n",
       "      <td>39</td>\n",
       "      <td>20</td>\n",
       "      <td>132</td>\n",
       "      <td>190</td>\n",
       "      <td>428</td>\n",
       "      <td>148</td>\n",
       "      <td>67</td>\n",
       "      <td>7</td>\n",
       "      <td>33</td>\n",
       "      <td>193</td>\n",
       "      <td>202</td>\n",
       "      <td>1</td>\n",
       "    </tr>\n",
       "    <tr>\n",
       "      <th>10</th>\n",
       "      <td>11</td>\n",
       "      <td>89</td>\n",
       "      <td>40</td>\n",
       "      <td>58</td>\n",
       "      <td>137</td>\n",
       "      <td>58</td>\n",
       "      <td>7</td>\n",
       "      <td>122</td>\n",
       "      <td>54</td>\n",
       "      <td>17</td>\n",
       "      <td>140</td>\n",
       "      <td>146</td>\n",
       "      <td>225</td>\n",
       "      <td>150</td>\n",
       "      <td>63</td>\n",
       "      <td>7</td>\n",
       "      <td>4</td>\n",
       "      <td>199</td>\n",
       "      <td>206</td>\n",
       "      <td>3</td>\n",
       "    </tr>\n",
       "    <tr>\n",
       "      <th>11</th>\n",
       "      <td>12</td>\n",
       "      <td>92</td>\n",
       "      <td>46</td>\n",
       "      <td>83</td>\n",
       "      <td>154</td>\n",
       "      <td>56</td>\n",
       "      <td>6</td>\n",
       "      <td>160</td>\n",
       "      <td>41</td>\n",
       "      <td>20</td>\n",
       "      <td>148</td>\n",
       "      <td>185</td>\n",
       "      <td>382</td>\n",
       "      <td>184</td>\n",
       "      <td>71</td>\n",
       "      <td>10</td>\n",
       "      <td>5</td>\n",
       "      <td>186</td>\n",
       "      <td>191</td>\n",
       "      <td>2</td>\n",
       "    </tr>\n",
       "    <tr>\n",
       "      <th>12</th>\n",
       "      <td>13</td>\n",
       "      <td>88</td>\n",
       "      <td>40</td>\n",
       "      <td>78</td>\n",
       "      <td>186</td>\n",
       "      <td>73</td>\n",
       "      <td>6</td>\n",
       "      <td>158</td>\n",
       "      <td>41</td>\n",
       "      <td>20</td>\n",
       "      <td>134</td>\n",
       "      <td>185</td>\n",
       "      <td>379</td>\n",
       "      <td>148</td>\n",
       "      <td>73</td>\n",
       "      <td>1</td>\n",
       "      <td>11</td>\n",
       "      <td>193</td>\n",
       "      <td>197</td>\n",
       "      <td>0</td>\n",
       "    </tr>\n",
       "    <tr>\n",
       "      <th>13</th>\n",
       "      <td>14</td>\n",
       "      <td>97</td>\n",
       "      <td>45</td>\n",
       "      <td>76</td>\n",
       "      <td>175</td>\n",
       "      <td>60</td>\n",
       "      <td>9</td>\n",
       "      <td>157</td>\n",
       "      <td>42</td>\n",
       "      <td>20</td>\n",
       "      <td>149</td>\n",
       "      <td>180</td>\n",
       "      <td>370</td>\n",
       "      <td>169</td>\n",
       "      <td>63</td>\n",
       "      <td>16</td>\n",
       "      <td>12</td>\n",
       "      <td>198</td>\n",
       "      <td>206</td>\n",
       "      <td>2</td>\n",
       "    </tr>\n",
       "    <tr>\n",
       "      <th>14</th>\n",
       "      <td>15</td>\n",
       "      <td>85</td>\n",
       "      <td>36</td>\n",
       "      <td>78</td>\n",
       "      <td>149</td>\n",
       "      <td>55</td>\n",
       "      <td>7</td>\n",
       "      <td>147</td>\n",
       "      <td>45</td>\n",
       "      <td>19</td>\n",
       "      <td>128</td>\n",
       "      <td>168</td>\n",
       "      <td>321</td>\n",
       "      <td>134</td>\n",
       "      <td>64</td>\n",
       "      <td>10</td>\n",
       "      <td>24</td>\n",
       "      <td>197</td>\n",
       "      <td>203</td>\n",
       "      <td>1</td>\n",
       "    </tr>\n",
       "    <tr>\n",
       "      <th>15</th>\n",
       "      <td>16</td>\n",
       "      <td>104</td>\n",
       "      <td>55</td>\n",
       "      <td>109</td>\n",
       "      <td>230</td>\n",
       "      <td>67</td>\n",
       "      <td>12</td>\n",
       "      <td>218</td>\n",
       "      <td>30</td>\n",
       "      <td>24</td>\n",
       "      <td>174</td>\n",
       "      <td>230</td>\n",
       "      <td>706</td>\n",
       "      <td>226</td>\n",
       "      <td>67</td>\n",
       "      <td>8</td>\n",
       "      <td>22</td>\n",
       "      <td>191</td>\n",
       "      <td>202</td>\n",
       "      <td>1</td>\n",
       "    </tr>\n",
       "    <tr>\n",
       "      <th>16</th>\n",
       "      <td>17</td>\n",
       "      <td>81</td>\n",
       "      <td>46</td>\n",
       "      <td>71</td>\n",
       "      <td>141</td>\n",
       "      <td>61</td>\n",
       "      <td>7</td>\n",
       "      <td>153</td>\n",
       "      <td>44</td>\n",
       "      <td>19</td>\n",
       "      <td>148</td>\n",
       "      <td>177</td>\n",
       "      <td>347</td>\n",
       "      <td>190</td>\n",
       "      <td>80</td>\n",
       "      <td>1</td>\n",
       "      <td>14</td>\n",
       "      <td>182</td>\n",
       "      <td>187</td>\n",
       "      <td>0</td>\n",
       "    </tr>\n",
       "    <tr>\n",
       "      <th>17</th>\n",
       "      <td>18</td>\n",
       "      <td>87</td>\n",
       "      <td>36</td>\n",
       "      <td>53</td>\n",
       "      <td>117</td>\n",
       "      <td>58</td>\n",
       "      <td>4</td>\n",
       "      <td>118</td>\n",
       "      <td>57</td>\n",
       "      <td>17</td>\n",
       "      <td>125</td>\n",
       "      <td>138</td>\n",
       "      <td>205</td>\n",
       "      <td>138</td>\n",
       "      <td>85</td>\n",
       "      <td>9</td>\n",
       "      <td>15</td>\n",
       "      <td>180</td>\n",
       "      <td>183</td>\n",
       "      <td>3</td>\n",
       "    </tr>\n",
       "    <tr>\n",
       "      <th>18</th>\n",
       "      <td>19</td>\n",
       "      <td>94</td>\n",
       "      <td>45</td>\n",
       "      <td>89</td>\n",
       "      <td>213</td>\n",
       "      <td>71</td>\n",
       "      <td>5</td>\n",
       "      <td>186</td>\n",
       "      <td>35</td>\n",
       "      <td>22</td>\n",
       "      <td>145</td>\n",
       "      <td>204</td>\n",
       "      <td>533</td>\n",
       "      <td>182</td>\n",
       "      <td>71</td>\n",
       "      <td>4</td>\n",
       "      <td>13</td>\n",
       "      <td>195</td>\n",
       "      <td>198</td>\n",
       "      <td>0</td>\n",
       "    </tr>\n",
       "    <tr>\n",
       "      <th>19</th>\n",
       "      <td>20</td>\n",
       "      <td>93</td>\n",
       "      <td>46</td>\n",
       "      <td>82</td>\n",
       "      <td>145</td>\n",
       "      <td>58</td>\n",
       "      <td>11</td>\n",
       "      <td>159</td>\n",
       "      <td>43</td>\n",
       "      <td>20</td>\n",
       "      <td>160</td>\n",
       "      <td>180</td>\n",
       "      <td>371</td>\n",
       "      <td>189</td>\n",
       "      <td>77</td>\n",
       "      <td>2</td>\n",
       "      <td>4</td>\n",
       "      <td>183</td>\n",
       "      <td>194</td>\n",
       "      <td>3</td>\n",
       "    </tr>\n",
       "  </tbody>\n",
       "</table>\n",
       "</div>"
      ],
      "text/plain": [
       "    ID  Comp  Circ  D.Circ  Rad.Ra  Pr.Axis.Ra  Max.L.Ra  Scat.Ra  Elong  \\\n",
       "0    1    88    39      70     166          66         7      148     44   \n",
       "1    2    85    35      64     129          57         6      116     57   \n",
       "2    3    91    41      84     141          57         9      149     45   \n",
       "3    4   102    54      98     177          56        10      219     31   \n",
       "4    5    87    39      74     152          58         6      151     44   \n",
       "5    6    95    46      76     162          66        11      162     42   \n",
       "6    7    97    35      66     151          64         8      128     52   \n",
       "7    8    96    37      74     199          74         5      165     39   \n",
       "8    9   107    55      98     199          59         7      240     27   \n",
       "9   10    86    38      89     176          59         9      169     39   \n",
       "10  11    89    40      58     137          58         7      122     54   \n",
       "11  12    92    46      83     154          56         6      160     41   \n",
       "12  13    88    40      78     186          73         6      158     41   \n",
       "13  14    97    45      76     175          60         9      157     42   \n",
       "14  15    85    36      78     149          55         7      147     45   \n",
       "15  16   104    55     109     230          67        12      218     30   \n",
       "16  17    81    46      71     141          61         7      153     44   \n",
       "17  18    87    36      53     117          58         4      118     57   \n",
       "18  19    94    45      89     213          71         5      186     35   \n",
       "19  20    93    46      82     145          58        11      159     43   \n",
       "\n",
       "    Pr.Axis.Rect  Max.L.Rect  Sc.Var.Maxis  Sc.Var.maxis  Ra.Gyr  Skew.Maxis  \\\n",
       "0             19         134           167           332     143          69   \n",
       "1             17         125           138           200     123          65   \n",
       "2             19         143           170           330     158          72   \n",
       "3             25         171           219           706     223          72   \n",
       "4             19         136           174           337     140          70   \n",
       "5             20         155           175           381     172          74   \n",
       "6             18         129           148           246     112          66   \n",
       "7             20         128           188           419     136          72   \n",
       "8             26         168           258           866     245          80   \n",
       "9             20         132           190           428     148          67   \n",
       "10            17         140           146           225     150          63   \n",
       "11            20         148           185           382     184          71   \n",
       "12            20         134           185           379     148          73   \n",
       "13            20         149           180           370     169          63   \n",
       "14            19         128           168           321     134          64   \n",
       "15            24         174           230           706     226          67   \n",
       "16            19         148           177           347     190          80   \n",
       "17            17         125           138           205     138          85   \n",
       "18            22         145           204           533     182          71   \n",
       "19            20         160           180           371     189          77   \n",
       "\n",
       "    Skew.maxis  Kurt.maxis  Kurt.Maxis  Holl.Ra  Class  \n",
       "0            5          13         193      201      0  \n",
       "1            1          23         196      203      3  \n",
       "2            9          14         189      199      3  \n",
       "3            5          17         186      196      1  \n",
       "4            1          33         187      196      2  \n",
       "5            8           4         184      193      3  \n",
       "6            6           2         195      200      3  \n",
       "7            1           3         196      200      0  \n",
       "8            3           1         186      184      0  \n",
       "9            7          33         193      202      1  \n",
       "10           7           4         199      206      3  \n",
       "11          10           5         186      191      2  \n",
       "12           1          11         193      197      0  \n",
       "13          16          12         198      206      2  \n",
       "14          10          24         197      203      1  \n",
       "15           8          22         191      202      1  \n",
       "16           1          14         182      187      0  \n",
       "17           9          15         180      183      3  \n",
       "18           4          13         195      198      0  \n",
       "19           2           4         183      194      3  "
      ]
     },
     "execution_count": 3,
     "metadata": {},
     "output_type": "execute_result"
    }
   ],
   "source": [
    "data.head(20)"
   ]
  },
  {
   "cell_type": "code",
   "execution_count": 4,
   "metadata": {},
   "outputs": [
    {
     "data": {
      "text/plain": [
       "Index(['ID', 'Comp', 'Circ', 'D.Circ', 'Rad.Ra', 'Pr.Axis.Ra', 'Max.L.Ra',\n",
       "       'Scat.Ra', 'Elong', 'Pr.Axis.Rect', 'Max.L.Rect', 'Sc.Var.Maxis',\n",
       "       'Sc.Var.maxis', 'Ra.Gyr', 'Skew.Maxis', 'Skew.maxis', 'Kurt.maxis',\n",
       "       'Kurt.Maxis', 'Holl.Ra', 'Class'],\n",
       "      dtype='object')"
      ]
     },
     "execution_count": 4,
     "metadata": {},
     "output_type": "execute_result"
    }
   ],
   "source": [
    "data.columns"
   ]
  },
  {
   "cell_type": "code",
   "execution_count": 5,
   "metadata": {},
   "outputs": [
    {
     "data": {
      "text/plain": [
       "(719, 20)"
      ]
     },
     "execution_count": 5,
     "metadata": {},
     "output_type": "execute_result"
    }
   ],
   "source": [
    "data.shape"
   ]
  },
  {
   "cell_type": "code",
   "execution_count": 6,
   "metadata": {},
   "outputs": [
    {
     "data": {
      "text/plain": [
       "ID              int64\n",
       "Comp            int64\n",
       "Circ            int64\n",
       "D.Circ          int64\n",
       "Rad.Ra          int64\n",
       "Pr.Axis.Ra      int64\n",
       "Max.L.Ra        int64\n",
       "Scat.Ra         int64\n",
       "Elong           int64\n",
       "Pr.Axis.Rect    int64\n",
       "Max.L.Rect      int64\n",
       "Sc.Var.Maxis    int64\n",
       "Sc.Var.maxis    int64\n",
       "Ra.Gyr          int64\n",
       "Skew.Maxis      int64\n",
       "Skew.maxis      int64\n",
       "Kurt.maxis      int64\n",
       "Kurt.Maxis      int64\n",
       "Holl.Ra         int64\n",
       "Class           int64\n",
       "dtype: object"
      ]
     },
     "execution_count": 6,
     "metadata": {},
     "output_type": "execute_result"
    }
   ],
   "source": [
    "data.dtypes"
   ]
  },
  {
   "cell_type": "code",
   "execution_count": 7,
   "metadata": {},
   "outputs": [
    {
     "data": {
      "text/html": [
       "<div>\n",
       "<style scoped>\n",
       "    .dataframe tbody tr th:only-of-type {\n",
       "        vertical-align: middle;\n",
       "    }\n",
       "\n",
       "    .dataframe tbody tr th {\n",
       "        vertical-align: top;\n",
       "    }\n",
       "\n",
       "    .dataframe thead th {\n",
       "        text-align: right;\n",
       "    }\n",
       "</style>\n",
       "<table border=\"1\" class=\"dataframe\">\n",
       "  <thead>\n",
       "    <tr style=\"text-align: right;\">\n",
       "      <th></th>\n",
       "      <th>ID</th>\n",
       "      <th>Comp</th>\n",
       "      <th>Circ</th>\n",
       "      <th>D.Circ</th>\n",
       "      <th>Rad.Ra</th>\n",
       "      <th>Pr.Axis.Ra</th>\n",
       "      <th>Max.L.Ra</th>\n",
       "      <th>Scat.Ra</th>\n",
       "      <th>Elong</th>\n",
       "      <th>Pr.Axis.Rect</th>\n",
       "      <th>Max.L.Rect</th>\n",
       "      <th>Sc.Var.Maxis</th>\n",
       "      <th>Sc.Var.maxis</th>\n",
       "      <th>Ra.Gyr</th>\n",
       "      <th>Skew.Maxis</th>\n",
       "      <th>Skew.maxis</th>\n",
       "      <th>Kurt.maxis</th>\n",
       "      <th>Kurt.Maxis</th>\n",
       "      <th>Holl.Ra</th>\n",
       "      <th>Class</th>\n",
       "    </tr>\n",
       "  </thead>\n",
       "  <tbody>\n",
       "    <tr>\n",
       "      <th>count</th>\n",
       "      <td>719.000000</td>\n",
       "      <td>719.000000</td>\n",
       "      <td>719.000000</td>\n",
       "      <td>719.000000</td>\n",
       "      <td>719.000000</td>\n",
       "      <td>719.000000</td>\n",
       "      <td>719.000000</td>\n",
       "      <td>719.000000</td>\n",
       "      <td>719.000000</td>\n",
       "      <td>719.000000</td>\n",
       "      <td>719.000000</td>\n",
       "      <td>719.000000</td>\n",
       "      <td>719.000000</td>\n",
       "      <td>719.000000</td>\n",
       "      <td>719.000000</td>\n",
       "      <td>719.000000</td>\n",
       "      <td>719.000000</td>\n",
       "      <td>719.000000</td>\n",
       "      <td>719.000000</td>\n",
       "      <td>719.000000</td>\n",
       "    </tr>\n",
       "    <tr>\n",
       "      <th>mean</th>\n",
       "      <td>360.000000</td>\n",
       "      <td>93.435327</td>\n",
       "      <td>44.851182</td>\n",
       "      <td>81.723227</td>\n",
       "      <td>168.579972</td>\n",
       "      <td>61.847010</td>\n",
       "      <td>8.625869</td>\n",
       "      <td>168.137691</td>\n",
       "      <td>41.075104</td>\n",
       "      <td>20.531293</td>\n",
       "      <td>148.030598</td>\n",
       "      <td>188.168289</td>\n",
       "      <td>436.215577</td>\n",
       "      <td>174.726008</td>\n",
       "      <td>72.682893</td>\n",
       "      <td>6.343533</td>\n",
       "      <td>12.394993</td>\n",
       "      <td>188.798331</td>\n",
       "      <td>195.407510</td>\n",
       "      <td>1.470097</td>\n",
       "    </tr>\n",
       "    <tr>\n",
       "      <th>std</th>\n",
       "      <td>207.701709</td>\n",
       "      <td>8.111406</td>\n",
       "      <td>6.150286</td>\n",
       "      <td>15.528208</td>\n",
       "      <td>33.809172</td>\n",
       "      <td>8.259136</td>\n",
       "      <td>4.916908</td>\n",
       "      <td>32.937591</td>\n",
       "      <td>7.764459</td>\n",
       "      <td>2.560969</td>\n",
       "      <td>14.560092</td>\n",
       "      <td>31.235395</td>\n",
       "      <td>174.964977</td>\n",
       "      <td>32.149568</td>\n",
       "      <td>7.542055</td>\n",
       "      <td>4.856169</td>\n",
       "      <td>8.742511</td>\n",
       "      <td>6.048522</td>\n",
       "      <td>7.235166</td>\n",
       "      <td>1.126477</td>\n",
       "    </tr>\n",
       "    <tr>\n",
       "      <th>min</th>\n",
       "      <td>1.000000</td>\n",
       "      <td>73.000000</td>\n",
       "      <td>33.000000</td>\n",
       "      <td>40.000000</td>\n",
       "      <td>105.000000</td>\n",
       "      <td>47.000000</td>\n",
       "      <td>2.000000</td>\n",
       "      <td>112.000000</td>\n",
       "      <td>26.000000</td>\n",
       "      <td>17.000000</td>\n",
       "      <td>118.000000</td>\n",
       "      <td>130.000000</td>\n",
       "      <td>184.000000</td>\n",
       "      <td>109.000000</td>\n",
       "      <td>59.000000</td>\n",
       "      <td>0.000000</td>\n",
       "      <td>0.000000</td>\n",
       "      <td>176.000000</td>\n",
       "      <td>181.000000</td>\n",
       "      <td>0.000000</td>\n",
       "    </tr>\n",
       "    <tr>\n",
       "      <th>25%</th>\n",
       "      <td>180.500000</td>\n",
       "      <td>87.000000</td>\n",
       "      <td>40.000000</td>\n",
       "      <td>70.000000</td>\n",
       "      <td>141.000000</td>\n",
       "      <td>57.000000</td>\n",
       "      <td>6.000000</td>\n",
       "      <td>146.000000</td>\n",
       "      <td>33.000000</td>\n",
       "      <td>19.000000</td>\n",
       "      <td>137.000000</td>\n",
       "      <td>167.000000</td>\n",
       "      <td>317.000000</td>\n",
       "      <td>149.000000</td>\n",
       "      <td>68.000000</td>\n",
       "      <td>2.000000</td>\n",
       "      <td>5.500000</td>\n",
       "      <td>184.000000</td>\n",
       "      <td>190.000000</td>\n",
       "      <td>0.000000</td>\n",
       "    </tr>\n",
       "    <tr>\n",
       "      <th>50%</th>\n",
       "      <td>360.000000</td>\n",
       "      <td>93.000000</td>\n",
       "      <td>44.000000</td>\n",
       "      <td>79.000000</td>\n",
       "      <td>166.000000</td>\n",
       "      <td>61.000000</td>\n",
       "      <td>8.000000</td>\n",
       "      <td>157.000000</td>\n",
       "      <td>43.000000</td>\n",
       "      <td>20.000000</td>\n",
       "      <td>146.000000</td>\n",
       "      <td>178.000000</td>\n",
       "      <td>362.000000</td>\n",
       "      <td>174.000000</td>\n",
       "      <td>72.000000</td>\n",
       "      <td>6.000000</td>\n",
       "      <td>11.000000</td>\n",
       "      <td>188.000000</td>\n",
       "      <td>196.000000</td>\n",
       "      <td>1.000000</td>\n",
       "    </tr>\n",
       "    <tr>\n",
       "      <th>75%</th>\n",
       "      <td>539.500000</td>\n",
       "      <td>99.000000</td>\n",
       "      <td>49.000000</td>\n",
       "      <td>96.000000</td>\n",
       "      <td>194.500000</td>\n",
       "      <td>65.000000</td>\n",
       "      <td>10.000000</td>\n",
       "      <td>197.500000</td>\n",
       "      <td>46.000000</td>\n",
       "      <td>23.000000</td>\n",
       "      <td>159.000000</td>\n",
       "      <td>216.000000</td>\n",
       "      <td>584.500000</td>\n",
       "      <td>198.000000</td>\n",
       "      <td>76.000000</td>\n",
       "      <td>9.000000</td>\n",
       "      <td>18.000000</td>\n",
       "      <td>193.000000</td>\n",
       "      <td>201.000000</td>\n",
       "      <td>2.000000</td>\n",
       "    </tr>\n",
       "    <tr>\n",
       "      <th>max</th>\n",
       "      <td>719.000000</td>\n",
       "      <td>119.000000</td>\n",
       "      <td>59.000000</td>\n",
       "      <td>110.000000</td>\n",
       "      <td>333.000000</td>\n",
       "      <td>138.000000</td>\n",
       "      <td>55.000000</td>\n",
       "      <td>265.000000</td>\n",
       "      <td>61.000000</td>\n",
       "      <td>29.000000</td>\n",
       "      <td>188.000000</td>\n",
       "      <td>320.000000</td>\n",
       "      <td>1018.000000</td>\n",
       "      <td>262.000000</td>\n",
       "      <td>135.000000</td>\n",
       "      <td>22.000000</td>\n",
       "      <td>41.000000</td>\n",
       "      <td>204.000000</td>\n",
       "      <td>211.000000</td>\n",
       "      <td>3.000000</td>\n",
       "    </tr>\n",
       "  </tbody>\n",
       "</table>\n",
       "</div>"
      ],
      "text/plain": [
       "               ID        Comp        Circ      D.Circ      Rad.Ra  Pr.Axis.Ra  \\\n",
       "count  719.000000  719.000000  719.000000  719.000000  719.000000  719.000000   \n",
       "mean   360.000000   93.435327   44.851182   81.723227  168.579972   61.847010   \n",
       "std    207.701709    8.111406    6.150286   15.528208   33.809172    8.259136   \n",
       "min      1.000000   73.000000   33.000000   40.000000  105.000000   47.000000   \n",
       "25%    180.500000   87.000000   40.000000   70.000000  141.000000   57.000000   \n",
       "50%    360.000000   93.000000   44.000000   79.000000  166.000000   61.000000   \n",
       "75%    539.500000   99.000000   49.000000   96.000000  194.500000   65.000000   \n",
       "max    719.000000  119.000000   59.000000  110.000000  333.000000  138.000000   \n",
       "\n",
       "         Max.L.Ra     Scat.Ra       Elong  Pr.Axis.Rect  Max.L.Rect  \\\n",
       "count  719.000000  719.000000  719.000000    719.000000  719.000000   \n",
       "mean     8.625869  168.137691   41.075104     20.531293  148.030598   \n",
       "std      4.916908   32.937591    7.764459      2.560969   14.560092   \n",
       "min      2.000000  112.000000   26.000000     17.000000  118.000000   \n",
       "25%      6.000000  146.000000   33.000000     19.000000  137.000000   \n",
       "50%      8.000000  157.000000   43.000000     20.000000  146.000000   \n",
       "75%     10.000000  197.500000   46.000000     23.000000  159.000000   \n",
       "max     55.000000  265.000000   61.000000     29.000000  188.000000   \n",
       "\n",
       "       Sc.Var.Maxis  Sc.Var.maxis      Ra.Gyr  Skew.Maxis  Skew.maxis  \\\n",
       "count    719.000000    719.000000  719.000000  719.000000  719.000000   \n",
       "mean     188.168289    436.215577  174.726008   72.682893    6.343533   \n",
       "std       31.235395    174.964977   32.149568    7.542055    4.856169   \n",
       "min      130.000000    184.000000  109.000000   59.000000    0.000000   \n",
       "25%      167.000000    317.000000  149.000000   68.000000    2.000000   \n",
       "50%      178.000000    362.000000  174.000000   72.000000    6.000000   \n",
       "75%      216.000000    584.500000  198.000000   76.000000    9.000000   \n",
       "max      320.000000   1018.000000  262.000000  135.000000   22.000000   \n",
       "\n",
       "       Kurt.maxis  Kurt.Maxis     Holl.Ra       Class  \n",
       "count  719.000000  719.000000  719.000000  719.000000  \n",
       "mean    12.394993  188.798331  195.407510    1.470097  \n",
       "std      8.742511    6.048522    7.235166    1.126477  \n",
       "min      0.000000  176.000000  181.000000    0.000000  \n",
       "25%      5.500000  184.000000  190.000000    0.000000  \n",
       "50%     11.000000  188.000000  196.000000    1.000000  \n",
       "75%     18.000000  193.000000  201.000000    2.000000  \n",
       "max     41.000000  204.000000  211.000000    3.000000  "
      ]
     },
     "execution_count": 7,
     "metadata": {},
     "output_type": "execute_result"
    }
   ],
   "source": [
    "data.describe()"
   ]
  },
  {
   "cell_type": "code",
   "execution_count": 8,
   "metadata": {},
   "outputs": [
    {
     "data": {
      "text/plain": [
       "ID              0\n",
       "Comp            0\n",
       "Circ            0\n",
       "D.Circ          0\n",
       "Rad.Ra          0\n",
       "Pr.Axis.Ra      0\n",
       "Max.L.Ra        0\n",
       "Scat.Ra         0\n",
       "Elong           0\n",
       "Pr.Axis.Rect    0\n",
       "Max.L.Rect      0\n",
       "Sc.Var.Maxis    0\n",
       "Sc.Var.maxis    0\n",
       "Ra.Gyr          0\n",
       "Skew.Maxis      0\n",
       "Skew.maxis      0\n",
       "Kurt.maxis      0\n",
       "Kurt.Maxis      0\n",
       "Holl.Ra         0\n",
       "Class           0\n",
       "dtype: int64"
      ]
     },
     "execution_count": 8,
     "metadata": {},
     "output_type": "execute_result"
    }
   ],
   "source": [
    "data.isnull().sum()"
   ]
  },
  {
   "cell_type": "code",
   "execution_count": 9,
   "metadata": {},
   "outputs": [],
   "source": [
    "data = data.drop(columns= 'ID', axis=1)"
   ]
  },
  {
   "cell_type": "code",
   "execution_count": 10,
   "metadata": {},
   "outputs": [
    {
     "data": {
      "text/html": [
       "<div>\n",
       "<style scoped>\n",
       "    .dataframe tbody tr th:only-of-type {\n",
       "        vertical-align: middle;\n",
       "    }\n",
       "\n",
       "    .dataframe tbody tr th {\n",
       "        vertical-align: top;\n",
       "    }\n",
       "\n",
       "    .dataframe thead th {\n",
       "        text-align: right;\n",
       "    }\n",
       "</style>\n",
       "<table border=\"1\" class=\"dataframe\">\n",
       "  <thead>\n",
       "    <tr style=\"text-align: right;\">\n",
       "      <th></th>\n",
       "      <th>Comp</th>\n",
       "      <th>Circ</th>\n",
       "      <th>D.Circ</th>\n",
       "      <th>Rad.Ra</th>\n",
       "      <th>Pr.Axis.Ra</th>\n",
       "      <th>Max.L.Ra</th>\n",
       "      <th>Scat.Ra</th>\n",
       "      <th>Elong</th>\n",
       "      <th>Pr.Axis.Rect</th>\n",
       "      <th>Max.L.Rect</th>\n",
       "      <th>Sc.Var.Maxis</th>\n",
       "      <th>Sc.Var.maxis</th>\n",
       "      <th>Ra.Gyr</th>\n",
       "      <th>Skew.Maxis</th>\n",
       "      <th>Skew.maxis</th>\n",
       "      <th>Kurt.maxis</th>\n",
       "      <th>Kurt.Maxis</th>\n",
       "      <th>Holl.Ra</th>\n",
       "      <th>Class</th>\n",
       "    </tr>\n",
       "  </thead>\n",
       "  <tbody>\n",
       "    <tr>\n",
       "      <th>0</th>\n",
       "      <td>88</td>\n",
       "      <td>39</td>\n",
       "      <td>70</td>\n",
       "      <td>166</td>\n",
       "      <td>66</td>\n",
       "      <td>7</td>\n",
       "      <td>148</td>\n",
       "      <td>44</td>\n",
       "      <td>19</td>\n",
       "      <td>134</td>\n",
       "      <td>167</td>\n",
       "      <td>332</td>\n",
       "      <td>143</td>\n",
       "      <td>69</td>\n",
       "      <td>5</td>\n",
       "      <td>13</td>\n",
       "      <td>193</td>\n",
       "      <td>201</td>\n",
       "      <td>0</td>\n",
       "    </tr>\n",
       "    <tr>\n",
       "      <th>1</th>\n",
       "      <td>85</td>\n",
       "      <td>35</td>\n",
       "      <td>64</td>\n",
       "      <td>129</td>\n",
       "      <td>57</td>\n",
       "      <td>6</td>\n",
       "      <td>116</td>\n",
       "      <td>57</td>\n",
       "      <td>17</td>\n",
       "      <td>125</td>\n",
       "      <td>138</td>\n",
       "      <td>200</td>\n",
       "      <td>123</td>\n",
       "      <td>65</td>\n",
       "      <td>1</td>\n",
       "      <td>23</td>\n",
       "      <td>196</td>\n",
       "      <td>203</td>\n",
       "      <td>3</td>\n",
       "    </tr>\n",
       "    <tr>\n",
       "      <th>2</th>\n",
       "      <td>91</td>\n",
       "      <td>41</td>\n",
       "      <td>84</td>\n",
       "      <td>141</td>\n",
       "      <td>57</td>\n",
       "      <td>9</td>\n",
       "      <td>149</td>\n",
       "      <td>45</td>\n",
       "      <td>19</td>\n",
       "      <td>143</td>\n",
       "      <td>170</td>\n",
       "      <td>330</td>\n",
       "      <td>158</td>\n",
       "      <td>72</td>\n",
       "      <td>9</td>\n",
       "      <td>14</td>\n",
       "      <td>189</td>\n",
       "      <td>199</td>\n",
       "      <td>3</td>\n",
       "    </tr>\n",
       "    <tr>\n",
       "      <th>3</th>\n",
       "      <td>102</td>\n",
       "      <td>54</td>\n",
       "      <td>98</td>\n",
       "      <td>177</td>\n",
       "      <td>56</td>\n",
       "      <td>10</td>\n",
       "      <td>219</td>\n",
       "      <td>31</td>\n",
       "      <td>25</td>\n",
       "      <td>171</td>\n",
       "      <td>219</td>\n",
       "      <td>706</td>\n",
       "      <td>223</td>\n",
       "      <td>72</td>\n",
       "      <td>5</td>\n",
       "      <td>17</td>\n",
       "      <td>186</td>\n",
       "      <td>196</td>\n",
       "      <td>1</td>\n",
       "    </tr>\n",
       "    <tr>\n",
       "      <th>4</th>\n",
       "      <td>87</td>\n",
       "      <td>39</td>\n",
       "      <td>74</td>\n",
       "      <td>152</td>\n",
       "      <td>58</td>\n",
       "      <td>6</td>\n",
       "      <td>151</td>\n",
       "      <td>44</td>\n",
       "      <td>19</td>\n",
       "      <td>136</td>\n",
       "      <td>174</td>\n",
       "      <td>337</td>\n",
       "      <td>140</td>\n",
       "      <td>70</td>\n",
       "      <td>1</td>\n",
       "      <td>33</td>\n",
       "      <td>187</td>\n",
       "      <td>196</td>\n",
       "      <td>2</td>\n",
       "    </tr>\n",
       "    <tr>\n",
       "      <th>...</th>\n",
       "      <td>...</td>\n",
       "      <td>...</td>\n",
       "      <td>...</td>\n",
       "      <td>...</td>\n",
       "      <td>...</td>\n",
       "      <td>...</td>\n",
       "      <td>...</td>\n",
       "      <td>...</td>\n",
       "      <td>...</td>\n",
       "      <td>...</td>\n",
       "      <td>...</td>\n",
       "      <td>...</td>\n",
       "      <td>...</td>\n",
       "      <td>...</td>\n",
       "      <td>...</td>\n",
       "      <td>...</td>\n",
       "      <td>...</td>\n",
       "      <td>...</td>\n",
       "      <td>...</td>\n",
       "    </tr>\n",
       "    <tr>\n",
       "      <th>714</th>\n",
       "      <td>111</td>\n",
       "      <td>58</td>\n",
       "      <td>105</td>\n",
       "      <td>183</td>\n",
       "      <td>51</td>\n",
       "      <td>6</td>\n",
       "      <td>265</td>\n",
       "      <td>26</td>\n",
       "      <td>29</td>\n",
       "      <td>174</td>\n",
       "      <td>285</td>\n",
       "      <td>1018</td>\n",
       "      <td>255</td>\n",
       "      <td>85</td>\n",
       "      <td>4</td>\n",
       "      <td>8</td>\n",
       "      <td>181</td>\n",
       "      <td>183</td>\n",
       "      <td>0</td>\n",
       "    </tr>\n",
       "    <tr>\n",
       "      <th>715</th>\n",
       "      <td>93</td>\n",
       "      <td>43</td>\n",
       "      <td>76</td>\n",
       "      <td>149</td>\n",
       "      <td>57</td>\n",
       "      <td>7</td>\n",
       "      <td>149</td>\n",
       "      <td>44</td>\n",
       "      <td>19</td>\n",
       "      <td>143</td>\n",
       "      <td>172</td>\n",
       "      <td>335</td>\n",
       "      <td>176</td>\n",
       "      <td>69</td>\n",
       "      <td>14</td>\n",
       "      <td>0</td>\n",
       "      <td>189</td>\n",
       "      <td>194</td>\n",
       "      <td>2</td>\n",
       "    </tr>\n",
       "    <tr>\n",
       "      <th>716</th>\n",
       "      <td>90</td>\n",
       "      <td>42</td>\n",
       "      <td>63</td>\n",
       "      <td>144</td>\n",
       "      <td>59</td>\n",
       "      <td>7</td>\n",
       "      <td>131</td>\n",
       "      <td>50</td>\n",
       "      <td>18</td>\n",
       "      <td>142</td>\n",
       "      <td>154</td>\n",
       "      <td>259</td>\n",
       "      <td>162</td>\n",
       "      <td>65</td>\n",
       "      <td>15</td>\n",
       "      <td>3</td>\n",
       "      <td>197</td>\n",
       "      <td>204</td>\n",
       "      <td>3</td>\n",
       "    </tr>\n",
       "    <tr>\n",
       "      <th>717</th>\n",
       "      <td>101</td>\n",
       "      <td>56</td>\n",
       "      <td>101</td>\n",
       "      <td>231</td>\n",
       "      <td>72</td>\n",
       "      <td>10</td>\n",
       "      <td>217</td>\n",
       "      <td>31</td>\n",
       "      <td>24</td>\n",
       "      <td>171</td>\n",
       "      <td>232</td>\n",
       "      <td>698</td>\n",
       "      <td>216</td>\n",
       "      <td>72</td>\n",
       "      <td>2</td>\n",
       "      <td>6</td>\n",
       "      <td>187</td>\n",
       "      <td>197</td>\n",
       "      <td>2</td>\n",
       "    </tr>\n",
       "    <tr>\n",
       "      <th>718</th>\n",
       "      <td>99</td>\n",
       "      <td>38</td>\n",
       "      <td>74</td>\n",
       "      <td>184</td>\n",
       "      <td>66</td>\n",
       "      <td>6</td>\n",
       "      <td>164</td>\n",
       "      <td>39</td>\n",
       "      <td>20</td>\n",
       "      <td>131</td>\n",
       "      <td>193</td>\n",
       "      <td>414</td>\n",
       "      <td>137</td>\n",
       "      <td>71</td>\n",
       "      <td>2</td>\n",
       "      <td>22</td>\n",
       "      <td>200</td>\n",
       "      <td>202</td>\n",
       "      <td>0</td>\n",
       "    </tr>\n",
       "  </tbody>\n",
       "</table>\n",
       "<p>719 rows × 19 columns</p>\n",
       "</div>"
      ],
      "text/plain": [
       "     Comp  Circ  D.Circ  Rad.Ra  Pr.Axis.Ra  Max.L.Ra  Scat.Ra  Elong  \\\n",
       "0      88    39      70     166          66         7      148     44   \n",
       "1      85    35      64     129          57         6      116     57   \n",
       "2      91    41      84     141          57         9      149     45   \n",
       "3     102    54      98     177          56        10      219     31   \n",
       "4      87    39      74     152          58         6      151     44   \n",
       "..    ...   ...     ...     ...         ...       ...      ...    ...   \n",
       "714   111    58     105     183          51         6      265     26   \n",
       "715    93    43      76     149          57         7      149     44   \n",
       "716    90    42      63     144          59         7      131     50   \n",
       "717   101    56     101     231          72        10      217     31   \n",
       "718    99    38      74     184          66         6      164     39   \n",
       "\n",
       "     Pr.Axis.Rect  Max.L.Rect  Sc.Var.Maxis  Sc.Var.maxis  Ra.Gyr  Skew.Maxis  \\\n",
       "0              19         134           167           332     143          69   \n",
       "1              17         125           138           200     123          65   \n",
       "2              19         143           170           330     158          72   \n",
       "3              25         171           219           706     223          72   \n",
       "4              19         136           174           337     140          70   \n",
       "..            ...         ...           ...           ...     ...         ...   \n",
       "714            29         174           285          1018     255          85   \n",
       "715            19         143           172           335     176          69   \n",
       "716            18         142           154           259     162          65   \n",
       "717            24         171           232           698     216          72   \n",
       "718            20         131           193           414     137          71   \n",
       "\n",
       "     Skew.maxis  Kurt.maxis  Kurt.Maxis  Holl.Ra  Class  \n",
       "0             5          13         193      201      0  \n",
       "1             1          23         196      203      3  \n",
       "2             9          14         189      199      3  \n",
       "3             5          17         186      196      1  \n",
       "4             1          33         187      196      2  \n",
       "..          ...         ...         ...      ...    ...  \n",
       "714           4           8         181      183      0  \n",
       "715          14           0         189      194      2  \n",
       "716          15           3         197      204      3  \n",
       "717           2           6         187      197      2  \n",
       "718           2          22         200      202      0  \n",
       "\n",
       "[719 rows x 19 columns]"
      ]
     },
     "execution_count": 10,
     "metadata": {},
     "output_type": "execute_result"
    }
   ],
   "source": [
    "data"
   ]
  },
  {
   "cell_type": "code",
   "execution_count": 11,
   "metadata": {},
   "outputs": [
    {
     "data": {
      "text/html": [
       "<div>\n",
       "<style scoped>\n",
       "    .dataframe tbody tr th:only-of-type {\n",
       "        vertical-align: middle;\n",
       "    }\n",
       "\n",
       "    .dataframe tbody tr th {\n",
       "        vertical-align: top;\n",
       "    }\n",
       "\n",
       "    .dataframe thead th {\n",
       "        text-align: right;\n",
       "    }\n",
       "</style>\n",
       "<table border=\"1\" class=\"dataframe\">\n",
       "  <thead>\n",
       "    <tr style=\"text-align: right;\">\n",
       "      <th></th>\n",
       "      <th>Comp</th>\n",
       "      <th>Circ</th>\n",
       "      <th>D.Circ</th>\n",
       "      <th>Rad.Ra</th>\n",
       "      <th>Pr.Axis.Ra</th>\n",
       "      <th>Max.L.Ra</th>\n",
       "      <th>Scat.Ra</th>\n",
       "      <th>Elong</th>\n",
       "      <th>Pr.Axis.Rect</th>\n",
       "      <th>Max.L.Rect</th>\n",
       "      <th>Sc.Var.Maxis</th>\n",
       "      <th>Sc.Var.maxis</th>\n",
       "      <th>Ra.Gyr</th>\n",
       "      <th>Skew.Maxis</th>\n",
       "      <th>Skew.maxis</th>\n",
       "      <th>Kurt.maxis</th>\n",
       "      <th>Kurt.Maxis</th>\n",
       "      <th>Holl.Ra</th>\n",
       "    </tr>\n",
       "  </thead>\n",
       "  <tbody>\n",
       "    <tr>\n",
       "      <th>0</th>\n",
       "      <td>88</td>\n",
       "      <td>39</td>\n",
       "      <td>70</td>\n",
       "      <td>166</td>\n",
       "      <td>66</td>\n",
       "      <td>7</td>\n",
       "      <td>148</td>\n",
       "      <td>44</td>\n",
       "      <td>19</td>\n",
       "      <td>134</td>\n",
       "      <td>167</td>\n",
       "      <td>332</td>\n",
       "      <td>143</td>\n",
       "      <td>69</td>\n",
       "      <td>5</td>\n",
       "      <td>13</td>\n",
       "      <td>193</td>\n",
       "      <td>201</td>\n",
       "    </tr>\n",
       "    <tr>\n",
       "      <th>1</th>\n",
       "      <td>85</td>\n",
       "      <td>35</td>\n",
       "      <td>64</td>\n",
       "      <td>129</td>\n",
       "      <td>57</td>\n",
       "      <td>6</td>\n",
       "      <td>116</td>\n",
       "      <td>57</td>\n",
       "      <td>17</td>\n",
       "      <td>125</td>\n",
       "      <td>138</td>\n",
       "      <td>200</td>\n",
       "      <td>123</td>\n",
       "      <td>65</td>\n",
       "      <td>1</td>\n",
       "      <td>23</td>\n",
       "      <td>196</td>\n",
       "      <td>203</td>\n",
       "    </tr>\n",
       "    <tr>\n",
       "      <th>2</th>\n",
       "      <td>91</td>\n",
       "      <td>41</td>\n",
       "      <td>84</td>\n",
       "      <td>141</td>\n",
       "      <td>57</td>\n",
       "      <td>9</td>\n",
       "      <td>149</td>\n",
       "      <td>45</td>\n",
       "      <td>19</td>\n",
       "      <td>143</td>\n",
       "      <td>170</td>\n",
       "      <td>330</td>\n",
       "      <td>158</td>\n",
       "      <td>72</td>\n",
       "      <td>9</td>\n",
       "      <td>14</td>\n",
       "      <td>189</td>\n",
       "      <td>199</td>\n",
       "    </tr>\n",
       "    <tr>\n",
       "      <th>3</th>\n",
       "      <td>102</td>\n",
       "      <td>54</td>\n",
       "      <td>98</td>\n",
       "      <td>177</td>\n",
       "      <td>56</td>\n",
       "      <td>10</td>\n",
       "      <td>219</td>\n",
       "      <td>31</td>\n",
       "      <td>25</td>\n",
       "      <td>171</td>\n",
       "      <td>219</td>\n",
       "      <td>706</td>\n",
       "      <td>223</td>\n",
       "      <td>72</td>\n",
       "      <td>5</td>\n",
       "      <td>17</td>\n",
       "      <td>186</td>\n",
       "      <td>196</td>\n",
       "    </tr>\n",
       "    <tr>\n",
       "      <th>4</th>\n",
       "      <td>87</td>\n",
       "      <td>39</td>\n",
       "      <td>74</td>\n",
       "      <td>152</td>\n",
       "      <td>58</td>\n",
       "      <td>6</td>\n",
       "      <td>151</td>\n",
       "      <td>44</td>\n",
       "      <td>19</td>\n",
       "      <td>136</td>\n",
       "      <td>174</td>\n",
       "      <td>337</td>\n",
       "      <td>140</td>\n",
       "      <td>70</td>\n",
       "      <td>1</td>\n",
       "      <td>33</td>\n",
       "      <td>187</td>\n",
       "      <td>196</td>\n",
       "    </tr>\n",
       "    <tr>\n",
       "      <th>...</th>\n",
       "      <td>...</td>\n",
       "      <td>...</td>\n",
       "      <td>...</td>\n",
       "      <td>...</td>\n",
       "      <td>...</td>\n",
       "      <td>...</td>\n",
       "      <td>...</td>\n",
       "      <td>...</td>\n",
       "      <td>...</td>\n",
       "      <td>...</td>\n",
       "      <td>...</td>\n",
       "      <td>...</td>\n",
       "      <td>...</td>\n",
       "      <td>...</td>\n",
       "      <td>...</td>\n",
       "      <td>...</td>\n",
       "      <td>...</td>\n",
       "      <td>...</td>\n",
       "    </tr>\n",
       "    <tr>\n",
       "      <th>714</th>\n",
       "      <td>111</td>\n",
       "      <td>58</td>\n",
       "      <td>105</td>\n",
       "      <td>183</td>\n",
       "      <td>51</td>\n",
       "      <td>6</td>\n",
       "      <td>265</td>\n",
       "      <td>26</td>\n",
       "      <td>29</td>\n",
       "      <td>174</td>\n",
       "      <td>285</td>\n",
       "      <td>1018</td>\n",
       "      <td>255</td>\n",
       "      <td>85</td>\n",
       "      <td>4</td>\n",
       "      <td>8</td>\n",
       "      <td>181</td>\n",
       "      <td>183</td>\n",
       "    </tr>\n",
       "    <tr>\n",
       "      <th>715</th>\n",
       "      <td>93</td>\n",
       "      <td>43</td>\n",
       "      <td>76</td>\n",
       "      <td>149</td>\n",
       "      <td>57</td>\n",
       "      <td>7</td>\n",
       "      <td>149</td>\n",
       "      <td>44</td>\n",
       "      <td>19</td>\n",
       "      <td>143</td>\n",
       "      <td>172</td>\n",
       "      <td>335</td>\n",
       "      <td>176</td>\n",
       "      <td>69</td>\n",
       "      <td>14</td>\n",
       "      <td>0</td>\n",
       "      <td>189</td>\n",
       "      <td>194</td>\n",
       "    </tr>\n",
       "    <tr>\n",
       "      <th>716</th>\n",
       "      <td>90</td>\n",
       "      <td>42</td>\n",
       "      <td>63</td>\n",
       "      <td>144</td>\n",
       "      <td>59</td>\n",
       "      <td>7</td>\n",
       "      <td>131</td>\n",
       "      <td>50</td>\n",
       "      <td>18</td>\n",
       "      <td>142</td>\n",
       "      <td>154</td>\n",
       "      <td>259</td>\n",
       "      <td>162</td>\n",
       "      <td>65</td>\n",
       "      <td>15</td>\n",
       "      <td>3</td>\n",
       "      <td>197</td>\n",
       "      <td>204</td>\n",
       "    </tr>\n",
       "    <tr>\n",
       "      <th>717</th>\n",
       "      <td>101</td>\n",
       "      <td>56</td>\n",
       "      <td>101</td>\n",
       "      <td>231</td>\n",
       "      <td>72</td>\n",
       "      <td>10</td>\n",
       "      <td>217</td>\n",
       "      <td>31</td>\n",
       "      <td>24</td>\n",
       "      <td>171</td>\n",
       "      <td>232</td>\n",
       "      <td>698</td>\n",
       "      <td>216</td>\n",
       "      <td>72</td>\n",
       "      <td>2</td>\n",
       "      <td>6</td>\n",
       "      <td>187</td>\n",
       "      <td>197</td>\n",
       "    </tr>\n",
       "    <tr>\n",
       "      <th>718</th>\n",
       "      <td>99</td>\n",
       "      <td>38</td>\n",
       "      <td>74</td>\n",
       "      <td>184</td>\n",
       "      <td>66</td>\n",
       "      <td>6</td>\n",
       "      <td>164</td>\n",
       "      <td>39</td>\n",
       "      <td>20</td>\n",
       "      <td>131</td>\n",
       "      <td>193</td>\n",
       "      <td>414</td>\n",
       "      <td>137</td>\n",
       "      <td>71</td>\n",
       "      <td>2</td>\n",
       "      <td>22</td>\n",
       "      <td>200</td>\n",
       "      <td>202</td>\n",
       "    </tr>\n",
       "  </tbody>\n",
       "</table>\n",
       "<p>719 rows × 18 columns</p>\n",
       "</div>"
      ],
      "text/plain": [
       "     Comp  Circ  D.Circ  Rad.Ra  Pr.Axis.Ra  Max.L.Ra  Scat.Ra  Elong  \\\n",
       "0      88    39      70     166          66         7      148     44   \n",
       "1      85    35      64     129          57         6      116     57   \n",
       "2      91    41      84     141          57         9      149     45   \n",
       "3     102    54      98     177          56        10      219     31   \n",
       "4      87    39      74     152          58         6      151     44   \n",
       "..    ...   ...     ...     ...         ...       ...      ...    ...   \n",
       "714   111    58     105     183          51         6      265     26   \n",
       "715    93    43      76     149          57         7      149     44   \n",
       "716    90    42      63     144          59         7      131     50   \n",
       "717   101    56     101     231          72        10      217     31   \n",
       "718    99    38      74     184          66         6      164     39   \n",
       "\n",
       "     Pr.Axis.Rect  Max.L.Rect  Sc.Var.Maxis  Sc.Var.maxis  Ra.Gyr  Skew.Maxis  \\\n",
       "0              19         134           167           332     143          69   \n",
       "1              17         125           138           200     123          65   \n",
       "2              19         143           170           330     158          72   \n",
       "3              25         171           219           706     223          72   \n",
       "4              19         136           174           337     140          70   \n",
       "..            ...         ...           ...           ...     ...         ...   \n",
       "714            29         174           285          1018     255          85   \n",
       "715            19         143           172           335     176          69   \n",
       "716            18         142           154           259     162          65   \n",
       "717            24         171           232           698     216          72   \n",
       "718            20         131           193           414     137          71   \n",
       "\n",
       "     Skew.maxis  Kurt.maxis  Kurt.Maxis  Holl.Ra  \n",
       "0             5          13         193      201  \n",
       "1             1          23         196      203  \n",
       "2             9          14         189      199  \n",
       "3             5          17         186      196  \n",
       "4             1          33         187      196  \n",
       "..          ...         ...         ...      ...  \n",
       "714           4           8         181      183  \n",
       "715          14           0         189      194  \n",
       "716          15           3         197      204  \n",
       "717           2           6         187      197  \n",
       "718           2          22         200      202  \n",
       "\n",
       "[719 rows x 18 columns]"
      ]
     },
     "execution_count": 11,
     "metadata": {},
     "output_type": "execute_result"
    }
   ],
   "source": [
    "X = data.iloc[:, 0 :-1]\n",
    "X"
   ]
  },
  {
   "cell_type": "code",
   "execution_count": 12,
   "metadata": {},
   "outputs": [
    {
     "data": {
      "text/plain": [
       "0      0\n",
       "1      3\n",
       "2      3\n",
       "3      1\n",
       "4      2\n",
       "      ..\n",
       "714    0\n",
       "715    2\n",
       "716    3\n",
       "717    2\n",
       "718    0\n",
       "Name: Class, Length: 719, dtype: int64"
      ]
     },
     "execution_count": 12,
     "metadata": {},
     "output_type": "execute_result"
    }
   ],
   "source": [
    "y = data.iloc[:, -1]\n",
    "y"
   ]
  },
  {
   "cell_type": "code",
   "execution_count": 13,
   "metadata": {},
   "outputs": [
    {
     "data": {
      "text/plain": [
       "0    189\n",
       "1    180\n",
       "3    177\n",
       "2    173\n",
       "Name: Class, dtype: int64"
      ]
     },
     "execution_count": 13,
     "metadata": {},
     "output_type": "execute_result"
    }
   ],
   "source": [
    "y.value_counts()"
   ]
  },
  {
   "cell_type": "code",
   "execution_count": 14,
   "metadata": {},
   "outputs": [
    {
     "data": {
      "text/plain": [
       "4"
      ]
     },
     "execution_count": 14,
     "metadata": {},
     "output_type": "execute_result"
    }
   ],
   "source": [
    "y.nunique()"
   ]
  },
  {
   "cell_type": "code",
   "execution_count": 15,
   "metadata": {},
   "outputs": [
    {
     "data": {
      "text/plain": [
       "array([0, 3, 1, 2], dtype=int64)"
      ]
     },
     "execution_count": 15,
     "metadata": {},
     "output_type": "execute_result"
    }
   ],
   "source": [
    "y.unique()"
   ]
  },
  {
   "cell_type": "code",
   "execution_count": 16,
   "metadata": {},
   "outputs": [],
   "source": [
    "import matplotlib.pyplot as plt"
   ]
  },
  {
   "cell_type": "code",
   "execution_count": 17,
   "metadata": {},
   "outputs": [
    {
     "data": {
      "text/plain": [
       "Text(0, 0.5, 'pr.axis aspect ratio')"
      ]
     },
     "execution_count": 17,
     "metadata": {},
     "output_type": "execute_result"
    },
    {
     "data": {
      "image/png": "[encoded data removed]",
      "text/plain": [
       "<Figure size 640x480 with 1 Axes>"
      ]
     },
     "metadata": {},
     "output_type": "display_data"
    }
   ],
   "source": [
    "plt.scatter(X.iloc[:, 2], X.iloc[:, 4], c= y)\n",
    "plt.xlabel('Distance Circularity')\n",
    "plt.ylabel('pr.axis aspect ratio')"
   ]
  },
  {
   "cell_type": "code",
   "execution_count": 18,
   "metadata": {},
   "outputs": [],
   "source": [
    "from sklearn.model_selection import train_test_split"
   ]
  },
  {
   "cell_type": "code",
   "execution_count": 19,
   "metadata": {},
   "outputs": [],
   "source": [
    "X_train, X_test, y_train, y_test = train_test_split(X, y, test_size= 0.2, random_state= 1)"
   ]
  },
  {
   "cell_type": "code",
   "execution_count": 20,
   "metadata": {},
   "outputs": [
    {
     "data": {
      "text/plain": [
       "(575, 18)"
      ]
     },
     "execution_count": 20,
     "metadata": {},
     "output_type": "execute_result"
    }
   ],
   "source": [
    "X_train.shape"
   ]
  },
  {
   "cell_type": "code",
   "execution_count": 21,
   "metadata": {},
   "outputs": [
    {
     "data": {
      "text/plain": [
       "(144, 18)"
      ]
     },
     "execution_count": 21,
     "metadata": {},
     "output_type": "execute_result"
    }
   ],
   "source": [
    "X_test.shape"
   ]
  },
  {
   "cell_type": "code",
   "execution_count": 22,
   "metadata": {},
   "outputs": [],
   "source": [
    "from sklearn.decomposition import PCA"
   ]
  },
  {
   "cell_type": "code",
   "execution_count": 23,
   "metadata": {},
   "outputs": [],
   "source": [
    "pca = PCA(n_components= 8)"
   ]
  },
  {
   "cell_type": "code",
   "execution_count": 24,
   "metadata": {},
   "outputs": [],
   "source": [
    "X_train= pca.fit_transform(X_train)"
   ]
  },
  {
   "cell_type": "code",
   "execution_count": 25,
   "metadata": {},
   "outputs": [
    {
     "data": {
      "text/plain": [
       "(575, 8)"
      ]
     },
     "execution_count": 25,
     "metadata": {},
     "output_type": "execute_result"
    }
   ],
   "source": [
    "X_train.shape"
   ]
  },
  {
   "cell_type": "code",
   "execution_count": 26,
   "metadata": {},
   "outputs": [],
   "source": [
    "X_train = pd.DataFrame(X_train, columns= ['pc1','pc2','pc3', 'pc4','pc5','pc6','pc7', 'pc8'])"
   ]
  },
  {
   "cell_type": "code",
   "execution_count": 27,
   "metadata": {},
   "outputs": [
    {
     "data": {
      "text/html": [
       "<div>\n",
       "<style scoped>\n",
       "    .dataframe tbody tr th:only-of-type {\n",
       "        vertical-align: middle;\n",
       "    }\n",
       "\n",
       "    .dataframe tbody tr th {\n",
       "        vertical-align: top;\n",
       "    }\n",
       "\n",
       "    .dataframe thead th {\n",
       "        text-align: right;\n",
       "    }\n",
       "</style>\n",
       "<table border=\"1\" class=\"dataframe\">\n",
       "  <thead>\n",
       "    <tr style=\"text-align: right;\">\n",
       "      <th></th>\n",
       "      <th>pc1</th>\n",
       "      <th>pc2</th>\n",
       "      <th>pc3</th>\n",
       "      <th>pc4</th>\n",
       "      <th>pc5</th>\n",
       "      <th>pc6</th>\n",
       "      <th>pc7</th>\n",
       "      <th>pc8</th>\n",
       "    </tr>\n",
       "  </thead>\n",
       "  <tbody>\n",
       "    <tr>\n",
       "      <th>0</th>\n",
       "      <td>102.760741</td>\n",
       "      <td>1.532408</td>\n",
       "      <td>18.667244</td>\n",
       "      <td>-12.220182</td>\n",
       "      <td>-0.536129</td>\n",
       "      <td>-1.097418</td>\n",
       "      <td>-7.571207</td>\n",
       "      <td>2.725204</td>\n",
       "    </tr>\n",
       "    <tr>\n",
       "      <th>1</th>\n",
       "      <td>-133.573221</td>\n",
       "      <td>8.023610</td>\n",
       "      <td>-14.334469</td>\n",
       "      <td>2.650391</td>\n",
       "      <td>-2.431589</td>\n",
       "      <td>-1.096332</td>\n",
       "      <td>-4.565921</td>\n",
       "      <td>-10.561798</td>\n",
       "    </tr>\n",
       "    <tr>\n",
       "      <th>2</th>\n",
       "      <td>-47.750684</td>\n",
       "      <td>-8.701840</td>\n",
       "      <td>22.369704</td>\n",
       "      <td>-7.829863</td>\n",
       "      <td>-5.116401</td>\n",
       "      <td>10.488267</td>\n",
       "      <td>-0.567702</td>\n",
       "      <td>-3.837408</td>\n",
       "    </tr>\n",
       "    <tr>\n",
       "      <th>3</th>\n",
       "      <td>-235.923344</td>\n",
       "      <td>9.728013</td>\n",
       "      <td>-27.067077</td>\n",
       "      <td>-10.571635</td>\n",
       "      <td>-3.810520</td>\n",
       "      <td>-1.317717</td>\n",
       "      <td>7.248145</td>\n",
       "      <td>9.599575</td>\n",
       "    </tr>\n",
       "    <tr>\n",
       "      <th>4</th>\n",
       "      <td>-129.330775</td>\n",
       "      <td>-34.933444</td>\n",
       "      <td>6.435872</td>\n",
       "      <td>8.867102</td>\n",
       "      <td>1.129435</td>\n",
       "      <td>4.705772</td>\n",
       "      <td>1.493155</td>\n",
       "      <td>-2.546104</td>\n",
       "    </tr>\n",
       "    <tr>\n",
       "      <th>5</th>\n",
       "      <td>-111.330863</td>\n",
       "      <td>-46.673924</td>\n",
       "      <td>15.417454</td>\n",
       "      <td>5.394066</td>\n",
       "      <td>9.534036</td>\n",
       "      <td>-4.013736</td>\n",
       "      <td>0.064673</td>\n",
       "      <td>-2.047802</td>\n",
       "    </tr>\n",
       "    <tr>\n",
       "      <th>6</th>\n",
       "      <td>-94.730343</td>\n",
       "      <td>73.167684</td>\n",
       "      <td>45.970451</td>\n",
       "      <td>36.879609</td>\n",
       "      <td>4.381556</td>\n",
       "      <td>24.425013</td>\n",
       "      <td>2.558289</td>\n",
       "      <td>8.284205</td>\n",
       "    </tr>\n",
       "    <tr>\n",
       "      <th>7</th>\n",
       "      <td>273.412328</td>\n",
       "      <td>1.485285</td>\n",
       "      <td>4.629149</td>\n",
       "      <td>-4.253096</td>\n",
       "      <td>1.365742</td>\n",
       "      <td>2.149012</td>\n",
       "      <td>10.178722</td>\n",
       "      <td>2.314090</td>\n",
       "    </tr>\n",
       "    <tr>\n",
       "      <th>8</th>\n",
       "      <td>-117.522859</td>\n",
       "      <td>-27.424865</td>\n",
       "      <td>-1.806259</td>\n",
       "      <td>7.442237</td>\n",
       "      <td>-7.279120</td>\n",
       "      <td>-1.521426</td>\n",
       "      <td>-4.210301</td>\n",
       "      <td>-6.725054</td>\n",
       "    </tr>\n",
       "    <tr>\n",
       "      <th>9</th>\n",
       "      <td>-66.087894</td>\n",
       "      <td>0.297190</td>\n",
       "      <td>8.738891</td>\n",
       "      <td>-12.912843</td>\n",
       "      <td>14.695019</td>\n",
       "      <td>10.883731</td>\n",
       "      <td>-0.964163</td>\n",
       "      <td>0.941722</td>\n",
       "    </tr>\n",
       "    <tr>\n",
       "      <th>10</th>\n",
       "      <td>188.012608</td>\n",
       "      <td>14.280377</td>\n",
       "      <td>11.097212</td>\n",
       "      <td>-2.341668</td>\n",
       "      <td>-0.147908</td>\n",
       "      <td>-8.872266</td>\n",
       "      <td>-6.081162</td>\n",
       "      <td>-7.894823</td>\n",
       "    </tr>\n",
       "    <tr>\n",
       "      <th>11</th>\n",
       "      <td>252.997634</td>\n",
       "      <td>-10.159430</td>\n",
       "      <td>6.308991</td>\n",
       "      <td>-3.771557</td>\n",
       "      <td>10.128869</td>\n",
       "      <td>3.181348</td>\n",
       "      <td>10.973204</td>\n",
       "      <td>-3.797090</td>\n",
       "    </tr>\n",
       "    <tr>\n",
       "      <th>12</th>\n",
       "      <td>-253.876940</td>\n",
       "      <td>-22.859724</td>\n",
       "      <td>-10.889956</td>\n",
       "      <td>11.446224</td>\n",
       "      <td>-1.782468</td>\n",
       "      <td>-5.582426</td>\n",
       "      <td>12.886728</td>\n",
       "      <td>2.032154</td>\n",
       "    </tr>\n",
       "    <tr>\n",
       "      <th>13</th>\n",
       "      <td>510.801945</td>\n",
       "      <td>-19.360362</td>\n",
       "      <td>5.552705</td>\n",
       "      <td>32.127701</td>\n",
       "      <td>-9.670196</td>\n",
       "      <td>-20.061637</td>\n",
       "      <td>-0.052133</td>\n",
       "      <td>0.108850</td>\n",
       "    </tr>\n",
       "    <tr>\n",
       "      <th>14</th>\n",
       "      <td>-160.463482</td>\n",
       "      <td>-30.174573</td>\n",
       "      <td>-18.882888</td>\n",
       "      <td>12.873474</td>\n",
       "      <td>-14.033182</td>\n",
       "      <td>-2.811975</td>\n",
       "      <td>6.795605</td>\n",
       "      <td>-7.378362</td>\n",
       "    </tr>\n",
       "    <tr>\n",
       "      <th>15</th>\n",
       "      <td>-119.859463</td>\n",
       "      <td>-39.821364</td>\n",
       "      <td>8.993941</td>\n",
       "      <td>12.391639</td>\n",
       "      <td>0.665738</td>\n",
       "      <td>2.784701</td>\n",
       "      <td>-4.905441</td>\n",
       "      <td>-1.228370</td>\n",
       "    </tr>\n",
       "    <tr>\n",
       "      <th>16</th>\n",
       "      <td>133.004505</td>\n",
       "      <td>24.420263</td>\n",
       "      <td>26.326369</td>\n",
       "      <td>6.484173</td>\n",
       "      <td>-9.830839</td>\n",
       "      <td>-11.626433</td>\n",
       "      <td>8.151503</td>\n",
       "      <td>-1.808449</td>\n",
       "    </tr>\n",
       "    <tr>\n",
       "      <th>17</th>\n",
       "      <td>302.319430</td>\n",
       "      <td>-6.484048</td>\n",
       "      <td>-1.139160</td>\n",
       "      <td>-7.321512</td>\n",
       "      <td>-12.759796</td>\n",
       "      <td>12.090075</td>\n",
       "      <td>-2.002940</td>\n",
       "      <td>4.518858</td>\n",
       "    </tr>\n",
       "    <tr>\n",
       "      <th>18</th>\n",
       "      <td>-134.590550</td>\n",
       "      <td>-15.179487</td>\n",
       "      <td>-14.993298</td>\n",
       "      <td>6.840558</td>\n",
       "      <td>6.451064</td>\n",
       "      <td>-1.110917</td>\n",
       "      <td>-4.516096</td>\n",
       "      <td>1.179728</td>\n",
       "    </tr>\n",
       "    <tr>\n",
       "      <th>19</th>\n",
       "      <td>-91.597398</td>\n",
       "      <td>8.188772</td>\n",
       "      <td>-3.592316</td>\n",
       "      <td>4.967903</td>\n",
       "      <td>-11.916534</td>\n",
       "      <td>0.722847</td>\n",
       "      <td>-3.657166</td>\n",
       "      <td>-7.167681</td>\n",
       "    </tr>\n",
       "  </tbody>\n",
       "</table>\n",
       "</div>"
      ],
      "text/plain": [
       "           pc1        pc2        pc3        pc4        pc5        pc6  \\\n",
       "0   102.760741   1.532408  18.667244 -12.220182  -0.536129  -1.097418   \n",
       "1  -133.573221   8.023610 -14.334469   2.650391  -2.431589  -1.096332   \n",
       "2   -47.750684  -8.701840  22.369704  -7.829863  -5.116401  10.488267   \n",
       "3  -235.923344   9.728013 -27.067077 -10.571635  -3.810520  -1.317717   \n",
       "4  -129.330775 -34.933444   6.435872   8.867102   1.129435   4.705772   \n",
       "5  -111.330863 -46.673924  15.417454   5.394066   9.534036  -4.013736   \n",
       "6   -94.730343  73.167684  45.970451  36.879609   4.381556  24.425013   \n",
       "7   273.412328   1.485285   4.629149  -4.253096   1.365742   2.149012   \n",
       "8  -117.522859 -27.424865  -1.806259   7.442237  -7.279120  -1.521426   \n",
       "9   -66.087894   0.297190   8.738891 -12.912843  14.695019  10.883731   \n",
       "10  188.012608  14.280377  11.097212  -2.341668  -0.147908  -8.872266   \n",
       "11  252.997634 -10.159430   6.308991  -3.771557  10.128869   3.181348   \n",
       "12 -253.876940 -22.859724 -10.889956  11.446224  -1.782468  -5.582426   \n",
       "13  510.801945 -19.360362   5.552705  32.127701  -9.670196 -20.061637   \n",
       "14 -160.463482 -30.174573 -18.882888  12.873474 -14.033182  -2.811975   \n",
       "15 -119.859463 -39.821364   8.993941  12.391639   0.665738   2.784701   \n",
       "16  133.004505  24.420263  26.326369   6.484173  -9.830839 -11.626433   \n",
       "17  302.319430  -6.484048  -1.139160  -7.321512 -12.759796  12.090075   \n",
       "18 -134.590550 -15.179487 -14.993298   6.840558   6.451064  -1.110917   \n",
       "19  -91.597398   8.188772  -3.592316   4.967903 -11.916534   0.722847   \n",
       "\n",
       "          pc7        pc8  \n",
       "0   -7.571207   2.725204  \n",
       "1   -4.565921 -10.561798  \n",
       "2   -0.567702  -3.837408  \n",
       "3    7.248145   9.599575  \n",
       "4    1.493155  -2.546104  \n",
       "5    0.064673  -2.047802  \n",
       "6    2.558289   8.284205  \n",
       "7   10.178722   2.314090  \n",
       "8   -4.210301  -6.725054  \n",
       "9   -0.964163   0.941722  \n",
       "10  -6.081162  -7.894823  \n",
       "11  10.973204  -3.797090  \n",
       "12  12.886728   2.032154  \n",
       "13  -0.052133   0.108850  \n",
       "14   6.795605  -7.378362  \n",
       "15  -4.905441  -1.228370  \n",
       "16   8.151503  -1.808449  \n",
       "17  -2.002940   4.518858  \n",
       "18  -4.516096   1.179728  \n",
       "19  -3.657166  -7.167681  "
      ]
     },
     "execution_count": 27,
     "metadata": {},
     "output_type": "execute_result"
    }
   ],
   "source": [
    "X_train.head(20)"
   ]
  },
  {
   "cell_type": "code",
   "execution_count": 28,
   "metadata": {},
   "outputs": [
    {
     "data": {
      "text/plain": [
       "array([9.62117787e-01, 1.62746166e-02, 1.14391586e-02, 3.55353542e-03,\n",
       "       1.78572405e-03, 1.31253223e-03, 1.14984462e-03, 7.19995508e-04])"
      ]
     },
     "execution_count": 28,
     "metadata": {},
     "output_type": "execute_result"
    }
   ],
   "source": [
    "pca.explained_variance_ratio_\n"
   ]
  },
  {
   "cell_type": "code",
   "execution_count": 29,
   "metadata": {},
   "outputs": [
    {
     "data": {
      "text/plain": [
       "0.9983531935744906"
      ]
     },
     "execution_count": 29,
     "metadata": {},
     "output_type": "execute_result"
    }
   ],
   "source": [
    "pca.explained_variance_ratio_.sum()"
   ]
  },
  {
   "cell_type": "code",
   "execution_count": 30,
   "metadata": {},
   "outputs": [],
   "source": [
    "X_test = pca.transform(X_test)"
   ]
  },
  {
   "cell_type": "code",
   "execution_count": 31,
   "metadata": {},
   "outputs": [
    {
     "data": {
      "text/plain": [
       "(144, 8)"
      ]
     },
     "execution_count": 31,
     "metadata": {},
     "output_type": "execute_result"
    }
   ],
   "source": [
    "X_test.shape"
   ]
  },
  {
   "cell_type": "code",
   "execution_count": 32,
   "metadata": {},
   "outputs": [
    {
     "data": {
      "text/html": [
       "<div>\n",
       "<style scoped>\n",
       "    .dataframe tbody tr th:only-of-type {\n",
       "        vertical-align: middle;\n",
       "    }\n",
       "\n",
       "    .dataframe tbody tr th {\n",
       "        vertical-align: top;\n",
       "    }\n",
       "\n",
       "    .dataframe thead th {\n",
       "        text-align: right;\n",
       "    }\n",
       "</style>\n",
       "<table border=\"1\" class=\"dataframe\">\n",
       "  <thead>\n",
       "    <tr style=\"text-align: right;\">\n",
       "      <th></th>\n",
       "      <th>pc1</th>\n",
       "      <th>pc2</th>\n",
       "      <th>pc3</th>\n",
       "      <th>pc4</th>\n",
       "      <th>pc5</th>\n",
       "      <th>pc6</th>\n",
       "      <th>pc7</th>\n",
       "      <th>pc8</th>\n",
       "    </tr>\n",
       "  </thead>\n",
       "  <tbody>\n",
       "    <tr>\n",
       "      <th>count</th>\n",
       "      <td>5.750000e+02</td>\n",
       "      <td>5.750000e+02</td>\n",
       "      <td>5.750000e+02</td>\n",
       "      <td>5.750000e+02</td>\n",
       "      <td>5.750000e+02</td>\n",
       "      <td>5.750000e+02</td>\n",
       "      <td>5.750000e+02</td>\n",
       "      <td>5.750000e+02</td>\n",
       "    </tr>\n",
       "    <tr>\n",
       "      <th>mean</th>\n",
       "      <td>1.581730e-14</td>\n",
       "      <td>5.091193e-15</td>\n",
       "      <td>-1.087439e-14</td>\n",
       "      <td>-4.127326e-15</td>\n",
       "      <td>-6.116846e-15</td>\n",
       "      <td>2.372595e-15</td>\n",
       "      <td>1.317284e-14</td>\n",
       "      <td>-4.473330e-15</td>\n",
       "    </tr>\n",
       "    <tr>\n",
       "      <th>std</th>\n",
       "      <td>1.877697e+02</td>\n",
       "      <td>2.442118e+01</td>\n",
       "      <td>2.047426e+01</td>\n",
       "      <td>1.141147e+01</td>\n",
       "      <td>8.089440e+00</td>\n",
       "      <td>6.935316e+00</td>\n",
       "      <td>6.491288e+00</td>\n",
       "      <td>5.136605e+00</td>\n",
       "    </tr>\n",
       "    <tr>\n",
       "      <th>min</th>\n",
       "      <td>-2.794958e+02</td>\n",
       "      <td>-7.000660e+01</td>\n",
       "      <td>-4.456718e+01</td>\n",
       "      <td>-2.319948e+01</td>\n",
       "      <td>-1.922435e+01</td>\n",
       "      <td>-2.006164e+01</td>\n",
       "      <td>-1.925631e+01</td>\n",
       "      <td>-1.426314e+01</td>\n",
       "    </tr>\n",
       "    <tr>\n",
       "      <th>25%</th>\n",
       "      <td>-1.290343e+02</td>\n",
       "      <td>-1.704496e+01</td>\n",
       "      <td>-1.675088e+01</td>\n",
       "      <td>-7.343622e+00</td>\n",
       "      <td>-5.930817e+00</td>\n",
       "      <td>-4.698134e+00</td>\n",
       "      <td>-4.603956e+00</td>\n",
       "      <td>-3.718848e+00</td>\n",
       "    </tr>\n",
       "    <tr>\n",
       "      <th>50%</th>\n",
       "      <td>-7.819896e+01</td>\n",
       "      <td>7.901224e-01</td>\n",
       "      <td>9.500802e-01</td>\n",
       "      <td>-1.825234e+00</td>\n",
       "      <td>-4.191271e-01</td>\n",
       "      <td>-5.596413e-01</td>\n",
       "      <td>-3.633353e-01</td>\n",
       "      <td>-3.156200e-01</td>\n",
       "    </tr>\n",
       "    <tr>\n",
       "      <th>75%</th>\n",
       "      <td>1.578762e+02</td>\n",
       "      <td>1.794515e+01</td>\n",
       "      <td>1.492798e+01</td>\n",
       "      <td>6.502036e+00</td>\n",
       "      <td>5.804565e+00</td>\n",
       "      <td>4.012170e+00</td>\n",
       "      <td>3.690707e+00</td>\n",
       "      <td>3.165282e+00</td>\n",
       "    </tr>\n",
       "    <tr>\n",
       "      <th>max</th>\n",
       "      <td>5.985354e+02</td>\n",
       "      <td>1.504329e+02</td>\n",
       "      <td>9.133451e+01</td>\n",
       "      <td>8.887187e+01</td>\n",
       "      <td>2.792577e+01</td>\n",
       "      <td>3.077825e+01</td>\n",
       "      <td>2.184997e+01</td>\n",
       "      <td>2.702850e+01</td>\n",
       "    </tr>\n",
       "  </tbody>\n",
       "</table>\n",
       "</div>"
      ],
      "text/plain": [
       "                pc1           pc2           pc3           pc4           pc5  \\\n",
       "count  5.750000e+02  5.750000e+02  5.750000e+02  5.750000e+02  5.750000e+02   \n",
       "mean   1.581730e-14  5.091193e-15 -1.087439e-14 -4.127326e-15 -6.116846e-15   \n",
       "std    1.877697e+02  2.442118e+01  2.047426e+01  1.141147e+01  8.089440e+00   \n",
       "min   -2.794958e+02 -7.000660e+01 -4.456718e+01 -2.319948e+01 -1.922435e+01   \n",
       "25%   -1.290343e+02 -1.704496e+01 -1.675088e+01 -7.343622e+00 -5.930817e+00   \n",
       "50%   -7.819896e+01  7.901224e-01  9.500802e-01 -1.825234e+00 -4.191271e-01   \n",
       "75%    1.578762e+02  1.794515e+01  1.492798e+01  6.502036e+00  5.804565e+00   \n",
       "max    5.985354e+02  1.504329e+02  9.133451e+01  8.887187e+01  2.792577e+01   \n",
       "\n",
       "                pc6           pc7           pc8  \n",
       "count  5.750000e+02  5.750000e+02  5.750000e+02  \n",
       "mean   2.372595e-15  1.317284e-14 -4.473330e-15  \n",
       "std    6.935316e+00  6.491288e+00  5.136605e+00  \n",
       "min   -2.006164e+01 -1.925631e+01 -1.426314e+01  \n",
       "25%   -4.698134e+00 -4.603956e+00 -3.718848e+00  \n",
       "50%   -5.596413e-01 -3.633353e-01 -3.156200e-01  \n",
       "75%    4.012170e+00  3.690707e+00  3.165282e+00  \n",
       "max    3.077825e+01  2.184997e+01  2.702850e+01  "
      ]
     },
     "execution_count": 32,
     "metadata": {},
     "output_type": "execute_result"
    }
   ],
   "source": [
    "X_train.describe()"
   ]
  },
  {
   "cell_type": "code",
   "execution_count": 33,
   "metadata": {},
   "outputs": [],
   "source": [
    "from sklearn.preprocessing import StandardScaler"
   ]
  },
  {
   "cell_type": "code",
   "execution_count": 34,
   "metadata": {},
   "outputs": [],
   "source": [
    "ss = StandardScaler()"
   ]
  },
  {
   "cell_type": "code",
   "execution_count": 35,
   "metadata": {},
   "outputs": [],
   "source": [
    "X_train = ss.fit_transform(X_train)"
   ]
  },
  {
   "cell_type": "code",
   "execution_count": 36,
   "metadata": {},
   "outputs": [],
   "source": [
    "X_train = pd.DataFrame(X_train)"
   ]
  },
  {
   "cell_type": "code",
   "execution_count": 37,
   "metadata": {},
   "outputs": [
    {
     "data": {
      "text/html": [
       "<div>\n",
       "<style scoped>\n",
       "    .dataframe tbody tr th:only-of-type {\n",
       "        vertical-align: middle;\n",
       "    }\n",
       "\n",
       "    .dataframe tbody tr th {\n",
       "        vertical-align: top;\n",
       "    }\n",
       "\n",
       "    .dataframe thead th {\n",
       "        text-align: right;\n",
       "    }\n",
       "</style>\n",
       "<table border=\"1\" class=\"dataframe\">\n",
       "  <thead>\n",
       "    <tr style=\"text-align: right;\">\n",
       "      <th></th>\n",
       "      <th>0</th>\n",
       "      <th>1</th>\n",
       "      <th>2</th>\n",
       "      <th>3</th>\n",
       "      <th>4</th>\n",
       "      <th>5</th>\n",
       "      <th>6</th>\n",
       "      <th>7</th>\n",
       "    </tr>\n",
       "  </thead>\n",
       "  <tbody>\n",
       "    <tr>\n",
       "      <th>0</th>\n",
       "      <td>0.547747</td>\n",
       "      <td>0.062804</td>\n",
       "      <td>0.912536</td>\n",
       "      <td>-1.071801</td>\n",
       "      <td>-0.066333</td>\n",
       "      <td>-0.158374</td>\n",
       "      <td>-1.167380</td>\n",
       "      <td>0.531008</td>\n",
       "    </tr>\n",
       "    <tr>\n",
       "      <th>1</th>\n",
       "      <td>-0.711987</td>\n",
       "      <td>0.328837</td>\n",
       "      <td>-0.700731</td>\n",
       "      <td>0.232459</td>\n",
       "      <td>-0.300850</td>\n",
       "      <td>-0.158217</td>\n",
       "      <td>-0.704005</td>\n",
       "      <td>-2.057973</td>\n",
       "    </tr>\n",
       "    <tr>\n",
       "      <th>2</th>\n",
       "      <td>-0.254526</td>\n",
       "      <td>-0.356634</td>\n",
       "      <td>1.093528</td>\n",
       "      <td>-0.686737</td>\n",
       "      <td>-0.633030</td>\n",
       "      <td>1.513615</td>\n",
       "      <td>-0.087532</td>\n",
       "      <td>-0.747721</td>\n",
       "    </tr>\n",
       "    <tr>\n",
       "      <th>3</th>\n",
       "      <td>-1.257545</td>\n",
       "      <td>0.398690</td>\n",
       "      <td>-1.323156</td>\n",
       "      <td>-0.927211</td>\n",
       "      <td>-0.471459</td>\n",
       "      <td>-0.190166</td>\n",
       "      <td>1.117568</td>\n",
       "      <td>1.870483</td>\n",
       "    </tr>\n",
       "    <tr>\n",
       "      <th>4</th>\n",
       "      <td>-0.689373</td>\n",
       "      <td>-1.431702</td>\n",
       "      <td>0.314613</td>\n",
       "      <td>0.777711</td>\n",
       "      <td>0.139740</td>\n",
       "      <td>0.679114</td>\n",
       "      <td>0.230225</td>\n",
       "      <td>-0.496110</td>\n",
       "    </tr>\n",
       "    <tr>\n",
       "      <th>5</th>\n",
       "      <td>-0.593428</td>\n",
       "      <td>-1.912871</td>\n",
       "      <td>0.753672</td>\n",
       "      <td>0.473100</td>\n",
       "      <td>1.179604</td>\n",
       "      <td>-0.579243</td>\n",
       "      <td>0.009972</td>\n",
       "      <td>-0.399015</td>\n",
       "    </tr>\n",
       "    <tr>\n",
       "      <th>6</th>\n",
       "      <td>-0.504942</td>\n",
       "      <td>2.998683</td>\n",
       "      <td>2.247235</td>\n",
       "      <td>3.234616</td>\n",
       "      <td>0.542111</td>\n",
       "      <td>3.524898</td>\n",
       "      <td>0.394454</td>\n",
       "      <td>1.614183</td>\n",
       "    </tr>\n",
       "    <tr>\n",
       "      <th>7</th>\n",
       "      <td>1.457373</td>\n",
       "      <td>0.060872</td>\n",
       "      <td>0.226293</td>\n",
       "      <td>-0.373028</td>\n",
       "      <td>0.168977</td>\n",
       "      <td>0.310135</td>\n",
       "      <td>1.569424</td>\n",
       "      <td>0.450902</td>\n",
       "    </tr>\n",
       "    <tr>\n",
       "      <th>8</th>\n",
       "      <td>-0.626433</td>\n",
       "      <td>-1.123973</td>\n",
       "      <td>-0.088298</td>\n",
       "      <td>0.652739</td>\n",
       "      <td>-0.900613</td>\n",
       "      <td>-0.219565</td>\n",
       "      <td>-0.649173</td>\n",
       "      <td>-1.310381</td>\n",
       "    </tr>\n",
       "    <tr>\n",
       "      <th>9</th>\n",
       "      <td>-0.352269</td>\n",
       "      <td>0.012180</td>\n",
       "      <td>0.427195</td>\n",
       "      <td>-1.132552</td>\n",
       "      <td>1.818150</td>\n",
       "      <td>1.570687</td>\n",
       "      <td>-0.148661</td>\n",
       "      <td>0.183495</td>\n",
       "    </tr>\n",
       "    <tr>\n",
       "      <th>10</th>\n",
       "      <td>1.002166</td>\n",
       "      <td>0.585263</td>\n",
       "      <td>0.542480</td>\n",
       "      <td>-0.205382</td>\n",
       "      <td>-0.018300</td>\n",
       "      <td>-1.280402</td>\n",
       "      <td>-0.937635</td>\n",
       "      <td>-1.538311</td>\n",
       "    </tr>\n",
       "    <tr>\n",
       "      <th>11</th>\n",
       "      <td>1.348556</td>\n",
       "      <td>-0.416371</td>\n",
       "      <td>0.308411</td>\n",
       "      <td>-0.330794</td>\n",
       "      <td>1.253200</td>\n",
       "      <td>0.459117</td>\n",
       "      <td>1.691923</td>\n",
       "      <td>-0.739865</td>\n",
       "    </tr>\n",
       "    <tr>\n",
       "      <th>12</th>\n",
       "      <td>-1.353243</td>\n",
       "      <td>-0.936876</td>\n",
       "      <td>-0.532348</td>\n",
       "      <td>1.003919</td>\n",
       "      <td>-0.220537</td>\n",
       "      <td>-0.805628</td>\n",
       "      <td>1.986963</td>\n",
       "      <td>0.395967</td>\n",
       "    </tr>\n",
       "    <tr>\n",
       "      <th>13</th>\n",
       "      <td>2.722733</td>\n",
       "      <td>-0.793460</td>\n",
       "      <td>0.271440</td>\n",
       "      <td>2.817838</td>\n",
       "      <td>-1.196451</td>\n",
       "      <td>-2.895197</td>\n",
       "      <td>-0.008038</td>\n",
       "      <td>0.021210</td>\n",
       "    </tr>\n",
       "    <tr>\n",
       "      <th>14</th>\n",
       "      <td>-0.855320</td>\n",
       "      <td>-1.236666</td>\n",
       "      <td>-0.923077</td>\n",
       "      <td>1.129099</td>\n",
       "      <td>-1.736264</td>\n",
       "      <td>-0.405810</td>\n",
       "      <td>1.047792</td>\n",
       "      <td>-1.437678</td>\n",
       "    </tr>\n",
       "    <tr>\n",
       "      <th>15</th>\n",
       "      <td>-0.638888</td>\n",
       "      <td>-1.632027</td>\n",
       "      <td>0.439663</td>\n",
       "      <td>1.086839</td>\n",
       "      <td>0.082369</td>\n",
       "      <td>0.401874</td>\n",
       "      <td>-0.756354</td>\n",
       "      <td>-0.239349</td>\n",
       "    </tr>\n",
       "    <tr>\n",
       "      <th>16</th>\n",
       "      <td>0.708955</td>\n",
       "      <td>1.000833</td>\n",
       "      <td>1.286947</td>\n",
       "      <td>0.568710</td>\n",
       "      <td>-1.216326</td>\n",
       "      <td>-1.677870</td>\n",
       "      <td>1.256854</td>\n",
       "      <td>-0.352377</td>\n",
       "    </tr>\n",
       "    <tr>\n",
       "      <th>17</th>\n",
       "      <td>1.611457</td>\n",
       "      <td>-0.265740</td>\n",
       "      <td>-0.055687</td>\n",
       "      <td>-0.642151</td>\n",
       "      <td>-1.578713</td>\n",
       "      <td>1.744780</td>\n",
       "      <td>-0.308827</td>\n",
       "      <td>0.880502</td>\n",
       "    </tr>\n",
       "    <tr>\n",
       "      <th>18</th>\n",
       "      <td>-0.717410</td>\n",
       "      <td>-0.622112</td>\n",
       "      <td>-0.732937</td>\n",
       "      <td>0.599968</td>\n",
       "      <td>0.798162</td>\n",
       "      <td>-0.160322</td>\n",
       "      <td>-0.696322</td>\n",
       "      <td>0.229871</td>\n",
       "    </tr>\n",
       "    <tr>\n",
       "      <th>19</th>\n",
       "      <td>-0.488243</td>\n",
       "      <td>0.335606</td>\n",
       "      <td>-0.175608</td>\n",
       "      <td>0.435722</td>\n",
       "      <td>-1.474380</td>\n",
       "      <td>0.104318</td>\n",
       "      <td>-0.563887</td>\n",
       "      <td>-1.396627</td>\n",
       "    </tr>\n",
       "  </tbody>\n",
       "</table>\n",
       "</div>"
      ],
      "text/plain": [
       "           0         1         2         3         4         5         6  \\\n",
       "0   0.547747  0.062804  0.912536 -1.071801 -0.066333 -0.158374 -1.167380   \n",
       "1  -0.711987  0.328837 -0.700731  0.232459 -0.300850 -0.158217 -0.704005   \n",
       "2  -0.254526 -0.356634  1.093528 -0.686737 -0.633030  1.513615 -0.087532   \n",
       "3  -1.257545  0.398690 -1.323156 -0.927211 -0.471459 -0.190166  1.117568   \n",
       "4  -0.689373 -1.431702  0.314613  0.777711  0.139740  0.679114  0.230225   \n",
       "5  -0.593428 -1.912871  0.753672  0.473100  1.179604 -0.579243  0.009972   \n",
       "6  -0.504942  2.998683  2.247235  3.234616  0.542111  3.524898  0.394454   \n",
       "7   1.457373  0.060872  0.226293 -0.373028  0.168977  0.310135  1.569424   \n",
       "8  -0.626433 -1.123973 -0.088298  0.652739 -0.900613 -0.219565 -0.649173   \n",
       "9  -0.352269  0.012180  0.427195 -1.132552  1.818150  1.570687 -0.148661   \n",
       "10  1.002166  0.585263  0.542480 -0.205382 -0.018300 -1.280402 -0.937635   \n",
       "11  1.348556 -0.416371  0.308411 -0.330794  1.253200  0.459117  1.691923   \n",
       "12 -1.353243 -0.936876 -0.532348  1.003919 -0.220537 -0.805628  1.986963   \n",
       "13  2.722733 -0.793460  0.271440  2.817838 -1.196451 -2.895197 -0.008038   \n",
       "14 -0.855320 -1.236666 -0.923077  1.129099 -1.736264 -0.405810  1.047792   \n",
       "15 -0.638888 -1.632027  0.439663  1.086839  0.082369  0.401874 -0.756354   \n",
       "16  0.708955  1.000833  1.286947  0.568710 -1.216326 -1.677870  1.256854   \n",
       "17  1.611457 -0.265740 -0.055687 -0.642151 -1.578713  1.744780 -0.308827   \n",
       "18 -0.717410 -0.622112 -0.732937  0.599968  0.798162 -0.160322 -0.696322   \n",
       "19 -0.488243  0.335606 -0.175608  0.435722 -1.474380  0.104318 -0.563887   \n",
       "\n",
       "           7  \n",
       "0   0.531008  \n",
       "1  -2.057973  \n",
       "2  -0.747721  \n",
       "3   1.870483  \n",
       "4  -0.496110  \n",
       "5  -0.399015  \n",
       "6   1.614183  \n",
       "7   0.450902  \n",
       "8  -1.310381  \n",
       "9   0.183495  \n",
       "10 -1.538311  \n",
       "11 -0.739865  \n",
       "12  0.395967  \n",
       "13  0.021210  \n",
       "14 -1.437678  \n",
       "15 -0.239349  \n",
       "16 -0.352377  \n",
       "17  0.880502  \n",
       "18  0.229871  \n",
       "19 -1.396627  "
      ]
     },
     "execution_count": 37,
     "metadata": {},
     "output_type": "execute_result"
    }
   ],
   "source": [
    "X_train.head(20)"
   ]
  },
  {
   "cell_type": "code",
   "execution_count": 38,
   "metadata": {},
   "outputs": [
    {
     "data": {
      "text/plain": [
       "(575, 8)"
      ]
     },
     "execution_count": 38,
     "metadata": {},
     "output_type": "execute_result"
    }
   ],
   "source": [
    "X_train.shape"
   ]
  },
  {
   "cell_type": "code",
   "execution_count": 39,
   "metadata": {},
   "outputs": [
    {
     "data": {
      "text/html": [
       "<div>\n",
       "<style scoped>\n",
       "    .dataframe tbody tr th:only-of-type {\n",
       "        vertical-align: middle;\n",
       "    }\n",
       "\n",
       "    .dataframe tbody tr th {\n",
       "        vertical-align: top;\n",
       "    }\n",
       "\n",
       "    .dataframe thead th {\n",
       "        text-align: right;\n",
       "    }\n",
       "</style>\n",
       "<table border=\"1\" class=\"dataframe\">\n",
       "  <thead>\n",
       "    <tr style=\"text-align: right;\">\n",
       "      <th></th>\n",
       "      <th>0</th>\n",
       "      <th>1</th>\n",
       "      <th>2</th>\n",
       "      <th>3</th>\n",
       "      <th>4</th>\n",
       "      <th>5</th>\n",
       "      <th>6</th>\n",
       "      <th>7</th>\n",
       "    </tr>\n",
       "  </thead>\n",
       "  <tbody>\n",
       "    <tr>\n",
       "      <th>count</th>\n",
       "      <td>5.750000e+02</td>\n",
       "      <td>5.750000e+02</td>\n",
       "      <td>5.750000e+02</td>\n",
       "      <td>5.750000e+02</td>\n",
       "      <td>5.750000e+02</td>\n",
       "      <td>575.000000</td>\n",
       "      <td>5.750000e+02</td>\n",
       "      <td>5.750000e+02</td>\n",
       "    </tr>\n",
       "    <tr>\n",
       "      <th>mean</th>\n",
       "      <td>4.942906e-17</td>\n",
       "      <td>-4.633974e-17</td>\n",
       "      <td>1.235726e-17</td>\n",
       "      <td>-1.081261e-17</td>\n",
       "      <td>-1.390192e-17</td>\n",
       "      <td>0.000000</td>\n",
       "      <td>3.089316e-17</td>\n",
       "      <td>-2.471453e-17</td>\n",
       "    </tr>\n",
       "    <tr>\n",
       "      <th>std</th>\n",
       "      <td>1.000871e+00</td>\n",
       "      <td>1.000871e+00</td>\n",
       "      <td>1.000871e+00</td>\n",
       "      <td>1.000871e+00</td>\n",
       "      <td>1.000871e+00</td>\n",
       "      <td>1.000871</td>\n",
       "      <td>1.000871e+00</td>\n",
       "      <td>1.000871e+00</td>\n",
       "    </tr>\n",
       "    <tr>\n",
       "      <th>min</th>\n",
       "      <td>-1.489800e+00</td>\n",
       "      <td>-2.869130e+00</td>\n",
       "      <td>-2.178637e+00</td>\n",
       "      <td>-2.034767e+00</td>\n",
       "      <td>-2.378544e+00</td>\n",
       "      <td>-2.895197</td>\n",
       "      <td>-2.969069e+00</td>\n",
       "      <td>-2.779181e+00</td>\n",
       "    </tr>\n",
       "    <tr>\n",
       "      <th>25%</th>\n",
       "      <td>-6.877928e-01</td>\n",
       "      <td>-6.985658e-01</td>\n",
       "      <td>-8.188554e-01</td>\n",
       "      <td>-6.440902e-01</td>\n",
       "      <td>-7.337938e-01</td>\n",
       "      <td>-0.678012</td>\n",
       "      <td>-7.098690e-01</td>\n",
       "      <td>-7.246198e-01</td>\n",
       "    </tr>\n",
       "    <tr>\n",
       "      <th>50%</th>\n",
       "      <td>-4.168248e-01</td>\n",
       "      <td>3.238215e-02</td>\n",
       "      <td>4.644403e-02</td>\n",
       "      <td>-1.600866e-01</td>\n",
       "      <td>-5.185675e-02</td>\n",
       "      <td>-0.080765</td>\n",
       "      <td>-5.602149e-02</td>\n",
       "      <td>-6.149875e-02</td>\n",
       "    </tr>\n",
       "    <tr>\n",
       "      <th>75%</th>\n",
       "      <td>8.415294e-01</td>\n",
       "      <td>7.354589e-01</td>\n",
       "      <td>7.297441e-01</td>\n",
       "      <td>5.702768e-01</td>\n",
       "      <td>7.181733e-01</td>\n",
       "      <td>0.579017</td>\n",
       "      <td>5.690582e-01</td>\n",
       "      <td>6.167572e-01</td>\n",
       "    </tr>\n",
       "    <tr>\n",
       "      <th>max</th>\n",
       "      <td>3.190380e+00</td>\n",
       "      <td>6.165299e+00</td>\n",
       "      <td>4.464826e+00</td>\n",
       "      <td>7.794723e+00</td>\n",
       "      <td>3.455132e+00</td>\n",
       "      <td>4.441766</td>\n",
       "      <td>3.368976e+00</td>\n",
       "      <td>5.266521e+00</td>\n",
       "    </tr>\n",
       "  </tbody>\n",
       "</table>\n",
       "</div>"
      ],
      "text/plain": [
       "                  0             1             2             3             4  \\\n",
       "count  5.750000e+02  5.750000e+02  5.750000e+02  5.750000e+02  5.750000e+02   \n",
       "mean   4.942906e-17 -4.633974e-17  1.235726e-17 -1.081261e-17 -1.390192e-17   \n",
       "std    1.000871e+00  1.000871e+00  1.000871e+00  1.000871e+00  1.000871e+00   \n",
       "min   -1.489800e+00 -2.869130e+00 -2.178637e+00 -2.034767e+00 -2.378544e+00   \n",
       "25%   -6.877928e-01 -6.985658e-01 -8.188554e-01 -6.440902e-01 -7.337938e-01   \n",
       "50%   -4.168248e-01  3.238215e-02  4.644403e-02 -1.600866e-01 -5.185675e-02   \n",
       "75%    8.415294e-01  7.354589e-01  7.297441e-01  5.702768e-01  7.181733e-01   \n",
       "max    3.190380e+00  6.165299e+00  4.464826e+00  7.794723e+00  3.455132e+00   \n",
       "\n",
       "                5             6             7  \n",
       "count  575.000000  5.750000e+02  5.750000e+02  \n",
       "mean     0.000000  3.089316e-17 -2.471453e-17  \n",
       "std      1.000871  1.000871e+00  1.000871e+00  \n",
       "min     -2.895197 -2.969069e+00 -2.779181e+00  \n",
       "25%     -0.678012 -7.098690e-01 -7.246198e-01  \n",
       "50%     -0.080765 -5.602149e-02 -6.149875e-02  \n",
       "75%      0.579017  5.690582e-01  6.167572e-01  \n",
       "max      4.441766  3.368976e+00  5.266521e+00  "
      ]
     },
     "execution_count": 39,
     "metadata": {},
     "output_type": "execute_result"
    }
   ],
   "source": [
    "X_train.describe()"
   ]
  },
  {
   "cell_type": "code",
   "execution_count": 40,
   "metadata": {},
   "outputs": [
    {
     "name": "stderr",
     "output_type": "stream",
     "text": [
      "c:\\Users\\lavle\\AppData\\Local\\Programs\\Python\\Python311\\Lib\\site-packages\\sklearn\\base.py:420: UserWarning: X does not have valid feature names, but StandardScaler was fitted with feature names\n",
      "  warnings.warn(\n"
     ]
    }
   ],
   "source": [
    "X_test = ss.transform(X_test)"
   ]
  },
  {
   "cell_type": "code",
   "execution_count": 41,
   "metadata": {},
   "outputs": [],
   "source": [
    "X_test= pd.DataFrame(X_test)"
   ]
  },
  {
   "cell_type": "code",
   "execution_count": 42,
   "metadata": {},
   "outputs": [
    {
     "data": {
      "text/plain": [
       "(144, 8)"
      ]
     },
     "execution_count": 42,
     "metadata": {},
     "output_type": "execute_result"
    }
   ],
   "source": [
    "X_test.shape"
   ]
  },
  {
   "cell_type": "code",
   "execution_count": 43,
   "metadata": {},
   "outputs": [
    {
     "data": {
      "text/html": [
       "<div>\n",
       "<style scoped>\n",
       "    .dataframe tbody tr th:only-of-type {\n",
       "        vertical-align: middle;\n",
       "    }\n",
       "\n",
       "    .dataframe tbody tr th {\n",
       "        vertical-align: top;\n",
       "    }\n",
       "\n",
       "    .dataframe thead th {\n",
       "        text-align: right;\n",
       "    }\n",
       "</style>\n",
       "<table border=\"1\" class=\"dataframe\">\n",
       "  <thead>\n",
       "    <tr style=\"text-align: right;\">\n",
       "      <th></th>\n",
       "      <th>0</th>\n",
       "      <th>1</th>\n",
       "      <th>2</th>\n",
       "      <th>3</th>\n",
       "      <th>4</th>\n",
       "      <th>5</th>\n",
       "      <th>6</th>\n",
       "      <th>7</th>\n",
       "    </tr>\n",
       "  </thead>\n",
       "  <tbody>\n",
       "    <tr>\n",
       "      <th>0</th>\n",
       "      <td>-1.032067</td>\n",
       "      <td>0.332956</td>\n",
       "      <td>-1.389242</td>\n",
       "      <td>-0.309253</td>\n",
       "      <td>1.001708</td>\n",
       "      <td>0.354901</td>\n",
       "      <td>0.534651</td>\n",
       "      <td>2.111123</td>\n",
       "    </tr>\n",
       "    <tr>\n",
       "      <th>1</th>\n",
       "      <td>1.251555</td>\n",
       "      <td>0.325657</td>\n",
       "      <td>-0.939872</td>\n",
       "      <td>-0.469110</td>\n",
       "      <td>-0.899842</td>\n",
       "      <td>0.440386</td>\n",
       "      <td>-0.810537</td>\n",
       "      <td>0.106800</td>\n",
       "    </tr>\n",
       "    <tr>\n",
       "      <th>2</th>\n",
       "      <td>-0.628794</td>\n",
       "      <td>-0.746202</td>\n",
       "      <td>0.917485</td>\n",
       "      <td>0.332114</td>\n",
       "      <td>-0.862001</td>\n",
       "      <td>-0.424257</td>\n",
       "      <td>-0.300897</td>\n",
       "      <td>-0.943474</td>\n",
       "    </tr>\n",
       "    <tr>\n",
       "      <th>3</th>\n",
       "      <td>-0.032710</td>\n",
       "      <td>1.070432</td>\n",
       "      <td>-1.478745</td>\n",
       "      <td>-0.090495</td>\n",
       "      <td>1.354474</td>\n",
       "      <td>-0.824495</td>\n",
       "      <td>-0.461904</td>\n",
       "      <td>-0.824246</td>\n",
       "    </tr>\n",
       "    <tr>\n",
       "      <th>4</th>\n",
       "      <td>2.375943</td>\n",
       "      <td>-1.419121</td>\n",
       "      <td>-0.296472</td>\n",
       "      <td>1.192541</td>\n",
       "      <td>-2.334082</td>\n",
       "      <td>-1.261255</td>\n",
       "      <td>-0.186151</td>\n",
       "      <td>0.114721</td>\n",
       "    </tr>\n",
       "    <tr>\n",
       "      <th>5</th>\n",
       "      <td>-1.399405</td>\n",
       "      <td>-0.216913</td>\n",
       "      <td>-0.916054</td>\n",
       "      <td>0.396855</td>\n",
       "      <td>0.099841</td>\n",
       "      <td>-1.336713</td>\n",
       "      <td>1.854788</td>\n",
       "      <td>-0.087648</td>\n",
       "    </tr>\n",
       "    <tr>\n",
       "      <th>6</th>\n",
       "      <td>-0.271405</td>\n",
       "      <td>1.574934</td>\n",
       "      <td>-1.291345</td>\n",
       "      <td>0.084521</td>\n",
       "      <td>-0.683076</td>\n",
       "      <td>-0.460883</td>\n",
       "      <td>0.248307</td>\n",
       "      <td>-1.005991</td>\n",
       "    </tr>\n",
       "    <tr>\n",
       "      <th>7</th>\n",
       "      <td>-0.891190</td>\n",
       "      <td>0.528826</td>\n",
       "      <td>-1.063278</td>\n",
       "      <td>0.439742</td>\n",
       "      <td>-1.065450</td>\n",
       "      <td>1.208309</td>\n",
       "      <td>-0.121809</td>\n",
       "      <td>-0.669267</td>\n",
       "    </tr>\n",
       "    <tr>\n",
       "      <th>8</th>\n",
       "      <td>-0.582264</td>\n",
       "      <td>-1.568318</td>\n",
       "      <td>-0.468452</td>\n",
       "      <td>1.154402</td>\n",
       "      <td>-0.926057</td>\n",
       "      <td>-0.359073</td>\n",
       "      <td>-0.636968</td>\n",
       "      <td>-0.460618</td>\n",
       "    </tr>\n",
       "    <tr>\n",
       "      <th>9</th>\n",
       "      <td>1.129304</td>\n",
       "      <td>0.083435</td>\n",
       "      <td>0.415495</td>\n",
       "      <td>0.020143</td>\n",
       "      <td>0.620342</td>\n",
       "      <td>-0.991063</td>\n",
       "      <td>-1.259482</td>\n",
       "      <td>0.031177</td>\n",
       "    </tr>\n",
       "    <tr>\n",
       "      <th>10</th>\n",
       "      <td>-0.570198</td>\n",
       "      <td>-0.337365</td>\n",
       "      <td>0.817292</td>\n",
       "      <td>-0.283000</td>\n",
       "      <td>-0.931024</td>\n",
       "      <td>-0.298043</td>\n",
       "      <td>-0.359958</td>\n",
       "      <td>-0.598044</td>\n",
       "    </tr>\n",
       "    <tr>\n",
       "      <th>11</th>\n",
       "      <td>-1.009461</td>\n",
       "      <td>-1.108490</td>\n",
       "      <td>-0.756995</td>\n",
       "      <td>0.623102</td>\n",
       "      <td>-0.405773</td>\n",
       "      <td>-1.364904</td>\n",
       "      <td>0.928441</td>\n",
       "      <td>1.175129</td>\n",
       "    </tr>\n",
       "    <tr>\n",
       "      <th>12</th>\n",
       "      <td>1.837102</td>\n",
       "      <td>-0.752287</td>\n",
       "      <td>0.009003</td>\n",
       "      <td>0.979480</td>\n",
       "      <td>-0.416316</td>\n",
       "      <td>-1.209279</td>\n",
       "      <td>-0.006629</td>\n",
       "      <td>0.408088</td>\n",
       "    </tr>\n",
       "    <tr>\n",
       "      <th>13</th>\n",
       "      <td>-0.640028</td>\n",
       "      <td>-1.054998</td>\n",
       "      <td>1.193522</td>\n",
       "      <td>0.774095</td>\n",
       "      <td>-0.653616</td>\n",
       "      <td>-0.088509</td>\n",
       "      <td>-0.065268</td>\n",
       "      <td>-0.586689</td>\n",
       "    </tr>\n",
       "    <tr>\n",
       "      <th>14</th>\n",
       "      <td>-0.408313</td>\n",
       "      <td>0.978602</td>\n",
       "      <td>1.167769</td>\n",
       "      <td>-0.635861</td>\n",
       "      <td>-1.588397</td>\n",
       "      <td>-1.468642</td>\n",
       "      <td>0.763971</td>\n",
       "      <td>0.684048</td>\n",
       "    </tr>\n",
       "    <tr>\n",
       "      <th>15</th>\n",
       "      <td>-1.181143</td>\n",
       "      <td>-0.082952</td>\n",
       "      <td>-0.236237</td>\n",
       "      <td>-0.067734</td>\n",
       "      <td>-0.718122</td>\n",
       "      <td>0.072447</td>\n",
       "      <td>1.033458</td>\n",
       "      <td>-1.387492</td>\n",
       "    </tr>\n",
       "    <tr>\n",
       "      <th>16</th>\n",
       "      <td>1.529198</td>\n",
       "      <td>-1.109667</td>\n",
       "      <td>-0.288381</td>\n",
       "      <td>-0.305941</td>\n",
       "      <td>-1.268354</td>\n",
       "      <td>0.997819</td>\n",
       "      <td>-0.237922</td>\n",
       "      <td>0.826153</td>\n",
       "    </tr>\n",
       "    <tr>\n",
       "      <th>17</th>\n",
       "      <td>-1.040535</td>\n",
       "      <td>-0.515317</td>\n",
       "      <td>0.358355</td>\n",
       "      <td>-0.607289</td>\n",
       "      <td>-0.034001</td>\n",
       "      <td>0.756805</td>\n",
       "      <td>-0.701821</td>\n",
       "      <td>0.702830</td>\n",
       "    </tr>\n",
       "    <tr>\n",
       "      <th>18</th>\n",
       "      <td>-1.074558</td>\n",
       "      <td>-0.669272</td>\n",
       "      <td>0.444219</td>\n",
       "      <td>0.295826</td>\n",
       "      <td>-0.478577</td>\n",
       "      <td>0.448624</td>\n",
       "      <td>0.065830</td>\n",
       "      <td>1.390680</td>\n",
       "    </tr>\n",
       "    <tr>\n",
       "      <th>19</th>\n",
       "      <td>-1.080360</td>\n",
       "      <td>-0.083321</td>\n",
       "      <td>-1.186598</td>\n",
       "      <td>-0.225914</td>\n",
       "      <td>-0.341002</td>\n",
       "      <td>1.287696</td>\n",
       "      <td>-0.794421</td>\n",
       "      <td>1.780608</td>\n",
       "    </tr>\n",
       "  </tbody>\n",
       "</table>\n",
       "</div>"
      ],
      "text/plain": [
       "           0         1         2         3         4         5         6  \\\n",
       "0  -1.032067  0.332956 -1.389242 -0.309253  1.001708  0.354901  0.534651   \n",
       "1   1.251555  0.325657 -0.939872 -0.469110 -0.899842  0.440386 -0.810537   \n",
       "2  -0.628794 -0.746202  0.917485  0.332114 -0.862001 -0.424257 -0.300897   \n",
       "3  -0.032710  1.070432 -1.478745 -0.090495  1.354474 -0.824495 -0.461904   \n",
       "4   2.375943 -1.419121 -0.296472  1.192541 -2.334082 -1.261255 -0.186151   \n",
       "5  -1.399405 -0.216913 -0.916054  0.396855  0.099841 -1.336713  1.854788   \n",
       "6  -0.271405  1.574934 -1.291345  0.084521 -0.683076 -0.460883  0.248307   \n",
       "7  -0.891190  0.528826 -1.063278  0.439742 -1.065450  1.208309 -0.121809   \n",
       "8  -0.582264 -1.568318 -0.468452  1.154402 -0.926057 -0.359073 -0.636968   \n",
       "9   1.129304  0.083435  0.415495  0.020143  0.620342 -0.991063 -1.259482   \n",
       "10 -0.570198 -0.337365  0.817292 -0.283000 -0.931024 -0.298043 -0.359958   \n",
       "11 -1.009461 -1.108490 -0.756995  0.623102 -0.405773 -1.364904  0.928441   \n",
       "12  1.837102 -0.752287  0.009003  0.979480 -0.416316 -1.209279 -0.006629   \n",
       "13 -0.640028 -1.054998  1.193522  0.774095 -0.653616 -0.088509 -0.065268   \n",
       "14 -0.408313  0.978602  1.167769 -0.635861 -1.588397 -1.468642  0.763971   \n",
       "15 -1.181143 -0.082952 -0.236237 -0.067734 -0.718122  0.072447  1.033458   \n",
       "16  1.529198 -1.109667 -0.288381 -0.305941 -1.268354  0.997819 -0.237922   \n",
       "17 -1.040535 -0.515317  0.358355 -0.607289 -0.034001  0.756805 -0.701821   \n",
       "18 -1.074558 -0.669272  0.444219  0.295826 -0.478577  0.448624  0.065830   \n",
       "19 -1.080360 -0.083321 -1.186598 -0.225914 -0.341002  1.287696 -0.794421   \n",
       "\n",
       "           7  \n",
       "0   2.111123  \n",
       "1   0.106800  \n",
       "2  -0.943474  \n",
       "3  -0.824246  \n",
       "4   0.114721  \n",
       "5  -0.087648  \n",
       "6  -1.005991  \n",
       "7  -0.669267  \n",
       "8  -0.460618  \n",
       "9   0.031177  \n",
       "10 -0.598044  \n",
       "11  1.175129  \n",
       "12  0.408088  \n",
       "13 -0.586689  \n",
       "14  0.684048  \n",
       "15 -1.387492  \n",
       "16  0.826153  \n",
       "17  0.702830  \n",
       "18  1.390680  \n",
       "19  1.780608  "
      ]
     },
     "execution_count": 43,
     "metadata": {},
     "output_type": "execute_result"
    }
   ],
   "source": [
    "X_test.head(20)"
   ]
  },
  {
   "cell_type": "code",
   "execution_count": 44,
   "metadata": {},
   "outputs": [],
   "source": [
    "import seaborn as sns"
   ]
  },
  {
   "cell_type": "code",
   "execution_count": 45,
   "metadata": {},
   "outputs": [
    {
     "data": {
      "text/plain": [
       "<Axes: >"
      ]
     },
     "execution_count": 45,
     "metadata": {},
     "output_type": "execute_result"
    },
    {
     "data": {
      "image/png": "[encoded data removed]",
      "text/plain": [
       "<Figure size 640x480 with 1 Axes>"
      ]
     },
     "metadata": {},
     "output_type": "display_data"
    }
   ],
   "source": [
    "sns.boxplot(data= X_train)"
   ]
  },
  {
   "cell_type": "code",
   "execution_count": 46,
   "metadata": {},
   "outputs": [],
   "source": [
    "from sklearn.linear_model import LogisticRegression\n",
    "from sklearn.linear_model import SGDClassifier\n",
    "from sklearn.svm import SVC\n",
    "from sklearn.neighbors import KNeighborsClassifier\n",
    "from sklearn.tree import DecisionTreeClassifier\n",
    "from sklearn.ensemble import RandomForestClassifier , GradientBoostingClassifier\n",
    "from sklearn.naive_bayes import GaussianNB"
   ]
  },
  {
   "cell_type": "code",
   "execution_count": 47,
   "metadata": {},
   "outputs": [],
   "source": [
    "lr = LogisticRegression(random_state=1)\n",
    "sgd = SGDClassifier(random_state=1)\n",
    "svc = SVC(random_state=1)\n",
    "knn = KNeighborsClassifier()\n",
    "dtc = DecisionTreeClassifier(random_state=1)\n",
    "rfc = RandomForestClassifier(random_state=1)\n",
    "gbc = GradientBoostingClassifier(random_state=1)\n",
    "gnb = GaussianNB()"
   ]
  },
  {
   "cell_type": "code",
   "execution_count": 48,
   "metadata": {},
   "outputs": [
    {
     "data": {
      "text/html": [
       "<style>#sk-container-id-1 {color: black;background-color: white;}#sk-container-id-1 pre{padding: 0;}#sk-container-id-1 div.sk-toggleable {background-color: white;}#sk-container-id-1 label.sk-toggleable__label {cursor: pointer;display: block;width: 100%;margin-bottom: 0;padding: 0.3em;box-sizing: border-box;text-align: center;}#sk-container-id-1 label.sk-toggleable__label-arrow:before {content: \"▸\";float: left;margin-right: 0.25em;color: #696969;}#sk-container-id-1 label.sk-toggleable__label-arrow:hover:before {color: black;}#sk-container-id-1 div.sk-estimator:hover label.sk-toggleable__label-arrow:before {color: black;}#sk-container-id-1 div.sk-toggleable__content {max-height: 0;max-width: 0;overflow: hidden;text-align: left;background-color: #f0f8ff;}#sk-container-id-1 div.sk-toggleable__content pre {margin: 0.2em;color: black;border-radius: 0.25em;background-color: #f0f8ff;}#sk-container-id-1 input.sk-toggleable__control:checked~div.sk-toggleable__content {max-height: 200px;max-width: 100%;overflow: auto;}#sk-container-id-1 input.sk-toggleable__control:checked~label.sk-toggleable__label-arrow:before {content: \"▾\";}#sk-container-id-1 div.sk-estimator input.sk-toggleable__control:checked~label.sk-toggleable__label {background-color: #d4ebff;}#sk-container-id-1 div.sk-label input.sk-toggleable__control:checked~label.sk-toggleable__label {background-color: #d4ebff;}#sk-container-id-1 input.sk-hidden--visually {border: 0;clip: rect(1px 1px 1px 1px);clip: rect(1px, 1px, 1px, 1px);height: 1px;margin: -1px;overflow: hidden;padding: 0;position: absolute;width: 1px;}#sk-container-id-1 div.sk-estimator {font-family: monospace;background-color: #f0f8ff;border: 1px dotted black;border-radius: 0.25em;box-sizing: border-box;margin-bottom: 0.5em;}#sk-container-id-1 div.sk-estimator:hover {background-color: #d4ebff;}#sk-container-id-1 div.sk-parallel-item::after {content: \"\";width: 100%;border-bottom: 1px solid gray;flex-grow: 1;}#sk-container-id-1 div.sk-label:hover label.sk-toggleable__label {background-color: #d4ebff;}#sk-container-id-1 div.sk-serial::before {content: \"\";position: absolute;border-left: 1px solid gray;box-sizing: border-box;top: 0;bottom: 0;left: 50%;z-index: 0;}#sk-container-id-1 div.sk-serial {display: flex;flex-direction: column;align-items: center;background-color: white;padding-right: 0.2em;padding-left: 0.2em;position: relative;}#sk-container-id-1 div.sk-item {position: relative;z-index: 1;}#sk-container-id-1 div.sk-parallel {display: flex;align-items: stretch;justify-content: center;background-color: white;position: relative;}#sk-container-id-1 div.sk-item::before, #sk-container-id-1 div.sk-parallel-item::before {content: \"\";position: absolute;border-left: 1px solid gray;box-sizing: border-box;top: 0;bottom: 0;left: 50%;z-index: -1;}#sk-container-id-1 div.sk-parallel-item {display: flex;flex-direction: column;z-index: 1;position: relative;background-color: white;}#sk-container-id-1 div.sk-parallel-item:first-child::after {align-self: flex-end;width: 50%;}#sk-container-id-1 div.sk-parallel-item:last-child::after {align-self: flex-start;width: 50%;}#sk-container-id-1 div.sk-parallel-item:only-child::after {width: 0;}#sk-container-id-1 div.sk-dashed-wrapped {border: 1px dashed gray;margin: 0 0.4em 0.5em 0.4em;box-sizing: border-box;padding-bottom: 0.4em;background-color: white;}#sk-container-id-1 div.sk-label label {font-family: monospace;font-weight: bold;display: inline-block;line-height: 1.2em;}#sk-container-id-1 div.sk-label-container {text-align: center;}#sk-container-id-1 div.sk-container {/* jupyter's `normalize.less` sets `[hidden] { display: none; }` but bootstrap.min.css set `[hidden] { display: none !important; }` so we also need the `!important` here to be able to override the default hidden behavior on the sphinx rendered scikit-learn.org. See: https://github.com/scikit-learn/scikit-learn/issues/21755 */display: inline-block !important;position: relative;}#sk-container-id-1 div.sk-text-repr-fallback {display: none;}</style><div id=\"sk-container-id-1\" class=\"sk-top-container\"><div class=\"sk-text-repr-fallback\"><pre>GaussianNB()</pre><b>In a Jupyter environment, please rerun this cell to show the HTML representation or trust the notebook. <br />On GitHub, the HTML representation is unable to render, please try loading this page with nbviewer.org.</b></div><div class=\"sk-container\" hidden><div class=\"sk-item\"><div class=\"sk-estimator sk-toggleable\"><input class=\"sk-toggleable__control sk-hidden--visually\" id=\"sk-estimator-id-1\" type=\"checkbox\" checked><label for=\"sk-estimator-id-1\" class=\"sk-toggleable__label sk-toggleable__label-arrow\">GaussianNB</label><div class=\"sk-toggleable__content\"><pre>GaussianNB()</pre></div></div></div></div></div>"
      ],
      "text/plain": [
       "GaussianNB()"
      ]
     },
     "execution_count": 48,
     "metadata": {},
     "output_type": "execute_result"
    }
   ],
   "source": [
    "lr.fit(X_train, y_train)\n",
    "sgd.fit(X_train, y_train)\n",
    "svc.fit(X_train, y_train)\n",
    "knn.fit(X_train, y_train)\n",
    "dtc.fit(X_train, y_train)\n",
    "rfc.fit(X_train, y_train)\n",
    "gbc.fit(X_train, y_train)\n",
    "gnb.fit(X_train, y_train)\n"
   ]
  },
  {
   "cell_type": "code",
   "execution_count": 49,
   "metadata": {},
   "outputs": [
    {
     "name": "stdout",
     "output_type": "stream",
     "text": [
      "0.6527777777777778\n",
      "0.6111111111111112\n",
      "0.7361111111111112\n",
      "0.6875\n",
      "0.6944444444444444\n",
      "0.7222222222222222\n",
      "0.7361111111111112\n",
      "0.5625\n"
     ]
    }
   ],
   "source": [
    "print(lr.score(X_test, y_test))\n",
    "print(sgd.score(X_test, y_test))\n",
    "print(svc.score(X_test, y_test))\n",
    "print(knn.score(X_test, y_test))\n",
    "print(dtc.score(X_test, y_test))\n",
    "print(rfc.score(X_test, y_test))\n",
    "print(gbc.score(X_test, y_test))\n",
    "print(gnb.score(X_test, y_test))"
   ]
  },
  {
   "cell_type": "code",
   "execution_count": 50,
   "metadata": {},
   "outputs": [],
   "source": [
    "y_pred_lr = lr.predict(X_test)\n",
    "y_pred_sgd = sgd.predict(X_test)\n",
    "y_pred_svc = svc.predict(X_test)\n",
    "y_pred_knn = knn.predict(X_test)\n",
    "y_pred_dtc = dtc.predict(X_test)\n",
    "y_pred_rfc = rfc.predict(X_test)\n",
    "y_pred_gbc = gbc.predict(X_test)\n",
    "y_pred_gnb = gnb.predict(X_test)"
   ]
  },
  {
   "cell_type": "code",
   "execution_count": 51,
   "metadata": {},
   "outputs": [
    {
     "data": {
      "text/plain": [
       "[0.6420164520286753,\n",
       " 0.5522941970310391,\n",
       " 0.7287588183421517,\n",
       " 0.6733825208089913,\n",
       " 0.6867225648576786,\n",
       " 0.7106531039054048,\n",
       " 0.7316539311844477,\n",
       " 0.5523314716173782]"
      ]
     },
     "execution_count": 51,
     "metadata": {},
     "output_type": "execute_result"
    }
   ],
   "source": [
    "from sklearn.metrics import f1_score\n",
    "\n",
    "C1 = f1_score(y_test, y_pred_lr, average= 'weighted')\n",
    "C2 = f1_score(y_test, y_pred_sgd, average = 'weighted')\n",
    "C3 = f1_score(y_test, y_pred_svc, average = 'weighted')\n",
    "C4 = f1_score(y_test, y_pred_knn, average = 'weighted')\n",
    "C5 = f1_score(y_test, y_pred_dtc, average = 'weighted')\n",
    "C6 = f1_score(y_test, y_pred_rfc, average = 'weighted')\n",
    "C7 = f1_score(y_test, y_pred_gbc, average = 'weighted')\n",
    "C8 = f1_score(y_test, y_pred_gnb, average = 'weighted')\n",
    "\n",
    "F1_scores = [C1, C2, C3, C4, C5, C6, C7, C8]\n",
    "F1_scores"
   ]
  },
  {
   "cell_type": "code",
   "execution_count": 54,
   "metadata": {},
   "outputs": [
    {
     "data": {
      "text/plain": [
       "<sklearn.metrics._plot.confusion_matrix.ConfusionMatrixDisplay at 0x2c216b17c10>"
      ]
     },
     "execution_count": 54,
     "metadata": {},
     "output_type": "execute_result"
    },
    {
     "data": {
      "image/png": "[encoded data removed]",
      "text/plain": [
       "<Figure size 640x480 with 2 Axes>"
      ]
     },
     "metadata": {},
     "output_type": "display_data"
    },
    {
     "data": {
      "image/png": "[encoded data removed]",
      "text/plain": [
       "<Figure size 640x480 with 2 Axes>"
      ]
     },
     "metadata": {},
     "output_type": "display_data"
    },
    {
     "data": {
      "image/png": "[encoded data removed]",
      "text/plain": [
       "<Figure size 640x480 with 2 Axes>"
      ]
     },
     "metadata": {},
     "output_type": "display_data"
    },
    {
     "data": {
      "image/png": "[encoded data removed]",
      "text/plain": [
       "<Figure size 640x480 with 2 Axes>"
      ]
     },
     "metadata": {},
     "output_type": "display_data"
    },
    {
     "data": {
      "image/png": "[encoded data removed]",
      "text/plain": [
       "<Figure size 640x480 with 2 Axes>"
      ]
     },
     "metadata": {},
     "output_type": "display_data"
    },
    {
     "data": {
      "image/png": "[encoded data removed]",
      "text/plain": [
       "<Figure size 640x480 with 2 Axes>"
      ]
     },
     "metadata": {},
     "output_type": "display_data"
    },
    {
     "data": {
      "image/png": "[encoded data removed]",
      "text/plain": [
       "<Figure size 640x480 with 2 Axes>"
      ]
     },
     "metadata": {},
     "output_type": "display_data"
    },
    {
     "data": {
      "image/png": "[encoded data removed]",
      "text/plain": [
       "<Figure size 640x480 with 2 Axes>"
      ]
     },
     "metadata": {},
     "output_type": "display_data"
    }
   ],
   "source": [
    "from sklearn.metrics import ConfusionMatrixDisplay\n",
    "\n",
    "ConfusionMatrixDisplay.from_estimator(lr, X_test, y_test )\n",
    "ConfusionMatrixDisplay.from_estimator(sgd, X_test, y_test)\n",
    "ConfusionMatrixDisplay.from_estimator(svc, X_test, y_test)\n",
    "ConfusionMatrixDisplay.from_estimator(knn, X_test, y_test)\n",
    "ConfusionMatrixDisplay.from_estimator(dtc, X_test, y_test)\n",
    "ConfusionMatrixDisplay.from_estimator(rfc, X_test, y_test)\n",
    "ConfusionMatrixDisplay.from_estimator(gbc, X_test, y_test)\n",
    "ConfusionMatrixDisplay.from_estimator(gnb, X_test, y_test)"
   ]
  },
  {
   "cell_type": "code",
   "execution_count": 55,
   "metadata": {},
   "outputs": [
    {
     "data": {
      "text/plain": [
       "4"
      ]
     },
     "execution_count": 55,
     "metadata": {},
     "output_type": "execute_result"
    }
   ],
   "source": [
    "rfc.n_classes_"
   ]
  },
  {
   "cell_type": "code",
   "execution_count": 56,
   "metadata": {},
   "outputs": [
    {
     "data": {
      "text/plain": [
       "1"
      ]
     },
     "execution_count": 56,
     "metadata": {},
     "output_type": "execute_result"
    }
   ],
   "source": [
    "rfc.n_outputs_"
   ]
  },
  {
   "cell_type": "code",
   "execution_count": 57,
   "metadata": {},
   "outputs": [
    {
     "data": {
      "text/plain": [
       "'deprecated'"
      ]
     },
     "execution_count": 57,
     "metadata": {},
     "output_type": "execute_result"
    }
   ],
   "source": [
    "rfc.base_estimator"
   ]
  },
  {
   "cell_type": "code",
   "execution_count": 58,
   "metadata": {},
   "outputs": [
    {
     "data": {
      "text/plain": [
       "[DecisionTreeClassifier(max_features='sqrt', random_state=1791095845),\n",
       " DecisionTreeClassifier(max_features='sqrt', random_state=2135392491),\n",
       " DecisionTreeClassifier(max_features='sqrt', random_state=946286476),\n",
       " DecisionTreeClassifier(max_features='sqrt', random_state=1857819720),\n",
       " DecisionTreeClassifier(max_features='sqrt', random_state=491263),\n",
       " DecisionTreeClassifier(max_features='sqrt', random_state=550290313),\n",
       " DecisionTreeClassifier(max_features='sqrt', random_state=1298508491),\n",
       " DecisionTreeClassifier(max_features='sqrt', random_state=2143362693),\n",
       " DecisionTreeClassifier(max_features='sqrt', random_state=630311759),\n",
       " DecisionTreeClassifier(max_features='sqrt', random_state=1013994432),\n",
       " DecisionTreeClassifier(max_features='sqrt', random_state=396591248),\n",
       " DecisionTreeClassifier(max_features='sqrt', random_state=1703301249),\n",
       " DecisionTreeClassifier(max_features='sqrt', random_state=799981516),\n",
       " DecisionTreeClassifier(max_features='sqrt', random_state=1666063943),\n",
       " DecisionTreeClassifier(max_features='sqrt', random_state=1484172013),\n",
       " DecisionTreeClassifier(max_features='sqrt', random_state=729053692),\n",
       " DecisionTreeClassifier(max_features='sqrt', random_state=1704103302),\n",
       " DecisionTreeClassifier(max_features='sqrt', random_state=1870626073),\n",
       " DecisionTreeClassifier(max_features='sqrt', random_state=166716594),\n",
       " DecisionTreeClassifier(max_features='sqrt', random_state=1487394068),\n",
       " DecisionTreeClassifier(max_features='sqrt', random_state=1800426750),\n",
       " DecisionTreeClassifier(max_features='sqrt', random_state=1345499493),\n",
       " DecisionTreeClassifier(max_features='sqrt', random_state=795511698),\n",
       " DecisionTreeClassifier(max_features='sqrt', random_state=105433556),\n",
       " DecisionTreeClassifier(max_features='sqrt', random_state=878115723),\n",
       " DecisionTreeClassifier(max_features='sqrt', random_state=1904615676),\n",
       " DecisionTreeClassifier(max_features='sqrt', random_state=1624002026),\n",
       " DecisionTreeClassifier(max_features='sqrt', random_state=986026652),\n",
       " DecisionTreeClassifier(max_features='sqrt', random_state=117628829),\n",
       " DecisionTreeClassifier(max_features='sqrt', random_state=147806606),\n",
       " DecisionTreeClassifier(max_features='sqrt', random_state=732152370),\n",
       " DecisionTreeClassifier(max_features='sqrt', random_state=1777953348),\n",
       " DecisionTreeClassifier(max_features='sqrt', random_state=1792310487),\n",
       " DecisionTreeClassifier(max_features='sqrt', random_state=1963679703),\n",
       " DecisionTreeClassifier(max_features='sqrt', random_state=252070889),\n",
       " DecisionTreeClassifier(max_features='sqrt', random_state=1849836273),\n",
       " DecisionTreeClassifier(max_features='sqrt', random_state=602957303),\n",
       " DecisionTreeClassifier(max_features='sqrt', random_state=1886039518),\n",
       " DecisionTreeClassifier(max_features='sqrt', random_state=850839392),\n",
       " DecisionTreeClassifier(max_features='sqrt', random_state=1195672662),\n",
       " DecisionTreeClassifier(max_features='sqrt', random_state=1291688077),\n",
       " DecisionTreeClassifier(max_features='sqrt', random_state=927586281),\n",
       " DecisionTreeClassifier(max_features='sqrt', random_state=2011168137),\n",
       " DecisionTreeClassifier(max_features='sqrt', random_state=1300333575),\n",
       " DecisionTreeClassifier(max_features='sqrt', random_state=1346146623),\n",
       " DecisionTreeClassifier(max_features='sqrt', random_state=398576445),\n",
       " DecisionTreeClassifier(max_features='sqrt', random_state=826019350),\n",
       " DecisionTreeClassifier(max_features='sqrt', random_state=77964601),\n",
       " DecisionTreeClassifier(max_features='sqrt', random_state=1616579073),\n",
       " DecisionTreeClassifier(max_features='sqrt', random_state=1567750016),\n",
       " DecisionTreeClassifier(max_features='sqrt', random_state=1694822716),\n",
       " DecisionTreeClassifier(max_features='sqrt', random_state=1413675217),\n",
       " DecisionTreeClassifier(max_features='sqrt', random_state=365262088),\n",
       " DecisionTreeClassifier(max_features='sqrt', random_state=1415635672),\n",
       " DecisionTreeClassifier(max_features='sqrt', random_state=167739021),\n",
       " DecisionTreeClassifier(max_features='sqrt', random_state=1172740723),\n",
       " DecisionTreeClassifier(max_features='sqrt', random_state=729416111),\n",
       " DecisionTreeClassifier(max_features='sqrt', random_state=254447594),\n",
       " DecisionTreeClassifier(max_features='sqrt', random_state=1624109689),\n",
       " DecisionTreeClassifier(max_features='sqrt', random_state=732412360),\n",
       " DecisionTreeClassifier(max_features='sqrt', random_state=422396446),\n",
       " DecisionTreeClassifier(max_features='sqrt', random_state=399713351),\n",
       " DecisionTreeClassifier(max_features='sqrt', random_state=1808643459),\n",
       " DecisionTreeClassifier(max_features='sqrt', random_state=737248710),\n",
       " DecisionTreeClassifier(max_features='sqrt', random_state=1966620565),\n",
       " DecisionTreeClassifier(max_features='sqrt', random_state=1768615473),\n",
       " DecisionTreeClassifier(max_features='sqrt', random_state=142443833),\n",
       " DecisionTreeClassifier(max_features='sqrt', random_state=848474627),\n",
       " DecisionTreeClassifier(max_features='sqrt', random_state=824105924),\n",
       " DecisionTreeClassifier(max_features='sqrt', random_state=1243949848),\n",
       " DecisionTreeClassifier(max_features='sqrt', random_state=1355129329),\n",
       " DecisionTreeClassifier(max_features='sqrt', random_state=610401323),\n",
       " DecisionTreeClassifier(max_features='sqrt', random_state=801015372),\n",
       " DecisionTreeClassifier(max_features='sqrt', random_state=1216826394),\n",
       " DecisionTreeClassifier(max_features='sqrt', random_state=1437206324),\n",
       " DecisionTreeClassifier(max_features='sqrt', random_state=1771840848),\n",
       " DecisionTreeClassifier(max_features='sqrt', random_state=78547565),\n",
       " DecisionTreeClassifier(max_features='sqrt', random_state=146764659),\n",
       " DecisionTreeClassifier(max_features='sqrt', random_state=1074361641),\n",
       " DecisionTreeClassifier(max_features='sqrt', random_state=532704722),\n",
       " DecisionTreeClassifier(max_features='sqrt', random_state=2099642383),\n",
       " DecisionTreeClassifier(max_features='sqrt', random_state=689925184),\n",
       " DecisionTreeClassifier(max_features='sqrt', random_state=1065863364),\n",
       " DecisionTreeClassifier(max_features='sqrt', random_state=1282027545),\n",
       " DecisionTreeClassifier(max_features='sqrt', random_state=1204497775),\n",
       " DecisionTreeClassifier(max_features='sqrt', random_state=1916133090),\n",
       " DecisionTreeClassifier(max_features='sqrt', random_state=1242445271),\n",
       " DecisionTreeClassifier(max_features='sqrt', random_state=954017671),\n",
       " DecisionTreeClassifier(max_features='sqrt', random_state=443352346),\n",
       " DecisionTreeClassifier(max_features='sqrt', random_state=315096729),\n",
       " DecisionTreeClassifier(max_features='sqrt', random_state=1923688040),\n",
       " DecisionTreeClassifier(max_features='sqrt', random_state=2015364118),\n",
       " DecisionTreeClassifier(max_features='sqrt', random_state=1754904329),\n",
       " DecisionTreeClassifier(max_features='sqrt', random_state=413056707),\n",
       " DecisionTreeClassifier(max_features='sqrt', random_state=1261063143),\n",
       " DecisionTreeClassifier(max_features='sqrt', random_state=1732461694),\n",
       " DecisionTreeClassifier(max_features='sqrt', random_state=1235985687),\n",
       " DecisionTreeClassifier(max_features='sqrt', random_state=513207677),\n",
       " DecisionTreeClassifier(max_features='sqrt', random_state=558468452),\n",
       " DecisionTreeClassifier(max_features='sqrt', random_state=106512539)]"
      ]
     },
     "execution_count": 58,
     "metadata": {},
     "output_type": "execute_result"
    }
   ],
   "source": [
    "rfc.estimators_\n"
   ]
  },
  {
   "cell_type": "code",
   "execution_count": 59,
   "metadata": {},
   "outputs": [],
   "source": [
    "from sklearn.model_selection import GridSearchCV , RandomizedSearchCV"
   ]
  },
  {
   "cell_type": "code",
   "execution_count": 60,
   "metadata": {},
   "outputs": [],
   "source": [
    "params = {'C': [0.8,0.9,1.0,1.1,1.2,1.3], 'kernel': ['rbf','poly','sigmoid','linear'], 'tol': [0.000001,0.00001, 0.0001,0.001,0.01]}"
   ]
  },
  {
   "cell_type": "code",
   "execution_count": 61,
   "metadata": {},
   "outputs": [],
   "source": [
    "rscv = RandomizedSearchCV(svc, param_distributions= params)"
   ]
  },
  {
   "cell_type": "code",
   "execution_count": 62,
   "metadata": {},
   "outputs": [
    {
     "data": {
      "text/html": [
       "<style>#sk-container-id-2 {color: black;background-color: white;}#sk-container-id-2 pre{padding: 0;}#sk-container-id-2 div.sk-toggleable {background-color: white;}#sk-container-id-2 label.sk-toggleable__label {cursor: pointer;display: block;width: 100%;margin-bottom: 0;padding: 0.3em;box-sizing: border-box;text-align: center;}#sk-container-id-2 label.sk-toggleable__label-arrow:before {content: \"▸\";float: left;margin-right: 0.25em;color: #696969;}#sk-container-id-2 label.sk-toggleable__label-arrow:hover:before {color: black;}#sk-container-id-2 div.sk-estimator:hover label.sk-toggleable__label-arrow:before {color: black;}#sk-container-id-2 div.sk-toggleable__content {max-height: 0;max-width: 0;overflow: hidden;text-align: left;background-color: #f0f8ff;}#sk-container-id-2 div.sk-toggleable__content pre {margin: 0.2em;color: black;border-radius: 0.25em;background-color: #f0f8ff;}#sk-container-id-2 input.sk-toggleable__control:checked~div.sk-toggleable__content {max-height: 200px;max-width: 100%;overflow: auto;}#sk-container-id-2 input.sk-toggleable__control:checked~label.sk-toggleable__label-arrow:before {content: \"▾\";}#sk-container-id-2 div.sk-estimator input.sk-toggleable__control:checked~label.sk-toggleable__label {background-color: #d4ebff;}#sk-container-id-2 div.sk-label input.sk-toggleable__control:checked~label.sk-toggleable__label {background-color: #d4ebff;}#sk-container-id-2 input.sk-hidden--visually {border: 0;clip: rect(1px 1px 1px 1px);clip: rect(1px, 1px, 1px, 1px);height: 1px;margin: -1px;overflow: hidden;padding: 0;position: absolute;width: 1px;}#sk-container-id-2 div.sk-estimator {font-family: monospace;background-color: #f0f8ff;border: 1px dotted black;border-radius: 0.25em;box-sizing: border-box;margin-bottom: 0.5em;}#sk-container-id-2 div.sk-estimator:hover {background-color: #d4ebff;}#sk-container-id-2 div.sk-parallel-item::after {content: \"\";width: 100%;border-bottom: 1px solid gray;flex-grow: 1;}#sk-container-id-2 div.sk-label:hover label.sk-toggleable__label {background-color: #d4ebff;}#sk-container-id-2 div.sk-serial::before {content: \"\";position: absolute;border-left: 1px solid gray;box-sizing: border-box;top: 0;bottom: 0;left: 50%;z-index: 0;}#sk-container-id-2 div.sk-serial {display: flex;flex-direction: column;align-items: center;background-color: white;padding-right: 0.2em;padding-left: 0.2em;position: relative;}#sk-container-id-2 div.sk-item {position: relative;z-index: 1;}#sk-container-id-2 div.sk-parallel {display: flex;align-items: stretch;justify-content: center;background-color: white;position: relative;}#sk-container-id-2 div.sk-item::before, #sk-container-id-2 div.sk-parallel-item::before {content: \"\";position: absolute;border-left: 1px solid gray;box-sizing: border-box;top: 0;bottom: 0;left: 50%;z-index: -1;}#sk-container-id-2 div.sk-parallel-item {display: flex;flex-direction: column;z-index: 1;position: relative;background-color: white;}#sk-container-id-2 div.sk-parallel-item:first-child::after {align-self: flex-end;width: 50%;}#sk-container-id-2 div.sk-parallel-item:last-child::after {align-self: flex-start;width: 50%;}#sk-container-id-2 div.sk-parallel-item:only-child::after {width: 0;}#sk-container-id-2 div.sk-dashed-wrapped {border: 1px dashed gray;margin: 0 0.4em 0.5em 0.4em;box-sizing: border-box;padding-bottom: 0.4em;background-color: white;}#sk-container-id-2 div.sk-label label {font-family: monospace;font-weight: bold;display: inline-block;line-height: 1.2em;}#sk-container-id-2 div.sk-label-container {text-align: center;}#sk-container-id-2 div.sk-container {/* jupyter's `normalize.less` sets `[hidden] { display: none; }` but bootstrap.min.css set `[hidden] { display: none !important; }` so we also need the `!important` here to be able to override the default hidden behavior on the sphinx rendered scikit-learn.org. See: https://github.com/scikit-learn/scikit-learn/issues/21755 */display: inline-block !important;position: relative;}#sk-container-id-2 div.sk-text-repr-fallback {display: none;}</style><div id=\"sk-container-id-2\" class=\"sk-top-container\"><div class=\"sk-text-repr-fallback\"><pre>RandomizedSearchCV(estimator=SVC(random_state=1),\n",
       "                   param_distributions={&#x27;C&#x27;: [0.8, 0.9, 1.0, 1.1, 1.2, 1.3],\n",
       "                                        &#x27;kernel&#x27;: [&#x27;rbf&#x27;, &#x27;poly&#x27;, &#x27;sigmoid&#x27;,\n",
       "                                                   &#x27;linear&#x27;],\n",
       "                                        &#x27;tol&#x27;: [1e-06, 1e-05, 0.0001, 0.001,\n",
       "                                                0.01]})</pre><b>In a Jupyter environment, please rerun this cell to show the HTML representation or trust the notebook. <br />On GitHub, the HTML representation is unable to render, please try loading this page with nbviewer.org.</b></div><div class=\"sk-container\" hidden><div class=\"sk-item sk-dashed-wrapped\"><div class=\"sk-label-container\"><div class=\"sk-label sk-toggleable\"><input class=\"sk-toggleable__control sk-hidden--visually\" id=\"sk-estimator-id-2\" type=\"checkbox\" ><label for=\"sk-estimator-id-2\" class=\"sk-toggleable__label sk-toggleable__label-arrow\">RandomizedSearchCV</label><div class=\"sk-toggleable__content\"><pre>RandomizedSearchCV(estimator=SVC(random_state=1),\n",
       "                   param_distributions={&#x27;C&#x27;: [0.8, 0.9, 1.0, 1.1, 1.2, 1.3],\n",
       "                                        &#x27;kernel&#x27;: [&#x27;rbf&#x27;, &#x27;poly&#x27;, &#x27;sigmoid&#x27;,\n",
       "                                                   &#x27;linear&#x27;],\n",
       "                                        &#x27;tol&#x27;: [1e-06, 1e-05, 0.0001, 0.001,\n",
       "                                                0.01]})</pre></div></div></div><div class=\"sk-parallel\"><div class=\"sk-parallel-item\"><div class=\"sk-item\"><div class=\"sk-label-container\"><div class=\"sk-label sk-toggleable\"><input class=\"sk-toggleable__control sk-hidden--visually\" id=\"sk-estimator-id-3\" type=\"checkbox\" ><label for=\"sk-estimator-id-3\" class=\"sk-toggleable__label sk-toggleable__label-arrow\">estimator: SVC</label><div class=\"sk-toggleable__content\"><pre>SVC(random_state=1)</pre></div></div></div><div class=\"sk-serial\"><div class=\"sk-item\"><div class=\"sk-estimator sk-toggleable\"><input class=\"sk-toggleable__control sk-hidden--visually\" id=\"sk-estimator-id-4\" type=\"checkbox\" ><label for=\"sk-estimator-id-4\" class=\"sk-toggleable__label sk-toggleable__label-arrow\">SVC</label><div class=\"sk-toggleable__content\"><pre>SVC(random_state=1)</pre></div></div></div></div></div></div></div></div></div></div>"
      ],
      "text/plain": [
       "RandomizedSearchCV(estimator=SVC(random_state=1),\n",
       "                   param_distributions={'C': [0.8, 0.9, 1.0, 1.1, 1.2, 1.3],\n",
       "                                        'kernel': ['rbf', 'poly', 'sigmoid',\n",
       "                                                   'linear'],\n",
       "                                        'tol': [1e-06, 1e-05, 0.0001, 0.001,\n",
       "                                                0.01]})"
      ]
     },
     "execution_count": 62,
     "metadata": {},
     "output_type": "execute_result"
    }
   ],
   "source": [
    "rscv.fit(X_train, y_train)"
   ]
  },
  {
   "cell_type": "code",
   "execution_count": 63,
   "metadata": {},
   "outputs": [
    {
     "data": {
      "text/plain": [
       "{'tol': 1e-05, 'kernel': 'rbf', 'C': 1.1}"
      ]
     },
     "execution_count": 63,
     "metadata": {},
     "output_type": "execute_result"
    }
   ],
   "source": [
    "rscv.best_params_"
   ]
  },
  {
   "cell_type": "code",
   "execution_count": 64,
   "metadata": {},
   "outputs": [
    {
     "data": {
      "text/plain": [
       "0.7286956521739131"
      ]
     },
     "execution_count": 64,
     "metadata": {},
     "output_type": "execute_result"
    }
   ],
   "source": [
    "rscv.best_score_"
   ]
  },
  {
   "cell_type": "code",
   "execution_count": 65,
   "metadata": {},
   "outputs": [],
   "source": [
    "gscv = GridSearchCV(svc, params)"
   ]
  },
  {
   "cell_type": "code",
   "execution_count": 66,
   "metadata": {},
   "outputs": [
    {
     "data": {
      "text/html": [
       "<style>#sk-container-id-3 {color: black;background-color: white;}#sk-container-id-3 pre{padding: 0;}#sk-container-id-3 div.sk-toggleable {background-color: white;}#sk-container-id-3 label.sk-toggleable__label {cursor: pointer;display: block;width: 100%;margin-bottom: 0;padding: 0.3em;box-sizing: border-box;text-align: center;}#sk-container-id-3 label.sk-toggleable__label-arrow:before {content: \"▸\";float: left;margin-right: 0.25em;color: #696969;}#sk-container-id-3 label.sk-toggleable__label-arrow:hover:before {color: black;}#sk-container-id-3 div.sk-estimator:hover label.sk-toggleable__label-arrow:before {color: black;}#sk-container-id-3 div.sk-toggleable__content {max-height: 0;max-width: 0;overflow: hidden;text-align: left;background-color: #f0f8ff;}#sk-container-id-3 div.sk-toggleable__content pre {margin: 0.2em;color: black;border-radius: 0.25em;background-color: #f0f8ff;}#sk-container-id-3 input.sk-toggleable__control:checked~div.sk-toggleable__content {max-height: 200px;max-width: 100%;overflow: auto;}#sk-container-id-3 input.sk-toggleable__control:checked~label.sk-toggleable__label-arrow:before {content: \"▾\";}#sk-container-id-3 div.sk-estimator input.sk-toggleable__control:checked~label.sk-toggleable__label {background-color: #d4ebff;}#sk-container-id-3 div.sk-label input.sk-toggleable__control:checked~label.sk-toggleable__label {background-color: #d4ebff;}#sk-container-id-3 input.sk-hidden--visually {border: 0;clip: rect(1px 1px 1px 1px);clip: rect(1px, 1px, 1px, 1px);height: 1px;margin: -1px;overflow: hidden;padding: 0;position: absolute;width: 1px;}#sk-container-id-3 div.sk-estimator {font-family: monospace;background-color: #f0f8ff;border: 1px dotted black;border-radius: 0.25em;box-sizing: border-box;margin-bottom: 0.5em;}#sk-container-id-3 div.sk-estimator:hover {background-color: #d4ebff;}#sk-container-id-3 div.sk-parallel-item::after {content: \"\";width: 100%;border-bottom: 1px solid gray;flex-grow: 1;}#sk-container-id-3 div.sk-label:hover label.sk-toggleable__label {background-color: #d4ebff;}#sk-container-id-3 div.sk-serial::before {content: \"\";position: absolute;border-left: 1px solid gray;box-sizing: border-box;top: 0;bottom: 0;left: 50%;z-index: 0;}#sk-container-id-3 div.sk-serial {display: flex;flex-direction: column;align-items: center;background-color: white;padding-right: 0.2em;padding-left: 0.2em;position: relative;}#sk-container-id-3 div.sk-item {position: relative;z-index: 1;}#sk-container-id-3 div.sk-parallel {display: flex;align-items: stretch;justify-content: center;background-color: white;position: relative;}#sk-container-id-3 div.sk-item::before, #sk-container-id-3 div.sk-parallel-item::before {content: \"\";position: absolute;border-left: 1px solid gray;box-sizing: border-box;top: 0;bottom: 0;left: 50%;z-index: -1;}#sk-container-id-3 div.sk-parallel-item {display: flex;flex-direction: column;z-index: 1;position: relative;background-color: white;}#sk-container-id-3 div.sk-parallel-item:first-child::after {align-self: flex-end;width: 50%;}#sk-container-id-3 div.sk-parallel-item:last-child::after {align-self: flex-start;width: 50%;}#sk-container-id-3 div.sk-parallel-item:only-child::after {width: 0;}#sk-container-id-3 div.sk-dashed-wrapped {border: 1px dashed gray;margin: 0 0.4em 0.5em 0.4em;box-sizing: border-box;padding-bottom: 0.4em;background-color: white;}#sk-container-id-3 div.sk-label label {font-family: monospace;font-weight: bold;display: inline-block;line-height: 1.2em;}#sk-container-id-3 div.sk-label-container {text-align: center;}#sk-container-id-3 div.sk-container {/* jupyter's `normalize.less` sets `[hidden] { display: none; }` but bootstrap.min.css set `[hidden] { display: none !important; }` so we also need the `!important` here to be able to override the default hidden behavior on the sphinx rendered scikit-learn.org. See: https://github.com/scikit-learn/scikit-learn/issues/21755 */display: inline-block !important;position: relative;}#sk-container-id-3 div.sk-text-repr-fallback {display: none;}</style><div id=\"sk-container-id-3\" class=\"sk-top-container\"><div class=\"sk-text-repr-fallback\"><pre>GridSearchCV(estimator=SVC(random_state=1),\n",
       "             param_grid={&#x27;C&#x27;: [0.8, 0.9, 1.0, 1.1, 1.2, 1.3],\n",
       "                         &#x27;kernel&#x27;: [&#x27;rbf&#x27;, &#x27;poly&#x27;, &#x27;sigmoid&#x27;, &#x27;linear&#x27;],\n",
       "                         &#x27;tol&#x27;: [1e-06, 1e-05, 0.0001, 0.001, 0.01]})</pre><b>In a Jupyter environment, please rerun this cell to show the HTML representation or trust the notebook. <br />On GitHub, the HTML representation is unable to render, please try loading this page with nbviewer.org.</b></div><div class=\"sk-container\" hidden><div class=\"sk-item sk-dashed-wrapped\"><div class=\"sk-label-container\"><div class=\"sk-label sk-toggleable\"><input class=\"sk-toggleable__control sk-hidden--visually\" id=\"sk-estimator-id-5\" type=\"checkbox\" ><label for=\"sk-estimator-id-5\" class=\"sk-toggleable__label sk-toggleable__label-arrow\">GridSearchCV</label><div class=\"sk-toggleable__content\"><pre>GridSearchCV(estimator=SVC(random_state=1),\n",
       "             param_grid={&#x27;C&#x27;: [0.8, 0.9, 1.0, 1.1, 1.2, 1.3],\n",
       "                         &#x27;kernel&#x27;: [&#x27;rbf&#x27;, &#x27;poly&#x27;, &#x27;sigmoid&#x27;, &#x27;linear&#x27;],\n",
       "                         &#x27;tol&#x27;: [1e-06, 1e-05, 0.0001, 0.001, 0.01]})</pre></div></div></div><div class=\"sk-parallel\"><div class=\"sk-parallel-item\"><div class=\"sk-item\"><div class=\"sk-label-container\"><div class=\"sk-label sk-toggleable\"><input class=\"sk-toggleable__control sk-hidden--visually\" id=\"sk-estimator-id-6\" type=\"checkbox\" ><label for=\"sk-estimator-id-6\" class=\"sk-toggleable__label sk-toggleable__label-arrow\">estimator: SVC</label><div class=\"sk-toggleable__content\"><pre>SVC(random_state=1)</pre></div></div></div><div class=\"sk-serial\"><div class=\"sk-item\"><div class=\"sk-estimator sk-toggleable\"><input class=\"sk-toggleable__control sk-hidden--visually\" id=\"sk-estimator-id-7\" type=\"checkbox\" ><label for=\"sk-estimator-id-7\" class=\"sk-toggleable__label sk-toggleable__label-arrow\">SVC</label><div class=\"sk-toggleable__content\"><pre>SVC(random_state=1)</pre></div></div></div></div></div></div></div></div></div></div>"
      ],
      "text/plain": [
       "GridSearchCV(estimator=SVC(random_state=1),\n",
       "             param_grid={'C': [0.8, 0.9, 1.0, 1.1, 1.2, 1.3],\n",
       "                         'kernel': ['rbf', 'poly', 'sigmoid', 'linear'],\n",
       "                         'tol': [1e-06, 1e-05, 0.0001, 0.001, 0.01]})"
      ]
     },
     "execution_count": 66,
     "metadata": {},
     "output_type": "execute_result"
    }
   ],
   "source": [
    "gscv.fit(X_train, y_train)"
   ]
  },
  {
   "cell_type": "code",
   "execution_count": 67,
   "metadata": {},
   "outputs": [
    {
     "data": {
      "text/plain": [
       "{'C': 1.1, 'kernel': 'rbf', 'tol': 1e-06}"
      ]
     },
     "execution_count": 67,
     "metadata": {},
     "output_type": "execute_result"
    }
   ],
   "source": [
    "gscv.best_params_"
   ]
  },
  {
   "cell_type": "code",
   "execution_count": 68,
   "metadata": {},
   "outputs": [
    {
     "data": {
      "text/plain": [
       "0.7286956521739131"
      ]
     },
     "execution_count": 68,
     "metadata": {},
     "output_type": "execute_result"
    }
   ],
   "source": [
    "gscv.best_score_"
   ]
  },
  {
   "cell_type": "code",
   "execution_count": 69,
   "metadata": {},
   "outputs": [],
   "source": [
    "params1 = {'max_depth': [8], 'n_estimators': [60, 65, 70,75,80]} "
   ]
  },
  {
   "cell_type": "code",
   "execution_count": 70,
   "metadata": {},
   "outputs": [],
   "source": [
    "rscv = RandomizedSearchCV(rfc, params1)"
   ]
  },
  {
   "cell_type": "code",
   "execution_count": 71,
   "metadata": {},
   "outputs": [
    {
     "name": "stderr",
     "output_type": "stream",
     "text": [
      "c:\\Users\\lavle\\AppData\\Local\\Programs\\Python\\Python311\\Lib\\site-packages\\sklearn\\model_selection\\_search.py:305: UserWarning: The total space of parameters 5 is smaller than n_iter=10. Running 5 iterations. For exhaustive searches, use GridSearchCV.\n",
      "  warnings.warn(\n"
     ]
    },
    {
     "data": {
      "text/html": [
       "<style>#sk-container-id-4 {color: black;background-color: white;}#sk-container-id-4 pre{padding: 0;}#sk-container-id-4 div.sk-toggleable {background-color: white;}#sk-container-id-4 label.sk-toggleable__label {cursor: pointer;display: block;width: 100%;margin-bottom: 0;padding: 0.3em;box-sizing: border-box;text-align: center;}#sk-container-id-4 label.sk-toggleable__label-arrow:before {content: \"▸\";float: left;margin-right: 0.25em;color: #696969;}#sk-container-id-4 label.sk-toggleable__label-arrow:hover:before {color: black;}#sk-container-id-4 div.sk-estimator:hover label.sk-toggleable__label-arrow:before {color: black;}#sk-container-id-4 div.sk-toggleable__content {max-height: 0;max-width: 0;overflow: hidden;text-align: left;background-color: #f0f8ff;}#sk-container-id-4 div.sk-toggleable__content pre {margin: 0.2em;color: black;border-radius: 0.25em;background-color: #f0f8ff;}#sk-container-id-4 input.sk-toggleable__control:checked~div.sk-toggleable__content {max-height: 200px;max-width: 100%;overflow: auto;}#sk-container-id-4 input.sk-toggleable__control:checked~label.sk-toggleable__label-arrow:before {content: \"▾\";}#sk-container-id-4 div.sk-estimator input.sk-toggleable__control:checked~label.sk-toggleable__label {background-color: #d4ebff;}#sk-container-id-4 div.sk-label input.sk-toggleable__control:checked~label.sk-toggleable__label {background-color: #d4ebff;}#sk-container-id-4 input.sk-hidden--visually {border: 0;clip: rect(1px 1px 1px 1px);clip: rect(1px, 1px, 1px, 1px);height: 1px;margin: -1px;overflow: hidden;padding: 0;position: absolute;width: 1px;}#sk-container-id-4 div.sk-estimator {font-family: monospace;background-color: #f0f8ff;border: 1px dotted black;border-radius: 0.25em;box-sizing: border-box;margin-bottom: 0.5em;}#sk-container-id-4 div.sk-estimator:hover {background-color: #d4ebff;}#sk-container-id-4 div.sk-parallel-item::after {content: \"\";width: 100%;border-bottom: 1px solid gray;flex-grow: 1;}#sk-container-id-4 div.sk-label:hover label.sk-toggleable__label {background-color: #d4ebff;}#sk-container-id-4 div.sk-serial::before {content: \"\";position: absolute;border-left: 1px solid gray;box-sizing: border-box;top: 0;bottom: 0;left: 50%;z-index: 0;}#sk-container-id-4 div.sk-serial {display: flex;flex-direction: column;align-items: center;background-color: white;padding-right: 0.2em;padding-left: 0.2em;position: relative;}#sk-container-id-4 div.sk-item {position: relative;z-index: 1;}#sk-container-id-4 div.sk-parallel {display: flex;align-items: stretch;justify-content: center;background-color: white;position: relative;}#sk-container-id-4 div.sk-item::before, #sk-container-id-4 div.sk-parallel-item::before {content: \"\";position: absolute;border-left: 1px solid gray;box-sizing: border-box;top: 0;bottom: 0;left: 50%;z-index: -1;}#sk-container-id-4 div.sk-parallel-item {display: flex;flex-direction: column;z-index: 1;position: relative;background-color: white;}#sk-container-id-4 div.sk-parallel-item:first-child::after {align-self: flex-end;width: 50%;}#sk-container-id-4 div.sk-parallel-item:last-child::after {align-self: flex-start;width: 50%;}#sk-container-id-4 div.sk-parallel-item:only-child::after {width: 0;}#sk-container-id-4 div.sk-dashed-wrapped {border: 1px dashed gray;margin: 0 0.4em 0.5em 0.4em;box-sizing: border-box;padding-bottom: 0.4em;background-color: white;}#sk-container-id-4 div.sk-label label {font-family: monospace;font-weight: bold;display: inline-block;line-height: 1.2em;}#sk-container-id-4 div.sk-label-container {text-align: center;}#sk-container-id-4 div.sk-container {/* jupyter's `normalize.less` sets `[hidden] { display: none; }` but bootstrap.min.css set `[hidden] { display: none !important; }` so we also need the `!important` here to be able to override the default hidden behavior on the sphinx rendered scikit-learn.org. See: https://github.com/scikit-learn/scikit-learn/issues/21755 */display: inline-block !important;position: relative;}#sk-container-id-4 div.sk-text-repr-fallback {display: none;}</style><div id=\"sk-container-id-4\" class=\"sk-top-container\"><div class=\"sk-text-repr-fallback\"><pre>RandomizedSearchCV(estimator=RandomForestClassifier(random_state=1),\n",
       "                   param_distributions={&#x27;max_depth&#x27;: [8],\n",
       "                                        &#x27;n_estimators&#x27;: [60, 65, 70, 75, 80]})</pre><b>In a Jupyter environment, please rerun this cell to show the HTML representation or trust the notebook. <br />On GitHub, the HTML representation is unable to render, please try loading this page with nbviewer.org.</b></div><div class=\"sk-container\" hidden><div class=\"sk-item sk-dashed-wrapped\"><div class=\"sk-label-container\"><div class=\"sk-label sk-toggleable\"><input class=\"sk-toggleable__control sk-hidden--visually\" id=\"sk-estimator-id-8\" type=\"checkbox\" ><label for=\"sk-estimator-id-8\" class=\"sk-toggleable__label sk-toggleable__label-arrow\">RandomizedSearchCV</label><div class=\"sk-toggleable__content\"><pre>RandomizedSearchCV(estimator=RandomForestClassifier(random_state=1),\n",
       "                   param_distributions={&#x27;max_depth&#x27;: [8],\n",
       "                                        &#x27;n_estimators&#x27;: [60, 65, 70, 75, 80]})</pre></div></div></div><div class=\"sk-parallel\"><div class=\"sk-parallel-item\"><div class=\"sk-item\"><div class=\"sk-label-container\"><div class=\"sk-label sk-toggleable\"><input class=\"sk-toggleable__control sk-hidden--visually\" id=\"sk-estimator-id-9\" type=\"checkbox\" ><label for=\"sk-estimator-id-9\" class=\"sk-toggleable__label sk-toggleable__label-arrow\">estimator: RandomForestClassifier</label><div class=\"sk-toggleable__content\"><pre>RandomForestClassifier(random_state=1)</pre></div></div></div><div class=\"sk-serial\"><div class=\"sk-item\"><div class=\"sk-estimator sk-toggleable\"><input class=\"sk-toggleable__control sk-hidden--visually\" id=\"sk-estimator-id-10\" type=\"checkbox\" ><label for=\"sk-estimator-id-10\" class=\"sk-toggleable__label sk-toggleable__label-arrow\">RandomForestClassifier</label><div class=\"sk-toggleable__content\"><pre>RandomForestClassifier(random_state=1)</pre></div></div></div></div></div></div></div></div></div></div>"
      ],
      "text/plain": [
       "RandomizedSearchCV(estimator=RandomForestClassifier(random_state=1),\n",
       "                   param_distributions={'max_depth': [8],\n",
       "                                        'n_estimators': [60, 65, 70, 75, 80]})"
      ]
     },
     "execution_count": 71,
     "metadata": {},
     "output_type": "execute_result"
    }
   ],
   "source": [
    "rscv.fit(X_train, y_train)"
   ]
  },
  {
   "cell_type": "code",
   "execution_count": 72,
   "metadata": {},
   "outputs": [
    {
     "data": {
      "text/plain": [
       "{'n_estimators': 75, 'max_depth': 8}"
      ]
     },
     "execution_count": 72,
     "metadata": {},
     "output_type": "execute_result"
    }
   ],
   "source": [
    "rscv.best_params_"
   ]
  },
  {
   "cell_type": "code",
   "execution_count": 73,
   "metadata": {},
   "outputs": [
    {
     "data": {
      "text/plain": [
       "0.728695652173913"
      ]
     },
     "execution_count": 73,
     "metadata": {},
     "output_type": "execute_result"
    }
   ],
   "source": [
    "rscv.best_score_"
   ]
  },
  {
   "cell_type": "code",
   "execution_count": 74,
   "metadata": {},
   "outputs": [],
   "source": [
    "params2 = {'max_depth': [5,6,7,8,9], 'n_estimators': [60,65,70,75,80,85,90,95,100,105,110,115,120]} "
   ]
  },
  {
   "cell_type": "code",
   "execution_count": 75,
   "metadata": {},
   "outputs": [],
   "source": [
    "gscv = GridSearchCV(rfc, params2)"
   ]
  },
  {
   "cell_type": "code",
   "execution_count": 76,
   "metadata": {},
   "outputs": [
    {
     "data": {
      "text/html": [
       "<style>#sk-container-id-5 {color: black;background-color: white;}#sk-container-id-5 pre{padding: 0;}#sk-container-id-5 div.sk-toggleable {background-color: white;}#sk-container-id-5 label.sk-toggleable__label {cursor: pointer;display: block;width: 100%;margin-bottom: 0;padding: 0.3em;box-sizing: border-box;text-align: center;}#sk-container-id-5 label.sk-toggleable__label-arrow:before {content: \"▸\";float: left;margin-right: 0.25em;color: #696969;}#sk-container-id-5 label.sk-toggleable__label-arrow:hover:before {color: black;}#sk-container-id-5 div.sk-estimator:hover label.sk-toggleable__label-arrow:before {color: black;}#sk-container-id-5 div.sk-toggleable__content {max-height: 0;max-width: 0;overflow: hidden;text-align: left;background-color: #f0f8ff;}#sk-container-id-5 div.sk-toggleable__content pre {margin: 0.2em;color: black;border-radius: 0.25em;background-color: #f0f8ff;}#sk-container-id-5 input.sk-toggleable__control:checked~div.sk-toggleable__content {max-height: 200px;max-width: 100%;overflow: auto;}#sk-container-id-5 input.sk-toggleable__control:checked~label.sk-toggleable__label-arrow:before {content: \"▾\";}#sk-container-id-5 div.sk-estimator input.sk-toggleable__control:checked~label.sk-toggleable__label {background-color: #d4ebff;}#sk-container-id-5 div.sk-label input.sk-toggleable__control:checked~label.sk-toggleable__label {background-color: #d4ebff;}#sk-container-id-5 input.sk-hidden--visually {border: 0;clip: rect(1px 1px 1px 1px);clip: rect(1px, 1px, 1px, 1px);height: 1px;margin: -1px;overflow: hidden;padding: 0;position: absolute;width: 1px;}#sk-container-id-5 div.sk-estimator {font-family: monospace;background-color: #f0f8ff;border: 1px dotted black;border-radius: 0.25em;box-sizing: border-box;margin-bottom: 0.5em;}#sk-container-id-5 div.sk-estimator:hover {background-color: #d4ebff;}#sk-container-id-5 div.sk-parallel-item::after {content: \"\";width: 100%;border-bottom: 1px solid gray;flex-grow: 1;}#sk-container-id-5 div.sk-label:hover label.sk-toggleable__label {background-color: #d4ebff;}#sk-container-id-5 div.sk-serial::before {content: \"\";position: absolute;border-left: 1px solid gray;box-sizing: border-box;top: 0;bottom: 0;left: 50%;z-index: 0;}#sk-container-id-5 div.sk-serial {display: flex;flex-direction: column;align-items: center;background-color: white;padding-right: 0.2em;padding-left: 0.2em;position: relative;}#sk-container-id-5 div.sk-item {position: relative;z-index: 1;}#sk-container-id-5 div.sk-parallel {display: flex;align-items: stretch;justify-content: center;background-color: white;position: relative;}#sk-container-id-5 div.sk-item::before, #sk-container-id-5 div.sk-parallel-item::before {content: \"\";position: absolute;border-left: 1px solid gray;box-sizing: border-box;top: 0;bottom: 0;left: 50%;z-index: -1;}#sk-container-id-5 div.sk-parallel-item {display: flex;flex-direction: column;z-index: 1;position: relative;background-color: white;}#sk-container-id-5 div.sk-parallel-item:first-child::after {align-self: flex-end;width: 50%;}#sk-container-id-5 div.sk-parallel-item:last-child::after {align-self: flex-start;width: 50%;}#sk-container-id-5 div.sk-parallel-item:only-child::after {width: 0;}#sk-container-id-5 div.sk-dashed-wrapped {border: 1px dashed gray;margin: 0 0.4em 0.5em 0.4em;box-sizing: border-box;padding-bottom: 0.4em;background-color: white;}#sk-container-id-5 div.sk-label label {font-family: monospace;font-weight: bold;display: inline-block;line-height: 1.2em;}#sk-container-id-5 div.sk-label-container {text-align: center;}#sk-container-id-5 div.sk-container {/* jupyter's `normalize.less` sets `[hidden] { display: none; }` but bootstrap.min.css set `[hidden] { display: none !important; }` so we also need the `!important` here to be able to override the default hidden behavior on the sphinx rendered scikit-learn.org. See: https://github.com/scikit-learn/scikit-learn/issues/21755 */display: inline-block !important;position: relative;}#sk-container-id-5 div.sk-text-repr-fallback {display: none;}</style><div id=\"sk-container-id-5\" class=\"sk-top-container\"><div class=\"sk-text-repr-fallback\"><pre>GridSearchCV(estimator=RandomForestClassifier(random_state=1),\n",
       "             param_grid={&#x27;max_depth&#x27;: [5, 6, 7, 8, 9],\n",
       "                         &#x27;n_estimators&#x27;: [60, 65, 70, 75, 80, 85, 90, 95, 100,\n",
       "                                          105, 110, 115, 120]})</pre><b>In a Jupyter environment, please rerun this cell to show the HTML representation or trust the notebook. <br />On GitHub, the HTML representation is unable to render, please try loading this page with nbviewer.org.</b></div><div class=\"sk-container\" hidden><div class=\"sk-item sk-dashed-wrapped\"><div class=\"sk-label-container\"><div class=\"sk-label sk-toggleable\"><input class=\"sk-toggleable__control sk-hidden--visually\" id=\"sk-estimator-id-11\" type=\"checkbox\" ><label for=\"sk-estimator-id-11\" class=\"sk-toggleable__label sk-toggleable__label-arrow\">GridSearchCV</label><div class=\"sk-toggleable__content\"><pre>GridSearchCV(estimator=RandomForestClassifier(random_state=1),\n",
       "             param_grid={&#x27;max_depth&#x27;: [5, 6, 7, 8, 9],\n",
       "                         &#x27;n_estimators&#x27;: [60, 65, 70, 75, 80, 85, 90, 95, 100,\n",
       "                                          105, 110, 115, 120]})</pre></div></div></div><div class=\"sk-parallel\"><div class=\"sk-parallel-item\"><div class=\"sk-item\"><div class=\"sk-label-container\"><div class=\"sk-label sk-toggleable\"><input class=\"sk-toggleable__control sk-hidden--visually\" id=\"sk-estimator-id-12\" type=\"checkbox\" ><label for=\"sk-estimator-id-12\" class=\"sk-toggleable__label sk-toggleable__label-arrow\">estimator: RandomForestClassifier</label><div class=\"sk-toggleable__content\"><pre>RandomForestClassifier(random_state=1)</pre></div></div></div><div class=\"sk-serial\"><div class=\"sk-item\"><div class=\"sk-estimator sk-toggleable\"><input class=\"sk-toggleable__control sk-hidden--visually\" id=\"sk-estimator-id-13\" type=\"checkbox\" ><label for=\"sk-estimator-id-13\" class=\"sk-toggleable__label sk-toggleable__label-arrow\">RandomForestClassifier</label><div class=\"sk-toggleable__content\"><pre>RandomForestClassifier(random_state=1)</pre></div></div></div></div></div></div></div></div></div></div>"
      ],
      "text/plain": [
       "GridSearchCV(estimator=RandomForestClassifier(random_state=1),\n",
       "             param_grid={'max_depth': [5, 6, 7, 8, 9],\n",
       "                         'n_estimators': [60, 65, 70, 75, 80, 85, 90, 95, 100,\n",
       "                                          105, 110, 115, 120]})"
      ]
     },
     "execution_count": 76,
     "metadata": {},
     "output_type": "execute_result"
    }
   ],
   "source": [
    "gscv.fit(X_train, y_train)"
   ]
  },
  {
   "cell_type": "code",
   "execution_count": 77,
   "metadata": {},
   "outputs": [
    {
     "data": {
      "text/plain": [
       "{'max_depth': 8, 'n_estimators': 75}"
      ]
     },
     "execution_count": 77,
     "metadata": {},
     "output_type": "execute_result"
    }
   ],
   "source": [
    "gscv.best_params_"
   ]
  },
  {
   "cell_type": "code",
   "execution_count": 78,
   "metadata": {},
   "outputs": [
    {
     "data": {
      "text/plain": [
       "0.728695652173913"
      ]
     },
     "execution_count": 78,
     "metadata": {},
     "output_type": "execute_result"
    }
   ],
   "source": [
    "gscv.best_score_"
   ]
  },
  {
   "cell_type": "code",
   "execution_count": 79,
   "metadata": {},
   "outputs": [],
   "source": [
    "params3 = {'n_estimators': [60,65,70,75,80,85,90,95,100,105,110,120,125,130,135], 'learning_rate': [0.1,0.2,0.3,0.4,0.5,0.6,0.7,0.8,0.9,1.0,1.1,1.2,1.3,1.4,1.5] }"
   ]
  },
  {
   "cell_type": "code",
   "execution_count": 80,
   "metadata": {},
   "outputs": [],
   "source": [
    "rscv = RandomizedSearchCV(gbc, param_distributions= params3)"
   ]
  },
  {
   "cell_type": "code",
   "execution_count": 81,
   "metadata": {},
   "outputs": [
    {
     "data": {
      "text/html": [
       "<style>#sk-container-id-6 {color: black;background-color: white;}#sk-container-id-6 pre{padding: 0;}#sk-container-id-6 div.sk-toggleable {background-color: white;}#sk-container-id-6 label.sk-toggleable__label {cursor: pointer;display: block;width: 100%;margin-bottom: 0;padding: 0.3em;box-sizing: border-box;text-align: center;}#sk-container-id-6 label.sk-toggleable__label-arrow:before {content: \"▸\";float: left;margin-right: 0.25em;color: #696969;}#sk-container-id-6 label.sk-toggleable__label-arrow:hover:before {color: black;}#sk-container-id-6 div.sk-estimator:hover label.sk-toggleable__label-arrow:before {color: black;}#sk-container-id-6 div.sk-toggleable__content {max-height: 0;max-width: 0;overflow: hidden;text-align: left;background-color: #f0f8ff;}#sk-container-id-6 div.sk-toggleable__content pre {margin: 0.2em;color: black;border-radius: 0.25em;background-color: #f0f8ff;}#sk-container-id-6 input.sk-toggleable__control:checked~div.sk-toggleable__content {max-height: 200px;max-width: 100%;overflow: auto;}#sk-container-id-6 input.sk-toggleable__control:checked~label.sk-toggleable__label-arrow:before {content: \"▾\";}#sk-container-id-6 div.sk-estimator input.sk-toggleable__control:checked~label.sk-toggleable__label {background-color: #d4ebff;}#sk-container-id-6 div.sk-label input.sk-toggleable__control:checked~label.sk-toggleable__label {background-color: #d4ebff;}#sk-container-id-6 input.sk-hidden--visually {border: 0;clip: rect(1px 1px 1px 1px);clip: rect(1px, 1px, 1px, 1px);height: 1px;margin: -1px;overflow: hidden;padding: 0;position: absolute;width: 1px;}#sk-container-id-6 div.sk-estimator {font-family: monospace;background-color: #f0f8ff;border: 1px dotted black;border-radius: 0.25em;box-sizing: border-box;margin-bottom: 0.5em;}#sk-container-id-6 div.sk-estimator:hover {background-color: #d4ebff;}#sk-container-id-6 div.sk-parallel-item::after {content: \"\";width: 100%;border-bottom: 1px solid gray;flex-grow: 1;}#sk-container-id-6 div.sk-label:hover label.sk-toggleable__label {background-color: #d4ebff;}#sk-container-id-6 div.sk-serial::before {content: \"\";position: absolute;border-left: 1px solid gray;box-sizing: border-box;top: 0;bottom: 0;left: 50%;z-index: 0;}#sk-container-id-6 div.sk-serial {display: flex;flex-direction: column;align-items: center;background-color: white;padding-right: 0.2em;padding-left: 0.2em;position: relative;}#sk-container-id-6 div.sk-item {position: relative;z-index: 1;}#sk-container-id-6 div.sk-parallel {display: flex;align-items: stretch;justify-content: center;background-color: white;position: relative;}#sk-container-id-6 div.sk-item::before, #sk-container-id-6 div.sk-parallel-item::before {content: \"\";position: absolute;border-left: 1px solid gray;box-sizing: border-box;top: 0;bottom: 0;left: 50%;z-index: -1;}#sk-container-id-6 div.sk-parallel-item {display: flex;flex-direction: column;z-index: 1;position: relative;background-color: white;}#sk-container-id-6 div.sk-parallel-item:first-child::after {align-self: flex-end;width: 50%;}#sk-container-id-6 div.sk-parallel-item:last-child::after {align-self: flex-start;width: 50%;}#sk-container-id-6 div.sk-parallel-item:only-child::after {width: 0;}#sk-container-id-6 div.sk-dashed-wrapped {border: 1px dashed gray;margin: 0 0.4em 0.5em 0.4em;box-sizing: border-box;padding-bottom: 0.4em;background-color: white;}#sk-container-id-6 div.sk-label label {font-family: monospace;font-weight: bold;display: inline-block;line-height: 1.2em;}#sk-container-id-6 div.sk-label-container {text-align: center;}#sk-container-id-6 div.sk-container {/* jupyter's `normalize.less` sets `[hidden] { display: none; }` but bootstrap.min.css set `[hidden] { display: none !important; }` so we also need the `!important` here to be able to override the default hidden behavior on the sphinx rendered scikit-learn.org. See: https://github.com/scikit-learn/scikit-learn/issues/21755 */display: inline-block !important;position: relative;}#sk-container-id-6 div.sk-text-repr-fallback {display: none;}</style><div id=\"sk-container-id-6\" class=\"sk-top-container\"><div class=\"sk-text-repr-fallback\"><pre>RandomizedSearchCV(estimator=GradientBoostingClassifier(random_state=1),\n",
       "                   param_distributions={&#x27;learning_rate&#x27;: [0.1, 0.2, 0.3, 0.4,\n",
       "                                                          0.5, 0.6, 0.7, 0.8,\n",
       "                                                          0.9, 1.0, 1.1, 1.2,\n",
       "                                                          1.3, 1.4, 1.5],\n",
       "                                        &#x27;n_estimators&#x27;: [60, 65, 70, 75, 80, 85,\n",
       "                                                         90, 95, 100, 105, 110,\n",
       "                                                         120, 125, 130, 135]})</pre><b>In a Jupyter environment, please rerun this cell to show the HTML representation or trust the notebook. <br />On GitHub, the HTML representation is unable to render, please try loading this page with nbviewer.org.</b></div><div class=\"sk-container\" hidden><div class=\"sk-item sk-dashed-wrapped\"><div class=\"sk-label-container\"><div class=\"sk-label sk-toggleable\"><input class=\"sk-toggleable__control sk-hidden--visually\" id=\"sk-estimator-id-14\" type=\"checkbox\" ><label for=\"sk-estimator-id-14\" class=\"sk-toggleable__label sk-toggleable__label-arrow\">RandomizedSearchCV</label><div class=\"sk-toggleable__content\"><pre>RandomizedSearchCV(estimator=GradientBoostingClassifier(random_state=1),\n",
       "                   param_distributions={&#x27;learning_rate&#x27;: [0.1, 0.2, 0.3, 0.4,\n",
       "                                                          0.5, 0.6, 0.7, 0.8,\n",
       "                                                          0.9, 1.0, 1.1, 1.2,\n",
       "                                                          1.3, 1.4, 1.5],\n",
       "                                        &#x27;n_estimators&#x27;: [60, 65, 70, 75, 80, 85,\n",
       "                                                         90, 95, 100, 105, 110,\n",
       "                                                         120, 125, 130, 135]})</pre></div></div></div><div class=\"sk-parallel\"><div class=\"sk-parallel-item\"><div class=\"sk-item\"><div class=\"sk-label-container\"><div class=\"sk-label sk-toggleable\"><input class=\"sk-toggleable__control sk-hidden--visually\" id=\"sk-estimator-id-15\" type=\"checkbox\" ><label for=\"sk-estimator-id-15\" class=\"sk-toggleable__label sk-toggleable__label-arrow\">estimator: GradientBoostingClassifier</label><div class=\"sk-toggleable__content\"><pre>GradientBoostingClassifier(random_state=1)</pre></div></div></div><div class=\"sk-serial\"><div class=\"sk-item\"><div class=\"sk-estimator sk-toggleable\"><input class=\"sk-toggleable__control sk-hidden--visually\" id=\"sk-estimator-id-16\" type=\"checkbox\" ><label for=\"sk-estimator-id-16\" class=\"sk-toggleable__label sk-toggleable__label-arrow\">GradientBoostingClassifier</label><div class=\"sk-toggleable__content\"><pre>GradientBoostingClassifier(random_state=1)</pre></div></div></div></div></div></div></div></div></div></div>"
      ],
      "text/plain": [
       "RandomizedSearchCV(estimator=GradientBoostingClassifier(random_state=1),\n",
       "                   param_distributions={'learning_rate': [0.1, 0.2, 0.3, 0.4,\n",
       "                                                          0.5, 0.6, 0.7, 0.8,\n",
       "                                                          0.9, 1.0, 1.1, 1.2,\n",
       "                                                          1.3, 1.4, 1.5],\n",
       "                                        'n_estimators': [60, 65, 70, 75, 80, 85,\n",
       "                                                         90, 95, 100, 105, 110,\n",
       "                                                         120, 125, 130, 135]})"
      ]
     },
     "execution_count": 81,
     "metadata": {},
     "output_type": "execute_result"
    }
   ],
   "source": [
    "rscv.fit(X_train, y_train)"
   ]
  },
  {
   "cell_type": "code",
   "execution_count": 82,
   "metadata": {},
   "outputs": [
    {
     "data": {
      "text/plain": [
       "{'n_estimators': 75, 'learning_rate': 0.4}"
      ]
     },
     "execution_count": 82,
     "metadata": {},
     "output_type": "execute_result"
    }
   ],
   "source": [
    "rscv.best_params_"
   ]
  },
  {
   "cell_type": "code",
   "execution_count": 83,
   "metadata": {},
   "outputs": [
    {
     "data": {
      "text/plain": [
       "0.7269565217391303"
      ]
     },
     "execution_count": 83,
     "metadata": {},
     "output_type": "execute_result"
    }
   ],
   "source": [
    "rscv.best_score_"
   ]
  },
  {
   "cell_type": "code",
   "execution_count": 84,
   "metadata": {},
   "outputs": [],
   "source": [
    "params4 = {'n_estimators': [60,65,70,71,72,73,74,75], 'learning_rate': [0.4,0.5,0.6,0.7,0.8] }"
   ]
  },
  {
   "cell_type": "code",
   "execution_count": 85,
   "metadata": {},
   "outputs": [],
   "source": [
    "gscv = GridSearchCV(gbc, params4)"
   ]
  },
  {
   "cell_type": "code",
   "execution_count": 86,
   "metadata": {},
   "outputs": [
    {
     "data": {
      "text/html": [
       "<style>#sk-container-id-7 {color: black;background-color: white;}#sk-container-id-7 pre{padding: 0;}#sk-container-id-7 div.sk-toggleable {background-color: white;}#sk-container-id-7 label.sk-toggleable__label {cursor: pointer;display: block;width: 100%;margin-bottom: 0;padding: 0.3em;box-sizing: border-box;text-align: center;}#sk-container-id-7 label.sk-toggleable__label-arrow:before {content: \"▸\";float: left;margin-right: 0.25em;color: #696969;}#sk-container-id-7 label.sk-toggleable__label-arrow:hover:before {color: black;}#sk-container-id-7 div.sk-estimator:hover label.sk-toggleable__label-arrow:before {color: black;}#sk-container-id-7 div.sk-toggleable__content {max-height: 0;max-width: 0;overflow: hidden;text-align: left;background-color: #f0f8ff;}#sk-container-id-7 div.sk-toggleable__content pre {margin: 0.2em;color: black;border-radius: 0.25em;background-color: #f0f8ff;}#sk-container-id-7 input.sk-toggleable__control:checked~div.sk-toggleable__content {max-height: 200px;max-width: 100%;overflow: auto;}#sk-container-id-7 input.sk-toggleable__control:checked~label.sk-toggleable__label-arrow:before {content: \"▾\";}#sk-container-id-7 div.sk-estimator input.sk-toggleable__control:checked~label.sk-toggleable__label {background-color: #d4ebff;}#sk-container-id-7 div.sk-label input.sk-toggleable__control:checked~label.sk-toggleable__label {background-color: #d4ebff;}#sk-container-id-7 input.sk-hidden--visually {border: 0;clip: rect(1px 1px 1px 1px);clip: rect(1px, 1px, 1px, 1px);height: 1px;margin: -1px;overflow: hidden;padding: 0;position: absolute;width: 1px;}#sk-container-id-7 div.sk-estimator {font-family: monospace;background-color: #f0f8ff;border: 1px dotted black;border-radius: 0.25em;box-sizing: border-box;margin-bottom: 0.5em;}#sk-container-id-7 div.sk-estimator:hover {background-color: #d4ebff;}#sk-container-id-7 div.sk-parallel-item::after {content: \"\";width: 100%;border-bottom: 1px solid gray;flex-grow: 1;}#sk-container-id-7 div.sk-label:hover label.sk-toggleable__label {background-color: #d4ebff;}#sk-container-id-7 div.sk-serial::before {content: \"\";position: absolute;border-left: 1px solid gray;box-sizing: border-box;top: 0;bottom: 0;left: 50%;z-index: 0;}#sk-container-id-7 div.sk-serial {display: flex;flex-direction: column;align-items: center;background-color: white;padding-right: 0.2em;padding-left: 0.2em;position: relative;}#sk-container-id-7 div.sk-item {position: relative;z-index: 1;}#sk-container-id-7 div.sk-parallel {display: flex;align-items: stretch;justify-content: center;background-color: white;position: relative;}#sk-container-id-7 div.sk-item::before, #sk-container-id-7 div.sk-parallel-item::before {content: \"\";position: absolute;border-left: 1px solid gray;box-sizing: border-box;top: 0;bottom: 0;left: 50%;z-index: -1;}#sk-container-id-7 div.sk-parallel-item {display: flex;flex-direction: column;z-index: 1;position: relative;background-color: white;}#sk-container-id-7 div.sk-parallel-item:first-child::after {align-self: flex-end;width: 50%;}#sk-container-id-7 div.sk-parallel-item:last-child::after {align-self: flex-start;width: 50%;}#sk-container-id-7 div.sk-parallel-item:only-child::after {width: 0;}#sk-container-id-7 div.sk-dashed-wrapped {border: 1px dashed gray;margin: 0 0.4em 0.5em 0.4em;box-sizing: border-box;padding-bottom: 0.4em;background-color: white;}#sk-container-id-7 div.sk-label label {font-family: monospace;font-weight: bold;display: inline-block;line-height: 1.2em;}#sk-container-id-7 div.sk-label-container {text-align: center;}#sk-container-id-7 div.sk-container {/* jupyter's `normalize.less` sets `[hidden] { display: none; }` but bootstrap.min.css set `[hidden] { display: none !important; }` so we also need the `!important` here to be able to override the default hidden behavior on the sphinx rendered scikit-learn.org. See: https://github.com/scikit-learn/scikit-learn/issues/21755 */display: inline-block !important;position: relative;}#sk-container-id-7 div.sk-text-repr-fallback {display: none;}</style><div id=\"sk-container-id-7\" class=\"sk-top-container\"><div class=\"sk-text-repr-fallback\"><pre>GridSearchCV(estimator=GradientBoostingClassifier(random_state=1),\n",
       "             param_grid={&#x27;learning_rate&#x27;: [0.4, 0.5, 0.6, 0.7, 0.8],\n",
       "                         &#x27;n_estimators&#x27;: [60, 65, 70, 71, 72, 73, 74, 75]})</pre><b>In a Jupyter environment, please rerun this cell to show the HTML representation or trust the notebook. <br />On GitHub, the HTML representation is unable to render, please try loading this page with nbviewer.org.</b></div><div class=\"sk-container\" hidden><div class=\"sk-item sk-dashed-wrapped\"><div class=\"sk-label-container\"><div class=\"sk-label sk-toggleable\"><input class=\"sk-toggleable__control sk-hidden--visually\" id=\"sk-estimator-id-17\" type=\"checkbox\" ><label for=\"sk-estimator-id-17\" class=\"sk-toggleable__label sk-toggleable__label-arrow\">GridSearchCV</label><div class=\"sk-toggleable__content\"><pre>GridSearchCV(estimator=GradientBoostingClassifier(random_state=1),\n",
       "             param_grid={&#x27;learning_rate&#x27;: [0.4, 0.5, 0.6, 0.7, 0.8],\n",
       "                         &#x27;n_estimators&#x27;: [60, 65, 70, 71, 72, 73, 74, 75]})</pre></div></div></div><div class=\"sk-parallel\"><div class=\"sk-parallel-item\"><div class=\"sk-item\"><div class=\"sk-label-container\"><div class=\"sk-label sk-toggleable\"><input class=\"sk-toggleable__control sk-hidden--visually\" id=\"sk-estimator-id-18\" type=\"checkbox\" ><label for=\"sk-estimator-id-18\" class=\"sk-toggleable__label sk-toggleable__label-arrow\">estimator: GradientBoostingClassifier</label><div class=\"sk-toggleable__content\"><pre>GradientBoostingClassifier(random_state=1)</pre></div></div></div><div class=\"sk-serial\"><div class=\"sk-item\"><div class=\"sk-estimator sk-toggleable\"><input class=\"sk-toggleable__control sk-hidden--visually\" id=\"sk-estimator-id-19\" type=\"checkbox\" ><label for=\"sk-estimator-id-19\" class=\"sk-toggleable__label sk-toggleable__label-arrow\">GradientBoostingClassifier</label><div class=\"sk-toggleable__content\"><pre>GradientBoostingClassifier(random_state=1)</pre></div></div></div></div></div></div></div></div></div></div>"
      ],
      "text/plain": [
       "GridSearchCV(estimator=GradientBoostingClassifier(random_state=1),\n",
       "             param_grid={'learning_rate': [0.4, 0.5, 0.6, 0.7, 0.8],\n",
       "                         'n_estimators': [60, 65, 70, 71, 72, 73, 74, 75]})"
      ]
     },
     "execution_count": 86,
     "metadata": {},
     "output_type": "execute_result"
    }
   ],
   "source": [
    "gscv.fit(X_train, y_train)"
   ]
  },
  {
   "cell_type": "code",
   "execution_count": 87,
   "metadata": {},
   "outputs": [
    {
     "data": {
      "text/plain": [
       "{'learning_rate': 0.4, 'n_estimators': 75}"
      ]
     },
     "execution_count": 87,
     "metadata": {},
     "output_type": "execute_result"
    }
   ],
   "source": [
    "gscv.best_params_"
   ]
  },
  {
   "cell_type": "code",
   "execution_count": 88,
   "metadata": {},
   "outputs": [
    {
     "data": {
      "text/plain": [
       "0.7269565217391303"
      ]
     },
     "execution_count": 88,
     "metadata": {},
     "output_type": "execute_result"
    }
   ],
   "source": [
    "gscv.best_score_"
   ]
  },
  {
   "cell_type": "code",
   "execution_count": 89,
   "metadata": {},
   "outputs": [],
   "source": [
    "final_model = RandomForestClassifier(max_depth=8, n_estimators= 75)"
   ]
  },
  {
   "cell_type": "code",
   "execution_count": 90,
   "metadata": {},
   "outputs": [
    {
     "data": {
      "text/html": [
       "<style>#sk-container-id-8 {color: black;background-color: white;}#sk-container-id-8 pre{padding: 0;}#sk-container-id-8 div.sk-toggleable {background-color: white;}#sk-container-id-8 label.sk-toggleable__label {cursor: pointer;display: block;width: 100%;margin-bottom: 0;padding: 0.3em;box-sizing: border-box;text-align: center;}#sk-container-id-8 label.sk-toggleable__label-arrow:before {content: \"▸\";float: left;margin-right: 0.25em;color: #696969;}#sk-container-id-8 label.sk-toggleable__label-arrow:hover:before {color: black;}#sk-container-id-8 div.sk-estimator:hover label.sk-toggleable__label-arrow:before {color: black;}#sk-container-id-8 div.sk-toggleable__content {max-height: 0;max-width: 0;overflow: hidden;text-align: left;background-color: #f0f8ff;}#sk-container-id-8 div.sk-toggleable__content pre {margin: 0.2em;color: black;border-radius: 0.25em;background-color: #f0f8ff;}#sk-container-id-8 input.sk-toggleable__control:checked~div.sk-toggleable__content {max-height: 200px;max-width: 100%;overflow: auto;}#sk-container-id-8 input.sk-toggleable__control:checked~label.sk-toggleable__label-arrow:before {content: \"▾\";}#sk-container-id-8 div.sk-estimator input.sk-toggleable__control:checked~label.sk-toggleable__label {background-color: #d4ebff;}#sk-container-id-8 div.sk-label input.sk-toggleable__control:checked~label.sk-toggleable__label {background-color: #d4ebff;}#sk-container-id-8 input.sk-hidden--visually {border: 0;clip: rect(1px 1px 1px 1px);clip: rect(1px, 1px, 1px, 1px);height: 1px;margin: -1px;overflow: hidden;padding: 0;position: absolute;width: 1px;}#sk-container-id-8 div.sk-estimator {font-family: monospace;background-color: #f0f8ff;border: 1px dotted black;border-radius: 0.25em;box-sizing: border-box;margin-bottom: 0.5em;}#sk-container-id-8 div.sk-estimator:hover {background-color: #d4ebff;}#sk-container-id-8 div.sk-parallel-item::after {content: \"\";width: 100%;border-bottom: 1px solid gray;flex-grow: 1;}#sk-container-id-8 div.sk-label:hover label.sk-toggleable__label {background-color: #d4ebff;}#sk-container-id-8 div.sk-serial::before {content: \"\";position: absolute;border-left: 1px solid gray;box-sizing: border-box;top: 0;bottom: 0;left: 50%;z-index: 0;}#sk-container-id-8 div.sk-serial {display: flex;flex-direction: column;align-items: center;background-color: white;padding-right: 0.2em;padding-left: 0.2em;position: relative;}#sk-container-id-8 div.sk-item {position: relative;z-index: 1;}#sk-container-id-8 div.sk-parallel {display: flex;align-items: stretch;justify-content: center;background-color: white;position: relative;}#sk-container-id-8 div.sk-item::before, #sk-container-id-8 div.sk-parallel-item::before {content: \"\";position: absolute;border-left: 1px solid gray;box-sizing: border-box;top: 0;bottom: 0;left: 50%;z-index: -1;}#sk-container-id-8 div.sk-parallel-item {display: flex;flex-direction: column;z-index: 1;position: relative;background-color: white;}#sk-container-id-8 div.sk-parallel-item:first-child::after {align-self: flex-end;width: 50%;}#sk-container-id-8 div.sk-parallel-item:last-child::after {align-self: flex-start;width: 50%;}#sk-container-id-8 div.sk-parallel-item:only-child::after {width: 0;}#sk-container-id-8 div.sk-dashed-wrapped {border: 1px dashed gray;margin: 0 0.4em 0.5em 0.4em;box-sizing: border-box;padding-bottom: 0.4em;background-color: white;}#sk-container-id-8 div.sk-label label {font-family: monospace;font-weight: bold;display: inline-block;line-height: 1.2em;}#sk-container-id-8 div.sk-label-container {text-align: center;}#sk-container-id-8 div.sk-container {/* jupyter's `normalize.less` sets `[hidden] { display: none; }` but bootstrap.min.css set `[hidden] { display: none !important; }` so we also need the `!important` here to be able to override the default hidden behavior on the sphinx rendered scikit-learn.org. See: https://github.com/scikit-learn/scikit-learn/issues/21755 */display: inline-block !important;position: relative;}#sk-container-id-8 div.sk-text-repr-fallback {display: none;}</style><div id=\"sk-container-id-8\" class=\"sk-top-container\"><div class=\"sk-text-repr-fallback\"><pre>RandomForestClassifier(max_depth=8, n_estimators=75)</pre><b>In a Jupyter environment, please rerun this cell to show the HTML representation or trust the notebook. <br />On GitHub, the HTML representation is unable to render, please try loading this page with nbviewer.org.</b></div><div class=\"sk-container\" hidden><div class=\"sk-item\"><div class=\"sk-estimator sk-toggleable\"><input class=\"sk-toggleable__control sk-hidden--visually\" id=\"sk-estimator-id-20\" type=\"checkbox\" checked><label for=\"sk-estimator-id-20\" class=\"sk-toggleable__label sk-toggleable__label-arrow\">RandomForestClassifier</label><div class=\"sk-toggleable__content\"><pre>RandomForestClassifier(max_depth=8, n_estimators=75)</pre></div></div></div></div></div>"
      ],
      "text/plain": [
       "RandomForestClassifier(max_depth=8, n_estimators=75)"
      ]
     },
     "execution_count": 90,
     "metadata": {},
     "output_type": "execute_result"
    }
   ],
   "source": [
    "final_model.fit(X_train, y_train)"
   ]
  },
  {
   "cell_type": "code",
   "execution_count": 91,
   "metadata": {},
   "outputs": [
    {
     "data": {
      "text/plain": [
       "0.9826086956521739"
      ]
     },
     "execution_count": 91,
     "metadata": {},
     "output_type": "execute_result"
    }
   ],
   "source": [
    "final_model.score(X_train, y_train)"
   ]
  },
  {
   "cell_type": "code",
   "execution_count": 93,
   "metadata": {},
   "outputs": [
    {
     "data": {
      "text/plain": [
       "0.75"
      ]
     },
     "execution_count": 93,
     "metadata": {},
     "output_type": "execute_result"
    }
   ],
   "source": [
    "final_model.score(X_test, y_test)"
   ]
  },
  {
   "cell_type": "code",
   "execution_count": 94,
   "metadata": {},
   "outputs": [],
   "source": [
    "y_pred = final_model.predict(X_test)"
   ]
  },
  {
   "cell_type": "code",
   "execution_count": 95,
   "metadata": {},
   "outputs": [
    {
     "name": "stdout",
     "output_type": "stream",
     "text": [
      "0.75\n"
     ]
    }
   ],
   "source": [
    "print(f1_score(y_test, y_pred, average = 'micro'))"
   ]
  },
  {
   "cell_type": "code",
   "execution_count": 96,
   "metadata": {},
   "outputs": [
    {
     "name": "stdout",
     "output_type": "stream",
     "text": [
      "0.7251623155229829\n"
     ]
    }
   ],
   "source": [
    "print(f1_score(y_test, y_pred, average = 'macro'))"
   ]
  },
  {
   "cell_type": "code",
   "execution_count": 97,
   "metadata": {},
   "outputs": [
    {
     "name": "stdout",
     "output_type": "stream",
     "text": [
      "0.7425105033609741\n"
     ]
    }
   ],
   "source": [
    "print(f1_score(y_test, y_pred, average = 'weighted'))"
   ]
  },
  {
   "cell_type": "code",
   "execution_count": 98,
   "metadata": {},
   "outputs": [
    {
     "data": {
      "text/plain": [
       "<sklearn.metrics._plot.confusion_matrix.ConfusionMatrixDisplay at 0x2c216d6d350>"
      ]
     },
     "execution_count": 98,
     "metadata": {},
     "output_type": "execute_result"
    },
    {
     "data": {
      "image/png": "[encoded data removed]",
      "text/plain": [
       "<Figure size 640x480 with 2 Axes>"
      ]
     },
     "metadata": {},
     "output_type": "display_data"
    }
   ],
   "source": [
    "ConfusionMatrixDisplay.from_estimator(final_model, X_test, y_test)"
   ]
  },
  {
   "cell_type": "code",
   "execution_count": 99,
   "metadata": {},
   "outputs": [
    {
     "data": {
      "text/plain": [
       "<matplotlib.collections.PathCollection at 0x2c2171e8910>"
      ]
     },
     "execution_count": 99,
     "metadata": {},
     "output_type": "execute_result"
    },
    {
     "data": {
      "image/png": "[encoded data removed]",
      "text/plain": [
       "<Figure size 640x480 with 1 Axes>"
      ]
     },
     "metadata": {},
     "output_type": "display_data"
    }
   ],
   "source": [
    "plt.scatter(X_test.iloc[:, 1], y_test, c='r')\n",
    "plt.scatter(X_test.iloc[:, 1], y_pred, c= 'b')"
   ]
  },
  {
   "cell_type": "code",
   "execution_count": 100,
   "metadata": {},
   "outputs": [
    {
     "data": {
      "text/plain": [
       "array([0.23690537, 0.09084607, 0.09030571, 0.16454961, 0.07878419,\n",
       "       0.15157739, 0.09229972, 0.09473195])"
      ]
     },
     "execution_count": 100,
     "metadata": {},
     "output_type": "execute_result"
    }
   ],
   "source": [
    "final_model.feature_importances_"
   ]
  }
 ],
 "metadata": {
  "kernelspec": {
   "display_name": "Python 3.10.8 64-bit",
   "language": "python",
   "name": "python3"
  },
  "language_info": {
   "codemirror_mode": {
    "name": "ipython",
    "version": 3
   },
   "file_extension": ".py",
   "mimetype": "text/x-python",
   "name": "python",
   "nbconvert_exporter": "python",
   "pygments_lexer": "ipython3",
   "version": "3.11.2"
  },
  "orig_nbformat": 4,
  "vscode": {
   "interpreter": {
    "hash": "02af3f3736e29c13ad519c6b240734e96a93b3b6f7f9cde902c6fdba5763c972"
   }
  }
 },
 "nbformat": 4,
 "nbformat_minor": 2
}
